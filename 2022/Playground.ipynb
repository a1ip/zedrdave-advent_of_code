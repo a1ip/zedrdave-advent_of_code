{
 "cells": [
  {
   "cell_type": "code",
   "execution_count": 219,
   "metadata": {},
   "outputs": [],
   "source": [
    "from aocd import get_data, submit\n",
    "import numpy as np\n",
    "import sys\n",
    "import itertools\n",
    "from collections import defaultdict, Counter\n",
    "import re\n",
    "\n",
    "day = 17\n",
    "year = 2022\n",
    "\n",
    "data = get_data(day=day, year=year)\n",
    "\n",
    "# data\n",
    "# data = \">>><<><>><<<>><>>><<<>>><<<><<<>><>><<>>\""
   ]
  },
  {
   "cell_type": "code",
   "execution_count": null,
   "metadata": {},
   "outputs": [],
   "source": []
  },
  {
   "cell_type": "code",
   "execution_count": null,
   "metadata": {},
   "outputs": [],
   "source": [
    "rocks = \"\"\"####\n",
    "\n",
    ".#.\n",
    "###\n",
    ".#.\n",
    "\n",
    "..#\n",
    "..#\n",
    "###\n",
    "\n",
    "#\n",
    "#\n",
    "#\n",
    "#\n",
    "\n",
    "##\n",
    "##\"\"\".split(\"\\n\\n\")\n",
    "\n",
    "rocks = [set((x,y) \n",
    "           for y,l in enumerate(reversed(r.split(\"\\n\"))) for x,c in enumerate(l) if c == '#')\n",
    "         for r in rocks]\n",
    "\n",
    "rocks[2]\n"
   ]
  },
  {
   "cell_type": "code",
   "execution_count": null,
   "metadata": {},
   "outputs": [],
   "source": []
  },
  {
   "cell_type": "code",
   "execution_count": 280,
   "metadata": {},
   "outputs": [],
   "source": [
    "width = 7\n",
    "\n",
    "move = lambda r,d: {(x+d[0],y+d[1]) for x,y in r}\n",
    "jets = {'<': (-1,0), '>': (1,0)}\n",
    "\n",
    "height = lambda s: max(y for _,y in s)\n",
    "is_valid = lambda rock,cave: all(0 <= x < width for x,_ in rock) and (len(rock & cave) == 0)\n",
    "\n",
    "\n",
    "def print_cave(cave, rock={}):\n",
    "    for y in reversed(range(0, height(cave | rock)+1)):\n",
    "        print('|', end='')\n",
    "        for x in range(width):\n",
    "            print('#' if (x,y) in cave else ('@' if (x,y) in rock else '.'), end='')\n",
    "        print('|')\n",
    "    print(\"\")\n",
    "\n",
    "\n",
    "def play_game(tot_rocks,\n",
    "              cycle_height_start=False, cycle_height_len=False):\n",
    "    cave = set([(x,0) for x in range(width)])\n",
    "\n",
    "    true_cycle_start = False\n",
    "    skipped_cycles = 0\n",
    "    cycle_rocks_len = 0\n",
    "    \n",
    "    j = 0\n",
    "    for num_rocks in range(tot_rocks):\n",
    "        h = height(cave)\n",
    "        \n",
    "        # Skip cycles if any:\n",
    "        if cycle_height_start:\n",
    "            if num_rocks == tot_rocks - skipped_cycles*cycle_rocks_len:\n",
    "                print(f\"Reached {num_rocks} rocks + {skipped_rocks} skipped -> \",\n",
    "                    f\"{num_rocks + skipped_rocks}\")\n",
    "                \n",
    "                real_height = h + skipped_cycles*cycle_height_len\n",
    "                print(f\"Height: {h} + {skipped_cycles*cycle_height_len} = \",\n",
    "                    f\"{real_height}\")\n",
    "                return cave, real_height\n",
    "\n",
    "            if not true_cycle_start:\n",
    "                if (h > cycle_height_start):\n",
    "                    print(f\"Cycle starts at: {num_rocks} rocks | height: {h}\")\n",
    "                    true_cycle_start = h\n",
    "                    cycle_rocks_start = num_rocks\n",
    "            elif not skipped_cycles and (h-true_cycle_start == cycle_height_len):\n",
    "                print(f\"Full cycle at: {num_rocks} rocks | height: {h}\")\n",
    "                cycle_rocks_len = num_rocks-cycle_rocks_start\n",
    "                skipped_cycles = (tot_rocks-num_rocks) // cycle_rocks_len\n",
    "                skipped_rocks = skipped_cycles*cycle_rocks_len\n",
    "                        \n",
    "                print(f\"Cycle length in rocks: {cycle_rocks_len}\")\n",
    "                print(f\"Skipping {skipped_cycles} cycles: \",\n",
    "                    f\"{skipped_rocks} rocks | {skipped_cycles*cycle_height_len} height\")\n",
    "\n",
    "        \n",
    "        rock = move(rocks[num_rocks % len(rocks)], (2, h+4))\n",
    "\n",
    "        while rock:\n",
    "            jet = jets[data[j % len(data)]]\n",
    "            j += 1\n",
    "            new_pos = move(rock, jet)\n",
    "            if is_valid(new_pos, cave):\n",
    "                rock = new_pos\n",
    "            new_pos = move(rock, (0, -1))\n",
    "            if is_valid(new_pos, cave):\n",
    "                rock = new_pos\n",
    "            else:\n",
    "                cave |= rock\n",
    "                rock = set()\n",
    "                \n",
    "    return cave, height(cave)\n"
   ]
  },
  {
   "cell_type": "code",
   "execution_count": 283,
   "metadata": {},
   "outputs": [
    {
     "name": "stdout",
     "output_type": "stream",
     "text": [
      "15942\n"
     ]
    }
   ],
   "source": [
    "cave, part1 = play_game(2022)\n",
    "print(\"Part 1:\", part1)"
   ]
  },
  {
   "cell_type": "code",
   "execution_count": 289,
   "metadata": {},
   "outputs": [
    {
     "name": "stdout",
     "output_type": "stream",
     "text": [
      "Found 260 markers\n",
      "5961 3178 395\n",
      "Cycle start: 395\n",
      "Cycle len: 2783\n",
      "Cycle starts at: 242 rocks | height: 398\n",
      "Full cycle at: 1987 rocks | height: 3181\n",
      "Cycle length in rocks: 1745\n",
      "Skipping 573065901 cycles:  999999997245 rocks | 1594842402483 height\n",
      "Reached 2755 rocks + 999999997245 skipped ->  1000000000000\n",
      "Height: 4399 + 1594842402483 =  1594842406882\n",
      "\n",
      "Part 2: 1594842406882\n"
     ]
    }
   ],
   "source": [
    "# cave, h = play_game(10000)\n",
    "\n",
    "marker_x_pos = range(1, 7) # (0, 7) works with real data but not test\n",
    "markers = sorted({y for _,y in cave if all((x,y) in cave for x in marker_x_pos)})\n",
    "print(f\"Found {len(markers)} markers\")\n",
    "\n",
    "cycle_height_start = False\n",
    "for i,y2 in enumerate(markers):\n",
    "    for y1 in markers[i+1:]:\n",
    "        # if y2-y1 < 10:\n",
    "        #     continue\n",
    "        y3 = 2 * y2 - y1\n",
    "        if y3 not in markers:\n",
    "            continue\n",
    "        block1 = {(x,y-y2) for x,y in cave if y2 <= y < y1}\n",
    "        block2 = {(x,y-y3) for x,y in cave if y3 <= y < y2}\n",
    "        if block1 == block2:\n",
    "            print(y1, y2, y3)\n",
    "            assert y1-y2 == y2-y3\n",
    "            cycle_height_len = y1-y2\n",
    "            cycle_height_start = y3\n",
    "            print(\"Cycle start:\", cycle_height_start)\n",
    "            print(\"Cycle len:\", cycle_height_len)\n",
    "            break\n",
    "    if cycle_height_start:\n",
    "        break\n",
    "    \n",
    "assert cycle_height_start\n",
    "\n",
    "_, h = play_game(1000000000000, \n",
    "                      cycle_height_start=cycle_height_start,\n",
    "                      cycle_height_len=cycle_height_len)\n",
    "\n",
    "print(\"\\nPart 2:\", h)"
   ]
  },
  {
   "cell_type": "code",
   "execution_count": 236,
   "metadata": {},
   "outputs": [
    {
     "name": "stdout",
     "output_type": "stream",
     "text": [
      "104\n",
      "6043 3260 477\n",
      "Cycle start: 477\n",
      "Cycle len: 2783\n"
     ]
    }
   ],
   "source": []
  },
  {
   "cell_type": "code",
   "execution_count": 215,
   "metadata": {},
   "outputs": [
    {
     "data": {
      "text/plain": [
       "0"
      ]
     },
     "execution_count": 215,
     "metadata": {},
     "output_type": "execute_result"
    }
   ],
   "source": [
    "# 1514285714288 - (2024 + 680272106*2226 + 4318)\n",
    "\n",
    "1514285714288 - 1514285714288"
   ]
  },
  {
   "cell_type": "code",
   "execution_count": 211,
   "metadata": {},
   "outputs": [
    {
     "data": {
      "text/plain": [
       "(28571428570, 13)"
      ]
     },
     "execution_count": 211,
     "metadata": {},
     "output_type": "execute_result"
    }
   ],
   "source": [
    "# 1000000000000 \n",
    "(1000000000000-37) // 35, (1000000000000-37) % 35"
   ]
  },
  {
   "cell_type": "code",
   "execution_count": null,
   "metadata": {},
   "outputs": [],
   "source": [
    "Cycle starts: 37 bricks | height: 63\n",
    "full cycle: 72 tot bricks | tot height: 116\n",
    "cycle brick length: 35\n"
   ]
  },
  {
   "cell_type": "code",
   "execution_count": null,
   "metadata": {},
   "outputs": [],
   "source": [
    "# min_flows = dict()\n",
    "# # nx.bfs_tree(G, 'AA', depth_limit=30)\n",
    "#     # print(t)\n",
    "# cur_states = {('AA', (), 0)}\n",
    "# tot_minutes = 30\n",
    "\n",
    "# for minute in range(1, tot_minutes+1):\n",
    "#     next_states = set()\n",
    "#     for cur_node, open_valves, flow in cur_states:\n",
    "#         flow_rate = sum(flows[n] for n in open_valves)\n",
    "#         min_flow = flow + flow_rate * (tot_minutes-minute)\n",
    "#         # print(f\"Exploring: {cur_node} {open_valves} {flow}\")\n",
    "#         if min_flows.get(cur_node, -1) >= min_flow:\n",
    "#             # print(f\" -> Pruning: {flow} + {tot_minutes-minute} * {flow_rate} -> {min_flow} <= {min_flows[cur_node]}\")\n",
    "#             continue\n",
    "#         # print(f\" Adding min_flow: {cur_node} -> {min_flow}\")\n",
    "#         min_flows[cur_node] = min_flow\n",
    "#         flow += flow_rate\n",
    "#         if (cur_node not in open_valves) and flows[cur_node]:\n",
    "#             next_states.add((cur_node, tuple(set([*open_valves, cur_node])), flow))\n",
    "#         for next_node in G.neighbors(cur_node):\n",
    "#             next_states.add((next_node, open_valves, flow))\n",
    "#     if len(next_states) == 0:\n",
    "#         pprint(cur_states)\n",
    "#         pprint(min_flows)\n",
    "#     print(f\"Minute {minute}: max flow = {max(f for _,_,f in next_states)} ({len(next_states)} active states)\")\n",
    "#     cur_states = next_states\n",
    "    \n",
    "#     # pprint(min_flows)"
   ]
  },
  {
   "cell_type": "code",
   "execution_count": null,
   "metadata": {},
   "outputs": [],
   "source": [
    "# sum(v for k,v in flows.items() if k in ('BB', 'DD', 'HH'))\n",
    "\n",
    "    # ('BB', 'HH') ('DD', 'JJ\n",
    "# flows"
   ]
  },
  {
   "cell_type": "code",
   "execution_count": null,
   "metadata": {},
   "outputs": [],
   "source": [
    "all_valves = {k for k,v in flows.items() if v}\n",
    "min_flows = dict()\n",
    "# nx.bfs_tree(G, 'AA', depth_limit=30)\n",
    "    # print(t)\n",
    "cur_states = {(('AA', 'AA'), (), 0, ())}\n",
    "tot_minutes = 26\n",
    "\n",
    "for minute in range(1, tot_minutes+1):\n",
    "    print(f\"Minute {minute}: max flow = {max([0, *min_flows.values()])} ({len(cur_states)} active states)\\n\")\n",
    "        \n",
    "    next_states = set()\n",
    "    for cur_nodes, open_valves, flow, prev_nodes in  sorted(cur_states, key=lambda x: x[2], reverse=True):\n",
    "        flow_rate = sum(flows[n] for n in open_valves)\n",
    "        flow += flow_rate\n",
    "        \n",
    "        min_flow = flow + flow_rate * (tot_minutes-minute)\n",
    "\n",
    "        if min_flows.get(cur_nodes, -1) >= min_flow:\n",
    "            continue\n",
    "        \n",
    "        min_flows[cur_nodes] = min_flow\n",
    "        \n",
    "        if len(open_valves) == len(all_valves):\n",
    "            continue\n",
    "        \n",
    "            \n",
    "        next_states_n = [[], []]\n",
    "        for i,cur_node in enumerate(cur_nodes):\n",
    "            next_states_n[i] = [([(next_node, []) \n",
    "                                 for next_node in G.neighbors(cur_node)\n",
    "                                 if next_node not in (prev_nodes)]\n",
    "                                + ([(cur_node, [cur_node])] if flows[cur_node] and cur_node not in open_valves else []))\n",
    "                                \n",
    "            ]\n",
    "        debug = {(\n",
    "            tuple(sorted([cur_node1, cur_node2])), \n",
    "            tuple(sorted(set([*valve1, *valve2, *open_valves]))), \n",
    "            flow,\n",
    "            (cur_nodes)\n",
    "        )\n",
    "                            for cur_node1, valve1 in next_states_n[0]\n",
    "                            for cur_node2, valve2 in next_states_n[1]\n",
    "                            }\n",
    "\n",
    "        next_states.update(debug)\n",
    "        \n",
    "    cur_states = next_states\n",
    "\n",
    "    if len(cur_states) == 0:\n",
    "        print(f\"No more moves.\")\n",
    "        break\n",
    "    \n",
    "print(f\" Max flow: {max(min_flows.values())}\")\n",
    "    # pprint(min_flows)\n",
    "    # print(max(min_flows.values()), '\\n')\n",
    "    # 2532\n",
    "    # 2349\n",
    "    # 2715\n",
    "    \n",
    "    # ('BB', 'HH') ('DD', 'JJ"
   ]
  },
  {
   "cell_type": "code",
   "execution_count": null,
   "metadata": {},
   "outputs": [],
   "source": [
    "max(min_flows.values())"
   ]
  },
  {
   "cell_type": "code",
   "execution_count": null,
   "metadata": {},
   "outputs": [],
   "source": [
    "print(f\"\\nMinute {minute}: max flow = {max(f+sum(flows[n] for n in o) for _,o,f in cur_states)} ({len(cur_states)} active states)\\n\")"
   ]
  },
  {
   "cell_type": "code",
   "execution_count": null,
   "metadata": {},
   "outputs": [],
   "source": [
    "p, v, f, _ = max(cur_states, key=lambda x:x[2])"
   ]
  },
  {
   "cell_type": "code",
   "execution_count": null,
   "metadata": {},
   "outputs": [],
   "source": [
    "len(v)"
   ]
  },
  {
   "cell_type": "code",
   "execution_count": null,
   "metadata": {},
   "outputs": [],
   "source": [
    "sum(f > 0 for f in flows.values())"
   ]
  },
  {
   "cell_type": "code",
   "execution_count": null,
   "metadata": {},
   "outputs": [],
   "source": []
  }
 ],
 "metadata": {
  "kernelspec": {
   "display_name": "Python 3.10.8 64-bit",
   "language": "python",
   "name": "python3"
  },
  "language_info": {
   "codemirror_mode": {
    "name": "ipython",
    "version": 3
   },
   "file_extension": ".py",
   "mimetype": "text/x-python",
   "name": "python",
   "nbconvert_exporter": "python",
   "pygments_lexer": "ipython3",
   "version": "3.10.8"
  },
  "vscode": {
   "interpreter": {
    "hash": "aee8b7b246df8f9039afb4144a1f6fd8d2ca17a180786b69acc140d282b71a49"
   }
  }
 },
 "nbformat": 4,
 "nbformat_minor": 4
}
