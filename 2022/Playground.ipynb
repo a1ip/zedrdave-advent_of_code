{
 "cells": [
  {
   "cell_type": "code",
   "execution_count": 53,
   "metadata": {},
   "outputs": [],
   "source": [
    "from aocd import get_data, submit\n",
    "import numpy as np\n",
    "import sys\n",
    "import itertools\n",
    "from collections import defaultdict, Counter\n",
    "import re\n",
    "\n",
    "day = 14\n",
    "year = 2022\n",
    "\n",
    "data = get_data(day=day, year=year)"
   ]
  },
  {
   "cell_type": "code",
   "execution_count": 45,
   "metadata": {},
   "outputs": [],
   "source": [
    "data = \"\"\"498,4 -> 498,6 -> 496,6\n",
    "503,4 -> 502,4 -> 502,9 -> 494,9\"\"\""
   ]
  },
  {
   "cell_type": "code",
   "execution_count": 46,
   "metadata": {},
   "outputs": [],
   "source": []
  },
  {
   "cell_type": "code",
   "execution_count": 70,
   "metadata": {},
   "outputs": [
    {
     "name": "stdout",
     "output_type": "stream",
     "text": [
      "Part 1: 715\n",
      "Bottom: 165\n",
      "Part 2: 25248\n"
     ]
    }
   ],
   "source": [
    "rocks = [[list(map(int, c.split(','))) for c in l.split(\" -> \")] for l in data.split(\"\\n\")]\n",
    "rock_set = set(x for l in rocks for s,e in zip(l, l[1:]) for x in r_range(s, e))\n",
    "\n",
    "def r_range(s, e):\n",
    "    if (s[0] > e[0]) or (s[1] > e[1]):\n",
    "        return r_range(e, s)\n",
    "    if s[0] == e[0]:\n",
    "        return [(s[0], i) for i in range(s[1], e[1]+1)]\n",
    "    else:\n",
    "        return [(i, s[1]) for i in range(s[0], e[0]+1)]\n",
    "\n",
    "\n",
    "def print_cave(rock_set, sand_set=set()):\n",
    "    bottom = max(y for _,y in rock_set | sand_set)\n",
    "    for j in range(0, bottom+1):\n",
    "        for i in range(min(x for x,_ in rock_set | sand_set),\n",
    "                       max(x for x,_ in rock_set | sand_set)+1):\n",
    "            if (j == bottom) or (i,j) in rock_set:\n",
    "                print('#', end='')\n",
    "            elif (i,j) in sand_set:\n",
    "                print('o', end='')\n",
    "            else:\n",
    "                print('.', end='')\n",
    "        print('')\n",
    "    print('')\n",
    "    \n",
    "move = lambda x,y: ((x+dx,y+dy) for dx,dy in ((0,1), (-1,1), (1,1)))\n",
    "\n",
    "# print_cave(rock_set=rock_set)\n",
    "bottom = max(y for _,y in rock_set)\n",
    "reached_the_void = False\n",
    "sand_set = set()\n",
    "while not reached_the_void:\n",
    "    sand = (500, 0)\n",
    "    while not reached_the_void:\n",
    "        next_sand = next((s for s in move(*sand) if (s not in rock_set) and (s not in sand_set)), None)\n",
    "        if next_sand is None:\n",
    "            sand_set.add(sand)\n",
    "            break\n",
    "        if next_sand[1] > bottom:\n",
    "            reached_the_void = True\n",
    "            break\n",
    "        sand = next_sand\n",
    "\n",
    "# print_cave(rock_set=rock_set, sand_set=sand_set)\n",
    "print('Part 1:', len(sand_set))\n",
    "\n",
    "bottom = max(y for _,y in rock_set) + 2\n",
    "reached_the_top = False\n",
    "sand_set = set()\n",
    "while not reached_the_top:\n",
    "    sand = (500, 0)\n",
    "    while not reached_the_top:\n",
    "        next_sand = next((s for s in move(*sand) if (s not in rock_set) and (s not in sand_set)), None)\n",
    "        if next_sand is None or next_sand[1] >= bottom:\n",
    "            sand_set.add(sand)\n",
    "            if sand == (500, 0):\n",
    "                reached_the_top = True\n",
    "            break\n",
    "        sand = next_sand\n",
    "\n",
    "# print_cave(rock_set=rock_set, sand_set=sand_set)\n",
    "print('Part 2:', len(sand_set))\n",
    "        \n",
    "        "
   ]
  },
  {
   "cell_type": "code",
   "execution_count": 67,
   "metadata": {},
   "outputs": [
    {
     "name": "stdout",
     "output_type": "stream",
     "text": [
      "Bottom: 11\n",
      "..........o..........\n",
      ".........ooo.........\n",
      "........ooooo........\n",
      ".......ooooooo.......\n",
      "......oo#ooo##o......\n",
      ".....ooo#ooo#ooo.....\n",
      "....oo###ooo#oooo....\n",
      "...oooo.oooo#ooooo...\n",
      "..oooooooooo#oooooo..\n",
      ".ooo#########ooooooo.\n",
      "#####################\n",
      "\n",
      "Part 2: 93\n"
     ]
    }
   ],
   "source": []
  },
  {
   "cell_type": "code",
   "execution_count": null,
   "metadata": {},
   "outputs": [],
   "source": []
  },
  {
   "cell_type": "code",
   "execution_count": 1060,
   "metadata": {},
   "outputs": [
    {
     "data": {
      "text/plain": [
       "6314"
      ]
     },
     "execution_count": 1060,
     "metadata": {},
     "output_type": "execute_result"
    }
   ],
   "source": [
    "len(grid)"
   ]
  },
  {
   "cell_type": "code",
   "execution_count": null,
   "metadata": {},
   "outputs": [],
   "source": []
  },
  {
   "cell_type": "code",
   "execution_count": null,
   "metadata": {},
   "outputs": [],
   "source": []
  },
  {
   "cell_type": "code",
   "execution_count": 60,
   "metadata": {},
   "outputs": [
    {
     "data": {
      "text/plain": [
       "['D', 'C']"
      ]
     },
     "execution_count": 60,
     "metadata": {},
     "output_type": "execute_result"
    }
   ],
   "source": []
  }
 ],
 "metadata": {
  "kernelspec": {
   "display_name": "Python 3",
   "language": "python",
   "name": "python3"
  },
  "language_info": {
   "codemirror_mode": {
    "name": "ipython",
    "version": 3
   },
   "file_extension": ".py",
   "mimetype": "text/x-python",
   "name": "python",
   "nbconvert_exporter": "python",
   "pygments_lexer": "ipython3",
   "version": "3.9.15"
  },
  "vscode": {
   "interpreter": {
    "hash": "a665b5d41d17b532ea9890333293a1b812fa0b73c9c25c950b3cedf1bebd0438"
   }
  }
 },
 "nbformat": 4,
 "nbformat_minor": 4
}
