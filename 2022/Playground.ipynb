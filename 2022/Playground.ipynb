{
 "cells": [
  {
   "cell_type": "code",
   "execution_count": 1052,
   "metadata": {},
   "outputs": [],
   "source": [
    "from aocd import get_data, submit\n",
    "import numpy as np\n",
    "import sys\n",
    "import itertools\n",
    "from collections import defaultdict, Counter\n",
    "import re\n",
    "\n",
    "day = 12\n",
    "year = 2022\n",
    "\n",
    "data = get_data(day=day, year=year)\n",
    "\n",
    "# submit(cube.sum(), part=\"a\", day=day, year=year)\n",
    "\n",
    "# print(data)"
   ]
  },
  {
   "cell_type": "code",
   "execution_count": 1023,
   "metadata": {},
   "outputs": [],
   "source": []
  },
  {
   "cell_type": "code",
   "execution_count": 1031,
   "metadata": {},
   "outputs": [
    {
     "data": {
      "text/plain": [
       "'5'"
      ]
     },
     "execution_count": 1031,
     "metadata": {},
     "output_type": "execute_result"
    }
   ],
   "source": [
    "chr(53\n",
    "    )"
   ]
  },
  {
   "cell_type": "code",
   "execution_count": 1053,
   "metadata": {},
   "outputs": [
    {
     "name": "stdout",
     "output_type": "stream",
     "text": [
      "abaaaaac\n",
      "abaaaaaa\n",
      "abaaaaaa\n",
      "abaaacac\n",
      "abaaaccc\n"
     ]
    }
   ],
   "source": [
    "# grid = np.array([[c if c in \"ES\" else ord(c) - ord('a') for c in l] for l in data.split('\\n')])\n",
    "\n"
   ]
  },
  {
   "cell_type": "code",
   "execution_count": 1070,
   "metadata": {},
   "outputs": [
    {
     "name": "stdout",
     "output_type": "stream",
     "text": [
      "Part 1: 472\n",
      "Part 2: 465\n"
     ]
    }
   ],
   "source": [
    "grid = {(i,j):ord(c) - ord('a') for j,l in enumerate(data.split('\\n')) for i,c in enumerate(l)}\n",
    "end, start = [next(k for k,v in grid.items() if v == i) for i in (-28,-14)]\n",
    "grid[end] = 25\n",
    "grid[start] = 0\n",
    "\n",
    "add = lambda x,d: (x[0]+d[0], x[1]+d[1])\n",
    "\n",
    "dirs = [(-1, 0), (1, 0), (0, -1), (0, 1)]\n",
    "stack = [end]\n",
    "dists = defaultdict(lambda: sys.maxsize)\n",
    "dists[end] = 0\n",
    "\n",
    "while len(stack):\n",
    "    coords = stack.pop()\n",
    "    for dir in dirs:\n",
    "        neigh = add(coords, dir)\n",
    "        if neigh not in grid:\n",
    "            continue\n",
    "        if (dists[neigh] > dists[coords] + 1) and (grid[neigh] >= grid[coords] - 1):\n",
    "            dists[neigh] = dists[coords] + 1\n",
    "            stack.append(neigh)\n",
    "    \n",
    "print('Part 1:', dists[start])\n",
    "print('Part 2:', min(dists[k] for k,v in grid.items() if v == 0))"
   ]
  },
  {
   "cell_type": "code",
   "execution_count": 1067,
   "metadata": {},
   "outputs": [
    {
     "data": {
      "text/plain": [
       "465"
      ]
     },
     "execution_count": 1067,
     "metadata": {},
     "output_type": "execute_result"
    }
   ],
   "source": [
    "min([dists[k] for k,v in grid.items() if v == 0])"
   ]
  },
  {
   "cell_type": "code",
   "execution_count": 1060,
   "metadata": {},
   "outputs": [
    {
     "data": {
      "text/plain": [
       "6314"
      ]
     },
     "execution_count": 1060,
     "metadata": {},
     "output_type": "execute_result"
    }
   ],
   "source": [
    "len(grid)"
   ]
  },
  {
   "cell_type": "code",
   "execution_count": null,
   "metadata": {},
   "outputs": [],
   "source": []
  },
  {
   "cell_type": "code",
   "execution_count": null,
   "metadata": {},
   "outputs": [],
   "source": []
  },
  {
   "cell_type": "code",
   "execution_count": 60,
   "metadata": {},
   "outputs": [
    {
     "data": {
      "text/plain": [
       "['D', 'C']"
      ]
     },
     "execution_count": 60,
     "metadata": {},
     "output_type": "execute_result"
    }
   ],
   "source": []
  }
 ],
 "metadata": {
  "kernelspec": {
   "display_name": "Python 3.9.15 64-bit",
   "language": "python",
   "name": "python3"
  },
  "language_info": {
   "codemirror_mode": {
    "name": "ipython",
    "version": 3
   },
   "file_extension": ".py",
   "mimetype": "text/x-python",
   "name": "python",
   "nbconvert_exporter": "python",
   "pygments_lexer": "ipython3",
   "version": "3.9.15"
  },
  "vscode": {
   "interpreter": {
    "hash": "a665b5d41d17b532ea9890333293a1b812fa0b73c9c25c950b3cedf1bebd0438"
   }
  }
 },
 "nbformat": 4,
 "nbformat_minor": 4
}
