{
 "cells": [
  {
   "cell_type": "code",
   "execution_count": 845,
   "metadata": {},
   "outputs": [
    {
     "name": "stdout",
     "output_type": "stream",
     "text": [
      "Monkey 0:\n",
      "  Starting items: 71, 56, 50, 73\n",
      "  Operation: new = old * 11\n",
      "  Test: divisible by 13\n",
      "    If true: throw to monkey 1\n",
      "    If false: throw to monkey 7\n",
      "\n",
      "Monkey 1:\n",
      "  Starting items: 70, 89, 82\n",
      "  Operation: new = old + 1\n",
      "  Test: divisible by 7\n",
      "    If true: throw to monkey 3\n",
      "    If false: throw to monkey 6\n",
      "\n",
      "Monkey 2:\n",
      "  Starting items: 52, 95\n",
      "  Operation: new = old * old\n",
      "  Test: divisible by 3\n",
      "    If true: throw to monkey 5\n",
      "    If false: throw to monkey 4\n",
      "\n",
      "Monkey 3:\n",
      "  Starting items: 94, 64, 69, 87, 70\n",
      "  Operation: new = old + 2\n",
      "  Test: divisible by 19\n",
      "    If true: throw to monkey 2\n",
      "    If false: throw to monkey 6\n",
      "\n",
      "Monkey 4:\n",
      "  Starting items: 98, 72, 98, 53, 97, 51\n",
      "  Operation: new = old + 6\n",
      "  Test: divisible by 5\n",
      "    If true: throw to monkey 0\n",
      "    If false: throw to monkey 5\n",
      "\n",
      "Monkey 5:\n",
      "  Starting items: 79\n",
      "  Operation: new = old + 7\n",
      "  Test: divisible by 2\n",
      "    If true: throw to monkey 7\n",
      "    If false: throw to monkey 0\n",
      "\n",
      "Monkey 6:\n",
      "  Starting items: 77, 55, 63, 93, 66, 90, 88, 71\n",
      "  Operation: new = old * 7\n",
      "  Test: divisible by 11\n",
      "    If true: throw to monkey 2\n",
      "    If false: throw to monkey 4\n",
      "\n",
      "Monkey 7:\n",
      "  Starting items: 54, 97, 87, 70, 59, 82, 59\n",
      "  Operation: new = old + 8\n",
      "  Test: divisible by 17\n",
      "    If true: throw to monkey 1\n",
      "    If false: throw to monkey 3\n"
     ]
    }
   ],
   "source": [
    "from aocd import get_data, submit\n",
    "import numpy as np\n",
    "import sys\n",
    "import itertools\n",
    "from collections import defaultdict, Counter\n",
    "import re\n",
    "\n",
    "day = 11\n",
    "year = 2022\n",
    "\n",
    "data = get_data(day=day, year=year)\n",
    "\n",
    "# submit(cube.sum(), part=\"a\", day=day, year=year)\n",
    "\n",
    "print(data)"
   ]
  },
  {
   "cell_type": "code",
   "execution_count": 765,
   "metadata": {},
   "outputs": [],
   "source": [
    "data = \"\"\"Monkey 0:\n",
    "  Starting items: 79, 98\n",
    "  Operation: new = old * 19\n",
    "  Test: divisible by 23\n",
    "    If true: throw to monkey 2\n",
    "    If false: throw to monkey 3\n",
    "\n",
    "Monkey 1:\n",
    "  Starting items: 54, 65, 75, 74\n",
    "  Operation: new = old + 6\n",
    "  Test: divisible by 19\n",
    "    If true: throw to monkey 2\n",
    "    If false: throw to monkey 0\n",
    "\n",
    "Monkey 2:\n",
    "  Starting items: 79, 60, 97\n",
    "  Operation: new = old * old\n",
    "  Test: divisible by 13\n",
    "    If true: throw to monkey 1\n",
    "    If false: throw to monkey 3\n",
    "\n",
    "Monkey 3:\n",
    "  Starting items: 74\n",
    "  Operation: new = old + 3\n",
    "  Test: divisible by 17\n",
    "    If true: throw to monkey 0\n",
    "    If false: throw to monkey 1\"\"\""
   ]
  },
  {
   "cell_type": "code",
   "execution_count": 816,
   "metadata": {},
   "outputs": [
    {
     "data": {
      "text/plain": [
       "96578"
      ]
     },
     "execution_count": 816,
     "metadata": {},
     "output_type": "execute_result"
    }
   ],
   "source": []
  },
  {
   "cell_type": "code",
   "execution_count": 848,
   "metadata": {},
   "outputs": [
    {
     "name": "stdout",
     "output_type": "stream",
     "text": [
      "66802\n"
     ]
    }
   ],
   "source": [
    "blocks = [[l.split(': ')[1] for l in block.split(\"\\n\")[1:]] for block in data.split(\"\\n\\n\")]\n",
    "\n",
    "monkeys = [\n",
    "    ([int(i) for i in start.split(\", \")], \n",
    "    op_str.split(' = ')[1], \n",
    "    [int(t.split()[-1]) for t in test_args]) \n",
    " for start,op_str,*test_args in blocks]\n",
    "    \n",
    "op = lambda op_str,old: eval(op_str) // 3\n",
    "test = lambda div_by,t,f,val: f if val%div_by else t\n",
    "\n",
    "inspections = [0]*len(monkeys)\n",
    "\n",
    "for round in range(20):\n",
    "    for i, (objects,op_str,test_args) in enumerate(monkeys):\n",
    "        for obj in objects:\n",
    "            obj = op(op_str, obj)\n",
    "            monkeys[test(*test_args, obj)][0].append(obj)\n",
    "        inspections[i] += len(objects)\n",
    "        objects[:] = []\n",
    "            \n",
    "# for i,m in enumerate(monkeys):\n",
    "#     print(i, m[0])\n",
    "    \n",
    "m1, m2 = sorted(inspections)[-2:]\n",
    "print(m1*m2)"
   ]
  },
  {
   "cell_type": "code",
   "execution_count": 855,
   "metadata": {},
   "outputs": [
    {
     "name": "stdout",
     "output_type": "stream",
     "text": [
      "66802\n"
     ]
    }
   ],
   "source": [
    "import numpy as np\n",
    "\n",
    "blocks = [[l.split(': ')[1] for l in block.split(\"\\n\")[1:]] for block in data.split(\"\\n\\n\")]\n",
    "\n",
    "tot_rounds = 20\n",
    "extra_rule = ' // 3'\n",
    "\n",
    "monkeys = [\n",
    "    ([int(i) for i in start.split(\", \")], \n",
    "    op_str.split(' = ')[1], \n",
    "    [int(t.split()[-1]) for t in test_args]) \n",
    " for start,op_str,*test_args in blocks]\n",
    "    \n",
    "mod_val = np.prod([m[2][0] for m in monkeys])\n",
    "\n",
    "op = lambda op_str,old: eval(f\"({op_str}){extra_rule} % {mod_val}\")\n",
    "test = lambda div_by,t,f,val: f if val%div_by else t\n",
    "\n",
    "inspections = [0]*len(monkeys)\n",
    "\n",
    "for round in range(tot_rounds):\n",
    "    for i, (objects,op_str,test_args) in enumerate(monkeys):\n",
    "        for obj in objects:\n",
    "            obj = op(op_str, obj)\n",
    "            monkeys[test(*test_args, obj)][0].append(obj)\n",
    "        inspections[i] += len(objects)\n",
    "        objects[:] = []\n",
    "            \n",
    "# for i,m in enumerate(monkeys):\n",
    "#     print(i, m[0])\n",
    "\n",
    "m1, m2 = sorted(inspections)[-2:]\n",
    "print(m1*m2)"
   ]
  },
  {
   "cell_type": "code",
   "execution_count": 810,
   "metadata": {},
   "outputs": [
    {
     "name": "stdout",
     "output_type": "stream",
     "text": [
      "0 [11177067658820655620059127953910208049, 69091264919368945253705172586649917316629, 437765284184743071223940162023881344230680, 843565370584631059762690886495521558288758, 580080386464772677915717618845677139721993078, 173972242326876201666612793205724895418812113211643584759]\n",
      "1 [1368353957993036415454840837978342947595408861409253, 6726782135096948773522899814723, 329330942975254545383024023041826496051996868563568240125839626676, 7223640457929552026175308189194558783010275257855913447]\n",
      "2 []\n",
      "3 []\n",
      "0\n",
      "[False, False, False, False]\n",
      "[False, False, False, False]\n",
      "[False, False, False, False]\n",
      "[False, False, False, False]\n",
      "[False, False, True, False]\n",
      "[False, False, False, False]\n",
      "1\n",
      "[False, False, False, False]\n",
      "[False, False, False, False]\n",
      "[False, False, False, False]\n",
      "[False, False, False, False]\n",
      "2\n",
      "3\n"
     ]
    }
   ],
   "source": [
    "for i, (objects,op_str,test_args) in enumerate(monkeys):\n",
    "    for obj in objects:\n",
    "        obj = op(op_str, obj)\n",
    "        monkeys[test(*test_args, obj)][0].append(obj)\n",
    "    inspections[i] += len(objects)\n",
    "    objects[:] = []\n",
    "            \n",
    "for i,m in enumerate(monkeys):\n",
    "    print(i, m[0])\n",
    "\n",
    "for i,m in enumerate(monkeys):\n",
    "    print(i)\n",
    "    for x in m[0]:\n",
    "        print([(x%d) == 0 for d in (23,19,13,17)])\n",
    "\n",
    "# m1, m2 = sorted(inspections)[-2:]\n",
    "# print(m1*m2)"
   ]
  },
  {
   "cell_type": "code",
   "execution_count": 799,
   "metadata": {},
   "outputs": [
    {
     "name": "stdout",
     "output_type": "stream",
     "text": [
      "0\n",
      "[False, False, False, False]\n",
      "[False, False, False, False]\n",
      "1\n",
      "[False, False, False, False]\n",
      "[False, False, False, False]\n",
      "[False, False, False, False]\n",
      "[False, False, True, False]\n",
      "[False, False, True, False]\n",
      "[False, False, False, False]\n",
      "[False, False, False, False]\n",
      "[False, False, False, False]\n",
      "2\n",
      "3\n"
     ]
    }
   ],
   "source": [
    "for i,m in enumerate(monkeys):\n",
    "    print(i)\n",
    "    for x in m[0]:\n",
    "        print([(x%d) == 0 for d in (23,19,13,17)])\n"
   ]
  },
  {
   "cell_type": "code",
   "execution_count": null,
   "metadata": {},
   "outputs": [],
   "source": []
  },
  {
   "cell_type": "code",
   "execution_count": null,
   "metadata": {},
   "outputs": [],
   "source": []
  },
  {
   "cell_type": "code",
   "execution_count": 60,
   "metadata": {},
   "outputs": [
    {
     "data": {
      "text/plain": [
       "['D', 'C']"
      ]
     },
     "execution_count": 60,
     "metadata": {},
     "output_type": "execute_result"
    }
   ],
   "source": []
  }
 ],
 "metadata": {
  "kernelspec": {
   "display_name": "Python 3.9.15 64-bit",
   "language": "python",
   "name": "python3"
  },
  "language_info": {
   "codemirror_mode": {
    "name": "ipython",
    "version": 3
   },
   "file_extension": ".py",
   "mimetype": "text/x-python",
   "name": "python",
   "nbconvert_exporter": "python",
   "pygments_lexer": "ipython3",
   "version": "3.9.15"
  },
  "vscode": {
   "interpreter": {
    "hash": "a665b5d41d17b532ea9890333293a1b812fa0b73c9c25c950b3cedf1bebd0438"
   }
  }
 },
 "nbformat": 4,
 "nbformat_minor": 4
}
