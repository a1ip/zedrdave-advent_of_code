{
 "cells": [
  {
   "cell_type": "code",
   "execution_count": 345,
   "metadata": {},
   "outputs": [],
   "source": [
    "from aocd import get_data, submit\n",
    "import numpy as np\n",
    "import sys\n",
    "import itertools\n",
    "from collections import defaultdict, Counter\n",
    "import re\n",
    "\n",
    "day = 18\n",
    "year = 2022\n",
    "\n",
    "data = get_data(day=day, year=year)\n",
    "\n",
    "# data\n",
    "# data = \">>><<><>><<<>><>>><<<>>><<<><<<>><>><<>>\""
   ]
  },
  {
   "cell_type": "code",
   "execution_count": 333,
   "metadata": {},
   "outputs": [],
   "source": [
    "data = \"\"\"2,2,2\n",
    "1,2,2\n",
    "3,2,2\n",
    "2,1,2\n",
    "2,3,2\n",
    "2,2,1\n",
    "2,2,3\n",
    "2,2,4\n",
    "2,2,6\n",
    "1,2,5\n",
    "3,2,5\n",
    "2,1,5\n",
    "2,3,5\"\"\""
   ]
  },
  {
   "cell_type": "code",
   "execution_count": 346,
   "metadata": {},
   "outputs": [],
   "source": [
    "cubes = {tuple([int(i) for i in l.split(',')]) for l in data.split()}\n",
    "# cubes"
   ]
  },
  {
   "cell_type": "code",
   "execution_count": 347,
   "metadata": {},
   "outputs": [
    {
     "data": {
      "text/plain": [
       "4364"
      ]
     },
     "execution_count": 347,
     "metadata": {},
     "output_type": "execute_result"
    }
   ],
   "source": [
    "faces = 0\n",
    "\n",
    "for x,y,z in cubes:\n",
    "    faces += 6\n",
    "    for d in (-1, 1):\n",
    "        if (x+d,y,z) in cubes:\n",
    "            faces -= 1\n",
    "        if (x,y+d,z) in cubes:\n",
    "            faces -= 1\n",
    "        if (x,y,z+d) in cubes:\n",
    "            faces -= 1\n",
    "faces"
   ]
  },
  {
   "cell_type": "code",
   "execution_count": 348,
   "metadata": {},
   "outputs": [
    {
     "data": {
      "text/plain": [
       "[(0, 21), (0, 21), (0, 21)]"
      ]
     },
     "execution_count": 348,
     "metadata": {},
     "output_type": "execute_result"
    }
   ],
   "source": [
    "dims = [(min(cubes, key=lambda x: x[i])[i], max(cubes, key=lambda x: x[i])[i]) \n",
    "        for i in range(3)]\n",
    "dims"
   ]
  },
  {
   "cell_type": "code",
   "execution_count": 350,
   "metadata": {},
   "outputs": [
    {
     "name": "stdout",
     "output_type": "stream",
     "text": [
      "3676\n",
      "11417\n",
      "11550\n",
      "11577\n",
      "11581\n",
      "11583\n",
      "11583\n"
     ]
    }
   ],
   "source": [
    "expanded = True\n",
    "m = 22\n",
    "steam = set(\n",
    "    [(a, b, c) for a in (-1,m+2) for b in range(-1, m+2) for c in range(-1, m+2)]\n",
    "+   [(b, c, a) for a in (-1,m+2) for b in range(-1, m+2) for c in range(-1, m+2)]\n",
    "+   [(c, a, b) for a in (-1,m+2) for b in range(-1, m+2) for c in range(-1, m+2)]\n",
    ")\n",
    "\n",
    "print(len(steam))\n",
    "while expanded:\n",
    "    expanded = False\n",
    "    for x in range(0, m+1):\n",
    "        for y in range(0, m+1):\n",
    "            for z in range(0, m+1):\n",
    "                if (x,y,z) in cubes or (x,y, z) in steam:\n",
    "                    continue\n",
    "                for d in (-1,1):\n",
    "                    if (x+d,y,z) in steam or (x,y+d,z) in steam or (x,y,z+d) in steam:\n",
    "                        steam.add((x,y,z))\n",
    "                        expanded = True\n",
    "                        break\n",
    "    print(len(steam))\n",
    "    \n",
    "\n",
    "air = {(x,y,z)\n",
    "for x in range(0, m+1)\n",
    "    for y in range(0, m+1)\n",
    "        for z in range(0, m+1)\n",
    "            if (x,y,z) not in steam and (x,y,z) not in cubes}\n",
    "# print(air)"
   ]
  },
  {
   "cell_type": "code",
   "execution_count": 351,
   "metadata": {},
   "outputs": [
    {
     "data": {
      "text/plain": [
       "2508"
      ]
     },
     "execution_count": 351,
     "metadata": {},
     "output_type": "execute_result"
    }
   ],
   "source": [
    "faces = 0\n",
    "\n",
    "for x,y,z in cubes:\n",
    "    faces += 6\n",
    "    for d in (-1, 1):\n",
    "        if (x+d,y,z) in cubes or ((x+d,y,z) in air):\n",
    "            faces -= 1\n",
    "        if (x,y+d,z) in cubes or ((x,y+d,z) in air):\n",
    "            faces -= 1\n",
    "        if (x,y,z+d) in cubes or ((x,y,z+d) in air):\n",
    "            faces -= 1\n",
    "faces"
   ]
  },
  {
   "cell_type": "code",
   "execution_count": 211,
   "metadata": {},
   "outputs": [
    {
     "data": {
      "text/plain": [
       "(28571428570, 13)"
      ]
     },
     "execution_count": 211,
     "metadata": {},
     "output_type": "execute_result"
    }
   ],
   "source": [
    "# 1000000000000 \n",
    "(1000000000000-37) // 35, (1000000000000-37) % 35"
   ]
  },
  {
   "cell_type": "code",
   "execution_count": null,
   "metadata": {},
   "outputs": [],
   "source": [
    "Cycle starts: 37 bricks | height: 63\n",
    "full cycle: 72 tot bricks | tot height: 116\n",
    "cycle brick length: 35\n"
   ]
  },
  {
   "cell_type": "code",
   "execution_count": null,
   "metadata": {},
   "outputs": [],
   "source": [
    "# min_flows = dict()\n",
    "# # nx.bfs_tree(G, 'AA', depth_limit=30)\n",
    "#     # print(t)\n",
    "# cur_states = {('AA', (), 0)}\n",
    "# tot_minutes = 30\n",
    "\n",
    "# for minute in range(1, tot_minutes+1):\n",
    "#     next_states = set()\n",
    "#     for cur_node, open_valves, flow in cur_states:\n",
    "#         flow_rate = sum(flows[n] for n in open_valves)\n",
    "#         min_flow = flow + flow_rate * (tot_minutes-minute)\n",
    "#         # print(f\"Exploring: {cur_node} {open_valves} {flow}\")\n",
    "#         if min_flows.get(cur_node, -1) >= min_flow:\n",
    "#             # print(f\" -> Pruning: {flow} + {tot_minutes-minute} * {flow_rate} -> {min_flow} <= {min_flows[cur_node]}\")\n",
    "#             continue\n",
    "#         # print(f\" Adding min_flow: {cur_node} -> {min_flow}\")\n",
    "#         min_flows[cur_node] = min_flow\n",
    "#         flow += flow_rate\n",
    "#         if (cur_node not in open_valves) and flows[cur_node]:\n",
    "#             next_states.add((cur_node, tuple(set([*open_valves, cur_node])), flow))\n",
    "#         for next_node in G.neighbors(cur_node):\n",
    "#             next_states.add((next_node, open_valves, flow))\n",
    "#     if len(next_states) == 0:\n",
    "#         pprint(cur_states)\n",
    "#         pprint(min_flows)\n",
    "#     print(f\"Minute {minute}: max flow = {max(f for _,_,f in next_states)} ({len(next_states)} active states)\")\n",
    "#     cur_states = next_states\n",
    "    \n",
    "#     # pprint(min_flows)"
   ]
  },
  {
   "cell_type": "code",
   "execution_count": null,
   "metadata": {},
   "outputs": [],
   "source": [
    "# sum(v for k,v in flows.items() if k in ('BB', 'DD', 'HH'))\n",
    "\n",
    "    # ('BB', 'HH') ('DD', 'JJ\n",
    "# flows"
   ]
  },
  {
   "cell_type": "code",
   "execution_count": null,
   "metadata": {},
   "outputs": [],
   "source": [
    "all_valves = {k for k,v in flows.items() if v}\n",
    "min_flows = dict()\n",
    "# nx.bfs_tree(G, 'AA', depth_limit=30)\n",
    "    # print(t)\n",
    "cur_states = {(('AA', 'AA'), (), 0, ())}\n",
    "tot_minutes = 26\n",
    "\n",
    "for minute in range(1, tot_minutes+1):\n",
    "    print(f\"Minute {minute}: max flow = {max([0, *min_flows.values()])} ({len(cur_states)} active states)\\n\")\n",
    "        \n",
    "    next_states = set()\n",
    "    for cur_nodes, open_valves, flow, prev_nodes in  sorted(cur_states, key=lambda x: x[2], reverse=True):\n",
    "        flow_rate = sum(flows[n] for n in open_valves)\n",
    "        flow += flow_rate\n",
    "        \n",
    "        min_flow = flow + flow_rate * (tot_minutes-minute)\n",
    "\n",
    "        if min_flows.get(cur_nodes, -1) >= min_flow:\n",
    "            continue\n",
    "        \n",
    "        min_flows[cur_nodes] = min_flow\n",
    "        \n",
    "        if len(open_valves) == len(all_valves):\n",
    "            continue\n",
    "        \n",
    "            \n",
    "        next_states_n = [[], []]\n",
    "        for i,cur_node in enumerate(cur_nodes):\n",
    "            next_states_n[i] = [([(next_node, []) \n",
    "                                 for next_node in G.neighbors(cur_node)\n",
    "                                 if next_node not in (prev_nodes)]\n",
    "                                + ([(cur_node, [cur_node])] if flows[cur_node] and cur_node not in open_valves else []))\n",
    "                                \n",
    "            ]\n",
    "        debug = {(\n",
    "            tuple(sorted([cur_node1, cur_node2])), \n",
    "            tuple(sorted(set([*valve1, *valve2, *open_valves]))), \n",
    "            flow,\n",
    "            (cur_nodes)\n",
    "        )\n",
    "                            for cur_node1, valve1 in next_states_n[0]\n",
    "                            for cur_node2, valve2 in next_states_n[1]\n",
    "                            }\n",
    "\n",
    "        next_states.update(debug)\n",
    "        \n",
    "    cur_states = next_states\n",
    "\n",
    "    if len(cur_states) == 0:\n",
    "        print(f\"No more moves.\")\n",
    "        break\n",
    "    \n",
    "print(f\" Max flow: {max(min_flows.values())}\")\n",
    "    # pprint(min_flows)\n",
    "    # print(max(min_flows.values()), '\\n')\n",
    "    # 2532\n",
    "    # 2349\n",
    "    # 2715\n",
    "    \n",
    "    # ('BB', 'HH') ('DD', 'JJ"
   ]
  },
  {
   "cell_type": "code",
   "execution_count": null,
   "metadata": {},
   "outputs": [],
   "source": [
    "max(min_flows.values())"
   ]
  },
  {
   "cell_type": "code",
   "execution_count": null,
   "metadata": {},
   "outputs": [],
   "source": [
    "print(f\"\\nMinute {minute}: max flow = {max(f+sum(flows[n] for n in o) for _,o,f in cur_states)} ({len(cur_states)} active states)\\n\")"
   ]
  },
  {
   "cell_type": "code",
   "execution_count": null,
   "metadata": {},
   "outputs": [],
   "source": [
    "p, v, f, _ = max(cur_states, key=lambda x:x[2])"
   ]
  },
  {
   "cell_type": "code",
   "execution_count": null,
   "metadata": {},
   "outputs": [],
   "source": [
    "len(v)"
   ]
  },
  {
   "cell_type": "code",
   "execution_count": null,
   "metadata": {},
   "outputs": [],
   "source": [
    "sum(f > 0 for f in flows.values())"
   ]
  },
  {
   "cell_type": "code",
   "execution_count": null,
   "metadata": {},
   "outputs": [],
   "source": []
  }
 ],
 "metadata": {
  "kernelspec": {
   "display_name": "Python 3.10.8 64-bit",
   "language": "python",
   "name": "python3"
  },
  "language_info": {
   "codemirror_mode": {
    "name": "ipython",
    "version": 3
   },
   "file_extension": ".py",
   "mimetype": "text/x-python",
   "name": "python",
   "nbconvert_exporter": "python",
   "pygments_lexer": "ipython3",
   "version": "3.10.8"
  },
  "vscode": {
   "interpreter": {
    "hash": "aee8b7b246df8f9039afb4144a1f6fd8d2ca17a180786b69acc140d282b71a49"
   }
  }
 },
 "nbformat": 4,
 "nbformat_minor": 4
}
