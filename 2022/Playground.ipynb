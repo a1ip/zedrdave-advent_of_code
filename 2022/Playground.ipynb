{
 "cells": [
  {
   "cell_type": "code",
   "execution_count": 2,
   "metadata": {},
   "outputs": [],
   "source": [
    "from aocd import get_data, submit\n",
    "import numpy as np\n",
    "import sys\n",
    "import itertools\n",
    "from collections import defaultdict, Counter\n",
    "import re\n",
    "\n",
    "day = 13\n",
    "year = 2022\n",
    "\n",
    "data = get_data(day=day, year=year)"
   ]
  },
  {
   "cell_type": "code",
   "execution_count": 3,
   "metadata": {},
   "outputs": [],
   "source": [
    "data = \"\"\"[1,1,3,1,1]\n",
    "[1,1,5,1,1]\n",
    "\n",
    "[[1],[2,3,4]]\n",
    "[[1],4]\n",
    "\n",
    "[9]\n",
    "[[8,7,6]]\n",
    "\n",
    "[[4,4],4,4]\n",
    "[[4,4],4,4,4]\n",
    "\n",
    "[7,7,7,7]\n",
    "[7,7,7]\n",
    "\n",
    "[]\n",
    "[3]\n",
    "\n",
    "[[[]]]\n",
    "[[]]\n",
    "\n",
    "[1,[2,[3,[4,[5,6,7]]]],8,9]\n",
    "[1,[2,[3,[4,[5,6,0]]]],8,9]\"\"\""
   ]
  },
  {
   "cell_type": "code",
   "execution_count": null,
   "metadata": {},
   "outputs": [],
   "source": []
  },
  {
   "cell_type": "code",
   "execution_count": 4,
   "metadata": {},
   "outputs": [
    {
     "name": "stdout",
     "output_type": "stream",
     "text": [
      "Part 1: 13\n",
      "Part 2: 140\n"
     ]
    }
   ],
   "source": [
    "from functools import cmp_to_key\n",
    "\n",
    "packets = [[eval(x) for x in l.split('\\n')] for l in data.split(\"\\n\\n\")]\n",
    "\n",
    "cmp = lambda a,b: (a < b) - (a > b)\n",
    "\n",
    "def is_ordered(l, r):\n",
    "    l_i, r_i = isinstance(l, int), isinstance(r, int)\n",
    "    if l_i and r_i:\n",
    "        return cmp(l, r)\n",
    "    if l_i: l = [l]\n",
    "    if r_i: r = [r]\n",
    "    \n",
    "    arr = (is_ordered(a, b) for a,b in zip(l,r))\n",
    "    return next((o for o in arr if o != 0), cmp(len(l), len(r)))\n",
    "    \n",
    "print(\"Part 1:\", sum(i+1 for i,p in enumerate(packets) if is_ordered(*p) > 0))\n",
    "\n",
    "dividers = [[[2]], [[6]]]\n",
    "sorted_packets = sorted([p for pair in packets for p in pair] + dividers,\n",
    "                        key=cmp_to_key(is_ordered), reverse=True)\n",
    "\n",
    "d1, d2 = [i+1 for i,p in enumerate(sorted_packets) if p in dividers]\n",
    "print(\"Part 2:\", d1*d2)\n",
    "\n",
    "\n",
    "# print(\"Using Python 3.10 (match/case):\")\n",
    "\n",
    "# from functools import cmp_to_key\n",
    "\n",
    "# packets = [[eval(x) for x in l.split('\\n')] for l in data.split(\"\\n\\n\")]\n",
    "\n",
    "# cmp = lambda a,b: (a < b) - (a > b)\n",
    "\n",
    "# def is_ordered(l, r):\n",
    "#     match l, r:\n",
    "#         case int(), int():\n",
    "#             return cmp(l, r)\n",
    "#         case int(), list():\n",
    "#             l = [l]\n",
    "#         case list(), int():\n",
    "#             r = [r]\n",
    "#     arr = (is_ordered(a, b) for a,b in zip(l,r))\n",
    "#     return next((o for o in arr if o != 0), cmp(len(l), len(r)))\n",
    "    \n",
    "# print(\"Part 1:\", sum(i+1 for i,p in enumerate(packets) if is_ordered(*p) > 0))\n",
    "\n",
    "# dividers = [[[2]], [[6]]]\n",
    "# sorted_packets = sorted([p for pair in packets for p in pair] + dividers,\n",
    "#                         key=cmp_to_key(is_ordered), reverse=True)\n",
    "\n",
    "# d1, d2 = [i+1 for i,p in enumerate(sorted_packets) if p in dividers]\n",
    "# print(\"Part 2:\", d1*d2)\n"
   ]
  },
  {
   "cell_type": "code",
   "execution_count": 12,
   "metadata": {},
   "outputs": [
    {
     "name": "stdout",
     "output_type": "stream",
     "text": [
      "Part 1: 13\n",
      "Part 2: 140\n"
     ]
    }
   ],
   "source": []
  },
  {
   "cell_type": "code",
   "execution_count": null,
   "metadata": {},
   "outputs": [],
   "source": []
  },
  {
   "cell_type": "code",
   "execution_count": 1060,
   "metadata": {},
   "outputs": [
    {
     "data": {
      "text/plain": [
       "6314"
      ]
     },
     "execution_count": 1060,
     "metadata": {},
     "output_type": "execute_result"
    }
   ],
   "source": [
    "len(grid)"
   ]
  },
  {
   "cell_type": "code",
   "execution_count": null,
   "metadata": {},
   "outputs": [],
   "source": []
  },
  {
   "cell_type": "code",
   "execution_count": null,
   "metadata": {},
   "outputs": [],
   "source": []
  },
  {
   "cell_type": "code",
   "execution_count": 60,
   "metadata": {},
   "outputs": [
    {
     "data": {
      "text/plain": [
       "['D', 'C']"
      ]
     },
     "execution_count": 60,
     "metadata": {},
     "output_type": "execute_result"
    }
   ],
   "source": []
  }
 ],
 "metadata": {
  "kernelspec": {
   "display_name": "Python 3",
   "language": "python",
   "name": "python3"
  },
  "language_info": {
   "codemirror_mode": {
    "name": "ipython",
    "version": 3
   },
   "file_extension": ".py",
   "mimetype": "text/x-python",
   "name": "python",
   "nbconvert_exporter": "python",
   "pygments_lexer": "ipython3",
   "version": "3.9.15"
  },
  "vscode": {
   "interpreter": {
    "hash": "a665b5d41d17b532ea9890333293a1b812fa0b73c9c25c950b3cedf1bebd0438"
   }
  }
 },
 "nbformat": 4,
 "nbformat_minor": 4
}
