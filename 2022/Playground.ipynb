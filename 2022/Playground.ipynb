{
 "cells": [
  {
   "cell_type": "code",
   "execution_count": 4,
   "metadata": {},
   "outputs": [],
   "source": [
    "from aocd import get_data, submit\n",
    "import numpy as np\n",
    "import sys\n",
    "import itertools\n",
    "from collections import defaultdict, Counter\n",
    "import re\n",
    "\n",
    "day = 15\n",
    "year = 2022\n",
    "\n",
    "data = get_data(day=day, year=year)\n",
    "\n"
   ]
  },
  {
   "cell_type": "code",
   "execution_count": 2,
   "metadata": {},
   "outputs": [],
   "source": [
    "# data = \"\"\"Sensor at x=2, y=18: closest beacon is at x=-2, y=15\n",
    "# Sensor at x=9, y=16: closest beacon is at x=10, y=16\n",
    "# Sensor at x=13, y=2: closest beacon is at x=15, y=3\n",
    "# Sensor at x=12, y=14: closest beacon is at x=10, y=16\n",
    "# Sensor at x=10, y=20: closest beacon is at x=10, y=16\n",
    "# Sensor at x=14, y=17: closest beacon is at x=10, y=16\n",
    "# Sensor at x=8, y=7: closest beacon is at x=2, y=10\n",
    "# Sensor at x=2, y=0: closest beacon is at x=2, y=10\n",
    "# Sensor at x=0, y=11: closest beacon is at x=2, y=10\n",
    "# Sensor at x=20, y=14: closest beacon is at x=25, y=17\n",
    "# Sensor at x=17, y=20: closest beacon is at x=21, y=22\n",
    "# Sensor at x=16, y=7: closest beacon is at x=15, y=3\n",
    "# Sensor at x=14, y=3: closest beacon is at x=15, y=3\n",
    "# Sensor at x=20, y=1: closest beacon is at x=15, y=3\"\"\""
   ]
  },
  {
   "cell_type": "code",
   "execution_count": null,
   "metadata": {},
   "outputs": [],
   "source": []
  },
  {
   "cell_type": "code",
   "execution_count": 31,
   "metadata": {},
   "outputs": [],
   "source": [
    "coords = [[int(i) for i in re.match(pattern=r\"[^=]+=(\\-?\\d+), y=(\\-?\\d+)[^=]+=(\\-?\\d+), y=(\\-?\\d+)\", \n",
    "          string=l).groups()] for l in data.split('\\n')]\n",
    "\n",
    "manhattan = lambda x1,y1,x2,y2: abs(x1-x2)+abs(y1-y2)\n",
    "sensors = [(c[0],c[1], manhattan(*c)) for c in coords]"
   ]
  },
  {
   "cell_type": "code",
   "execution_count": 7,
   "metadata": {},
   "outputs": [
    {
     "name": "stderr",
     "output_type": "stream",
     "text": [
      "100%|██████████| 9011697/9011697 [00:50<00:00, 177227.45it/s]\n"
     ]
    },
    {
     "data": {
      "text/plain": [
       "5607466"
      ]
     },
     "execution_count": 7,
     "metadata": {},
     "output_type": "execute_result"
    }
   ],
   "source": [
    "from tqdm.auto import tqdm\n",
    "\n",
    "y = 2000000\n",
    "part1 = sum(1 for x in tqdm(range(min(sx-m+sy-y for sx,sy,m in sensors), max(sx+m-sy+y for sx,sy,m in sensors))) \n",
    "       if not any(((x,y) == (bx, by)) or ((x,y) == (sx, sy)) for sx,sy,bx,by in coords) \n",
    "       and any(manhattan(x,y,sx,sy) <= m for sx,sy,m in sensors))\n",
    "\n",
    "print(\"Part 1: \", part1)\n",
    "\n",
    "max_c = 4000000\n",
    "\n",
    "found = False \n",
    "for y in tqdm(range(0, max_c+1)):\n",
    "    x = 0\n",
    "    while (x <= max_c) and not found:\n",
    "        dm = max(m - manhattan(x,y,sx,sy) for sx,sy,m in sensors)\n",
    "        if dm < 0:\n",
    "            found = True\n",
    "            print('Part 2:', x*4000000+y)\n",
    "            break\n",
    "        x += max(1, dm)\n",
    "    if found:\n",
    "        break"
   ]
  },
  {
   "cell_type": "code",
   "execution_count": 8,
   "metadata": {},
   "outputs": [
    {
     "name": "stderr",
     "output_type": "stream",
     "text": [
      " 69%|██████▉   | 2766584/4000001 [03:01<01:20, 15271.52it/s]"
     ]
    },
    {
     "name": "stdout",
     "output_type": "stream",
     "text": [
      "Part 2: 12543202766584\n"
     ]
    },
    {
     "name": "stderr",
     "output_type": "stream",
     "text": [
      "\n"
     ]
    }
   ],
   "source": []
  },
  {
   "cell_type": "code",
   "execution_count": 32,
   "metadata": {},
   "outputs": [
    {
     "name": "stdout",
     "output_type": "stream",
     "text": [
      "Part 2: 12543202766584\n"
     ]
    }
   ],
   "source": [
    "from numba import jit\n",
    "import numpy as np\n",
    "\n",
    "# coords = [[int(i) for i in re.match(pattern=r\"[^=]+=(\\-?\\d+), y=(\\-?\\d+)[^=]+=(\\-?\\d+), y=(\\-?\\d+)\", \n",
    "#         string=l).groups()] for l in data.split('\\n')]\n",
    "# sensors = [(x1, y1, abs(x1-x2)+abs(y1-y2)) for x1,y1,x2,y2 in coords]\n",
    "\n",
    "@jit(nopython=True)\n",
    "def go_fast(S):\n",
    "    for y in range(0, max_c+1):\n",
    "        x = 0\n",
    "        while x <= max_c:\n",
    "            dm = (S[:,2] - np.abs(x-S[:,0]) - np.abs(y-S[:,1])).max()\n",
    "            if dm < 0:\n",
    "                return x*4000000+y\n",
    "            x += max(1, dm)\n",
    "\n",
    "print(\"Part 2:\", go_fast(S=np.array(sensors)))"
   ]
  },
  {
   "cell_type": "code",
   "execution_count": 21,
   "metadata": {},
   "outputs": [
    {
     "name": "stdout",
     "output_type": "stream",
     "text": [
      "FOUND 12543202766584\n"
     ]
    },
    {
     "data": {
      "text/plain": [
       "12543202766584"
      ]
     },
     "execution_count": 21,
     "metadata": {},
     "output_type": "execute_result"
    }
   ],
   "source": []
  }
 ],
 "metadata": {
  "kernelspec": {
   "display_name": "Python 3",
   "language": "python",
   "name": "python3"
  },
  "language_info": {
   "codemirror_mode": {
    "name": "ipython",
    "version": 3
   },
   "file_extension": ".py",
   "mimetype": "text/x-python",
   "name": "python",
   "nbconvert_exporter": "python",
   "pygments_lexer": "ipython3",
   "version": "3.9.15"
  },
  "vscode": {
   "interpreter": {
    "hash": "a665b5d41d17b532ea9890333293a1b812fa0b73c9c25c950b3cedf1bebd0438"
   }
  }
 },
 "nbformat": 4,
 "nbformat_minor": 4
}
