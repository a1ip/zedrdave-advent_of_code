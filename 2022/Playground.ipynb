{
 "cells": [
  {
   "cell_type": "code",
   "execution_count": 116,
   "metadata": {},
   "outputs": [
    {
     "ename": "PuzzleLockedError",
     "evalue": "2022/07 not available yet",
     "output_type": "error",
     "traceback": [
      "\u001b[0;31m---------------------------------------------------------------------------\u001b[0m",
      "\u001b[0;31mPuzzleLockedError\u001b[0m                         Traceback (most recent call last)",
      "Cell \u001b[0;32mIn [116], line 11\u001b[0m\n\u001b[1;32m      8\u001b[0m day \u001b[39m=\u001b[39m \u001b[39m7\u001b[39m\n\u001b[1;32m      9\u001b[0m year \u001b[39m=\u001b[39m \u001b[39m2022\u001b[39m\n\u001b[0;32m---> 11\u001b[0m data \u001b[39m=\u001b[39m get_data(day\u001b[39m=\u001b[39;49mday, year\u001b[39m=\u001b[39;49myear)\n",
      "File \u001b[0;32m~/Library/Python/3.9/lib/python/site-packages/aocd/get.py:43\u001b[0m, in \u001b[0;36mget_data\u001b[0;34m(session, day, year, block)\u001b[0m\n\u001b[1;32m     41\u001b[0m puzzle \u001b[39m=\u001b[39m Puzzle(year\u001b[39m=\u001b[39myear, day\u001b[39m=\u001b[39mday, user\u001b[39m=\u001b[39muser)\n\u001b[1;32m     42\u001b[0m \u001b[39mtry\u001b[39;00m:\n\u001b[0;32m---> 43\u001b[0m     \u001b[39mreturn\u001b[39;00m puzzle\u001b[39m.\u001b[39;49minput_data\n\u001b[1;32m     44\u001b[0m \u001b[39mexcept\u001b[39;00m PuzzleLockedError:\n\u001b[1;32m     45\u001b[0m     \u001b[39mif\u001b[39;00m \u001b[39mnot\u001b[39;00m block:\n",
      "File \u001b[0;32m~/Library/Python/3.9/lib/python/site-packages/aocd/models.py:217\u001b[0m, in \u001b[0;36mPuzzle.input_data\u001b[0;34m(self)\u001b[0m\n\u001b[1;32m    215\u001b[0m \u001b[39mif\u001b[39;00m \u001b[39mnot\u001b[39;00m response\u001b[39m.\u001b[39mok:\n\u001b[1;32m    216\u001b[0m     \u001b[39mif\u001b[39;00m response\u001b[39m.\u001b[39mstatus_code \u001b[39m==\u001b[39m \u001b[39m404\u001b[39m:\n\u001b[0;32m--> 217\u001b[0m         \u001b[39mraise\u001b[39;00m PuzzleLockedError(\u001b[39m\"\u001b[39m\u001b[39m{}\u001b[39;00m\u001b[39m/\u001b[39m\u001b[39m{:02d}\u001b[39;00m\u001b[39m not available yet\u001b[39m\u001b[39m\"\u001b[39m\u001b[39m.\u001b[39mformat(\u001b[39mself\u001b[39m\u001b[39m.\u001b[39myear, \u001b[39mself\u001b[39m\u001b[39m.\u001b[39mday))\n\u001b[1;32m    218\u001b[0m     log\u001b[39m.\u001b[39merror(\u001b[39m\"\u001b[39m\u001b[39mgot \u001b[39m\u001b[39m%s\u001b[39;00m\u001b[39m status code token=\u001b[39m\u001b[39m%s\u001b[39;00m\u001b[39m\"\u001b[39m, response\u001b[39m.\u001b[39mstatus_code, sanitized)\n\u001b[1;32m    219\u001b[0m     log\u001b[39m.\u001b[39merror(response\u001b[39m.\u001b[39mtext)\n",
      "\u001b[0;31mPuzzleLockedError\u001b[0m: 2022/07 not available yet"
     ]
    }
   ],
   "source": [
    "from aocd import get_data, submit\n",
    "import numpy as np\n",
    "import sys\n",
    "import itertools\n",
    "from collections import defaultdict, Counter\n",
    "import re\n",
    "\n",
    "day = 7\n",
    "year = 2022\n",
    "\n",
    "data = get_data(day=day, year=year)\n",
    "\n",
    "# submit(cube.sum(), part=\"a\", day=day, year=year)\n",
    "\n",
    "# data"
   ]
  },
  {
   "cell_type": "code",
   "execution_count": 112,
   "metadata": {},
   "outputs": [],
   "source": [
    "# data = \"mjqjpqmgbljsphdztnvjfqwrcgsmlb\"\n",
    "# data = \"bvwbjplbgvbhsrlpgdmjqwftvncz\""
   ]
  },
  {
   "cell_type": "markdown",
   "metadata": {},
   "source": []
  },
  {
   "cell_type": "code",
   "execution_count": null,
   "metadata": {},
   "outputs": [],
   "source": []
  },
  {
   "cell_type": "code",
   "execution_count": null,
   "metadata": {},
   "outputs": [],
   "source": []
  },
  {
   "cell_type": "code",
   "execution_count": null,
   "metadata": {},
   "outputs": [],
   "source": []
  },
  {
   "cell_type": "code",
   "execution_count": 60,
   "metadata": {},
   "outputs": [
    {
     "data": {
      "text/plain": [
       "['D', 'C']"
      ]
     },
     "execution_count": 60,
     "metadata": {},
     "output_type": "execute_result"
    }
   ],
   "source": []
  }
 ],
 "metadata": {
  "kernelspec": {
   "display_name": "Python 3.9.15 64-bit",
   "language": "python",
   "name": "python3"
  },
  "language_info": {
   "codemirror_mode": {
    "name": "ipython",
    "version": 3
   },
   "file_extension": ".py",
   "mimetype": "text/x-python",
   "name": "python",
   "nbconvert_exporter": "python",
   "pygments_lexer": "ipython3",
   "version": "3.9.15"
  },
  "vscode": {
   "interpreter": {
    "hash": "a665b5d41d17b532ea9890333293a1b812fa0b73c9c25c950b3cedf1bebd0438"
   }
  }
 },
 "nbformat": 4,
 "nbformat_minor": 4
}
