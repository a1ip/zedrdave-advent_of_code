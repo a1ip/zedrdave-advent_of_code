{
 "cells": [
  {
   "cell_type": "code",
   "execution_count": 356,
   "metadata": {},
   "outputs": [],
   "source": [
    "from aocd import get_data, submit\n",
    "import numpy as np\n",
    "import sys\n",
    "import itertools\n",
    "from collections import defaultdict, Counter\n",
    "import re\n",
    "\n",
    "day = 9\n",
    "year = 2022\n",
    "\n",
    "data = get_data(day=day, year=year)\n",
    "\n",
    "# submit(cube.sum(), part=\"a\", day=day, year=year)\n",
    "\n",
    "# data"
   ]
  },
  {
   "cell_type": "code",
   "execution_count": 303,
   "metadata": {},
   "outputs": [],
   "source": [
    "data = \"\"\"R 4\n",
    "U 4\n",
    "L 3\n",
    "D 1\n",
    "R 4\n",
    "D 1\n",
    "L 5\n",
    "R 2\"\"\""
   ]
  },
  {
   "cell_type": "code",
   "execution_count": 371,
   "metadata": {},
   "outputs": [],
   "source": [
    "\n",
    "def print_grid(**kwargs):\n",
    "    for j in range(-10, 10):\n",
    "        for i in range(-20, 20):\n",
    "            # print(i,j)\n",
    "            c = '.'\n",
    "            for l,pos in kwargs.items():\n",
    "                if pos == (i,-j):\n",
    "                    c = l\n",
    "            print(c, end='')\n",
    "        print(\"\")\n",
    "    print(\"\")"
   ]
  },
  {
   "cell_type": "code",
   "execution_count": 406,
   "metadata": {},
   "outputs": [
    {
     "data": {
      "text/plain": [
       "(6243, 2630)"
      ]
     },
     "execution_count": 406,
     "metadata": {},
     "output_type": "execute_result"
    }
   ],
   "source": [
    "dirs = {'R': (1, 0), 'U': (0, 1), 'L': (-1, 0), 'D': (0, -1)}\n",
    "move = lambda X,d: (X[0]+d[0], X[1]+d[1])\n",
    "\n",
    "def solve(data, num_knots = 10):\n",
    "    K = [(0,0)] * num_knots\n",
    "    visited = set(K)\n",
    "\n",
    "    for l in data.split(\"\\n\"):\n",
    "        dir,steps = l.split()\n",
    "        for _ in range(int(steps)):\n",
    "            K[0] = move(K[0], dirs[dir])\n",
    "            for k in range(1, len(K)):\n",
    "                delta = [K[k-1][i] - K[k][i] for i in (0,1)]\n",
    "                if abs(max(delta, key=abs)) > 1:\n",
    "                    K[k] = move(K[k], [x//(abs(x) or 1) for x in delta])\n",
    "            visited.add(K[-1])\n",
    "            \n",
    "    return len(visited)\n",
    "\n",
    "solve(data, 2), solve(data, 10)"
   ]
  },
  {
   "cell_type": "code",
   "execution_count": 404,
   "metadata": {},
   "outputs": [
    {
     "data": {
      "text/plain": [
       "(6243, 2630)"
      ]
     },
     "execution_count": 404,
     "metadata": {},
     "output_type": "execute_result"
    }
   ],
   "source": []
  },
  {
   "cell_type": "code",
   "execution_count": 111,
   "metadata": {},
   "outputs": [
    {
     "data": {
      "text/plain": [
       "array([[1, 0, 0, 0, 0],\n",
       "       [1, 1, 0, 0, 0],\n",
       "       [1, 0, 0, 0, 0],\n",
       "       [1, 0, 0, 0, 0],\n",
       "       [1, 1, 0, 0, 0]])"
      ]
     },
     "execution_count": 111,
     "metadata": {},
     "output_type": "execute_result"
    }
   ],
   "source": []
  },
  {
   "cell_type": "code",
   "execution_count": null,
   "metadata": {},
   "outputs": [],
   "source": []
  },
  {
   "cell_type": "code",
   "execution_count": 60,
   "metadata": {},
   "outputs": [
    {
     "data": {
      "text/plain": [
       "['D', 'C']"
      ]
     },
     "execution_count": 60,
     "metadata": {},
     "output_type": "execute_result"
    }
   ],
   "source": []
  }
 ],
 "metadata": {
  "kernelspec": {
   "display_name": "Python 3.9.15 64-bit",
   "language": "python",
   "name": "python3"
  },
  "language_info": {
   "codemirror_mode": {
    "name": "ipython",
    "version": 3
   },
   "file_extension": ".py",
   "mimetype": "text/x-python",
   "name": "python",
   "nbconvert_exporter": "python",
   "pygments_lexer": "ipython3",
   "version": "3.9.15"
  },
  "vscode": {
   "interpreter": {
    "hash": "a665b5d41d17b532ea9890333293a1b812fa0b73c9c25c950b3cedf1bebd0438"
   }
  }
 },
 "nbformat": 4,
 "nbformat_minor": 4
}
