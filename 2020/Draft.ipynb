{
 "cells": [
  {
   "cell_type": "code",
   "execution_count": 2,
   "metadata": {},
   "outputs": [],
   "source": [
    "import pandas as pd\n",
    "import numpy as np\n",
    "from collections import defaultdict\n",
    "import re\n",
    "from functools import *\n",
    "import math\n",
    "\n",
    "from utils import *\n",
    "from aocd import submit"
   ]
  },
  {
   "cell_type": "code",
   "execution_count": 8,
   "metadata": {},
   "outputs": [],
   "source": [
    "data = dl_input(4)"
   ]
  },
  {
   "cell_type": "code",
   "execution_count": 51,
   "metadata": {},
   "outputs": [],
   "source": [
    "test = \"\"\"ecl:gry pid:860033327 eyr:2020 hcl:#fffffd\n",
    "byr:1937 iyr:2017 cid:147 hgt:183cm\n",
    "\n",
    "iyr:2013 ecl:amb cid:350 eyr:2023 pid:028048884\n",
    "hcl:#cfa07d byr:1929\n",
    "\n",
    "hcl:#ae17e1 iyr:2013\n",
    "eyr:2024\n",
    "ecl:brn pid:760753108 byr:1931\n",
    "hgt:179cm\n",
    "\n",
    "hcl:#cfa07d eyr:2025 pid:166559648\n",
    "iyr:2011 ecl:brn hgt:59in\"\"\""
   ]
  },
  {
   "cell_type": "code",
   "execution_count": 143,
   "metadata": {
    "scrolled": true
   },
   "outputs": [],
   "source": [
    "# lines = ' '.join([l.strip() if l != '\\n' else '#' for l in open(input_file(4))])\n",
    "\n",
    "lines = ' '.join([l.strip() if l != '\\n' else l for l in open(input_file(4))])\n",
    "\n",
    "passports = [{f.split(':')[0]:f.split(':')[1] for f in l.strip().split()} for l in lines.split('\\n')]"
   ]
  },
  {
   "cell_type": "code",
   "execution_count": 220,
   "metadata": {},
   "outputs": [],
   "source": [
    "def check_year(y, f, t):\n",
    "    return re.match('^\\d{4}$', y) and f <= int(y) <= t\n",
    "\n",
    "validators = {\n",
    "    'byr': lambda x: check_year(x, 1920, 2002),\n",
    "    'iyr': lambda x: check_year(x, 2010, 2020),\n",
    "    'eyr': lambda x: check_year(x, 2020, 2030),\n",
    "    'hgt': lambda x: (x.endswith('cm') and 150 <= int(x[:-2]) <= 193) or (x.endswith('in') and 59 <= int(x[:-2]) <= 76),\n",
    "    'hcl': lambda x: re.match('^#[0-9a-f]{6}$', x),\n",
    "    'ecl': lambda x: x in ['amb', 'blu', 'brn', 'gry', 'grn', 'hzl', 'oth'],\n",
    "    'pid': lambda x: re.match('^\\d{9,9}$', x),\n",
    "    'cid': lambda x: True,\n",
    "}\n",
    "\n",
    "sum([all(validator(p.get(k, '')) for k,validator in validators.items()) for p in passports])"
   ]
  },
  {
   "cell_type": "code",
   "execution_count": 218,
   "metadata": {},
   "outputs": [
    {
     "data": {
      "text/plain": [
       "250"
      ]
     },
     "execution_count": 218,
     "metadata": {},
     "output_type": "execute_result"
    }
   ],
   "source": [
    "sum([len(validators.keys() - p.keys() - set(['cid'])) == 0 for p in passports])"
   ]
  },
  {
   "cell_type": "code",
   "execution_count": 219,
   "metadata": {},
   "outputs": [
    {
     "data": {
      "text/plain": [
       "158"
      ]
     },
     "execution_count": 219,
     "metadata": {},
     "output_type": "execute_result"
    }
   ],
   "source": [
    "sum([all(validator(p.get(k, '')) for k,validator in validators.items()) for p in passports])"
   ]
  },
  {
   "cell_type": "code",
   "execution_count": null,
   "metadata": {},
   "outputs": [],
   "source": []
  }
 ],
 "metadata": {
  "kernelspec": {
   "display_name": "pipenv_aoc",
   "language": "python",
   "name": "pipenv_aoc"
  },
  "language_info": {
   "codemirror_mode": {
    "name": "ipython",
    "version": 3
   },
   "file_extension": ".py",
   "mimetype": "text/x-python",
   "name": "python",
   "nbconvert_exporter": "python",
   "pygments_lexer": "ipython3",
   "version": "3.8.5"
  }
 },
 "nbformat": 4,
 "nbformat_minor": 4
}
