{
 "cells": [
  {
   "cell_type": "code",
   "execution_count": 1,
   "metadata": {},
   "outputs": [],
   "source": [
    "import pandas as pd\n",
    "import numpy as np\n",
    "from collections import defaultdict\n",
    "import re\n",
    "\n",
    "import utils"
   ]
  },
  {
   "cell_type": "code",
   "execution_count": 4,
   "metadata": {},
   "outputs": [
    {
     "name": "stdout",
     "output_type": "stream",
     "text": [
      "Current EST time is 23:59:04 (01/12). Will try to get day 2 in 0m55s.\n",
      "10… 9… 8… 7… 6… 5… 4… 3… 2… 1… It's time!\n",
      "************ GO! *************\n",
      "2020-12-02 00:00:00.320871-05:00\n"
     ]
    }
   ],
   "source": [
    "# data = utils.countdown()"
   ]
  },
  {
   "cell_type": "code",
   "execution_count": 40,
   "metadata": {},
   "outputs": [],
   "source": [
    "# passwords = [re.findall('(\\d+)-(\\d+) (.): (.+)', l)[0] for l in utils.load_string_input(2)]"
   ]
  },
  {
   "cell_type": "code",
   "execution_count": 88,
   "metadata": {},
   "outputs": [],
   "source": [
    "passwords = [re.split('[: \\-]', l.strip()) for l in open('02/input.txt')]"
   ]
  },
  {
   "cell_type": "code",
   "execution_count": 78,
   "metadata": {},
   "outputs": [],
   "source": [
    "# passwords = [re.split('[: \\-]', l) for l in utils.load_string_input(2)]"
   ]
  },
  {
   "cell_type": "code",
   "execution_count": 79,
   "metadata": {},
   "outputs": [],
   "source": [
    "matches = [(int(p1), int(p2), [c == ch for c in s]) for p1,p2,ch,_,s in passwords]"
   ]
  },
  {
   "cell_type": "code",
   "execution_count": 155,
   "metadata": {},
   "outputs": [
    {
     "data": {
      "text/plain": [
       "582"
      ]
     },
     "execution_count": 155,
     "metadata": {},
     "output_type": "execute_result"
    }
   ],
   "source": [
    "# Part 1\n",
    "sum(l[0] <= sum(l[2]) <= l[1] for l in res)"
   ]
  },
  {
   "cell_type": "code",
   "execution_count": 156,
   "metadata": {},
   "outputs": [
    {
     "data": {
      "text/plain": [
       "729"
      ]
     },
     "execution_count": 156,
     "metadata": {},
     "output_type": "execute_result"
    }
   ],
   "source": [
    "# Part 2\n",
    "sum(matches[p1-1] ^ matches[p2-1] for p1,p2,matches in res)"
   ]
  },
  {
   "cell_type": "code",
   "execution_count": 157,
   "metadata": {},
   "outputs": [
    {
     "name": "stdout",
     "output_type": "stream",
     "text": [
      "582\n",
      "729\n"
     ]
    }
   ],
   "source": [
    "x=sum([[a<=sum(m)<=b,m[a-1]^m[b-1]] for a,b,m in [(*[int(i) for i in p.split('-')],[x == c[0] for x in s.strip()]) for p,c,s in [l.split() for l in open('02/input.txt')]]], [])\n",
    "print(sum(x[::2]))\n",
    "print(sum(x[1::2]))"
   ]
  },
  {
   "cell_type": "code",
   "execution_count": null,
   "metadata": {},
   "outputs": [],
   "source": []
  }
 ],
 "metadata": {
  "kernelspec": {
   "display_name": "pipenv_aoc",
   "language": "python",
   "name": "pipenv_aoc"
  },
  "language_info": {
   "codemirror_mode": {
    "name": "ipython",
    "version": 3
   },
   "file_extension": ".py",
   "mimetype": "text/x-python",
   "name": "python",
   "nbconvert_exporter": "python",
   "pygments_lexer": "ipython3",
   "version": "3.8.5"
  }
 },
 "nbformat": 4,
 "nbformat_minor": 4
}
