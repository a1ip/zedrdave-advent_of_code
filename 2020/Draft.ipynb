{
 "cells": [
  {
   "cell_type": "code",
   "execution_count": 1,
   "metadata": {},
   "outputs": [],
   "source": [
    "import pandas as pd\n",
    "import numpy as np\n",
    "from collections import defaultdict, Counter\n",
    "import re\n",
    "from functools import *\n",
    "import math\n",
    "\n",
    "from utils import *\n",
    "from aocd import submit"
   ]
  },
  {
   "cell_type": "code",
   "execution_count": 21,
   "metadata": {},
   "outputs": [],
   "source": [
    "i08 = '08/input.txt'"
   ]
  },
  {
   "cell_type": "code",
   "execution_count": 54,
   "metadata": {},
   "outputs": [
    {
     "name": "stdout",
     "output_type": "stream",
     "text": [
      "1137 1125\n"
     ]
    }
   ],
   "source": [
    "𝓟=[(l[0],int(l[4:])) for l in open(i08)]\n",
    "def R(P):\n",
    "    𝒜,π,℮=0,0,set()\n",
    "    while π<len(P) and π not in ℮:\n",
    "        ℮.add(π)\n",
    "        𝒾,a=P[π]\n",
    "        if 𝒾=='j':π+=a-1 \n",
    "        if 𝒾=='a':𝒜+=a\n",
    "        π+=1\n",
    "    return π not in ℮, 𝒜\n",
    "for l,(𝒾,a) in enumerate(𝓟):\n",
    "    b,𝒜=R(𝓟[:l]+[({'j':'n','n':'j'}.get(𝒾,𝒾),a)]+𝓟[l+1:])\n",
    "    if b:print(R(𝓟)[1], 𝒜)"
   ]
  },
  {
   "cell_type": "code",
   "execution_count": 97,
   "metadata": {},
   "outputs": [
    {
     "name": "stdout",
     "output_type": "stream",
     "text": [
      "Part 1: 1137 Part 2: 1125\n"
     ]
    }
   ],
   "source": [
    "    𝓟 = [(l[0], int(l[4:])) for l in open('08/input.txt')]\n",
    "\n",
    "    def run(P):\n",
    "        𝒜, IP, ℮ = 0, 0, set()\n",
    "        while IP < len(P) and IP not in ℮:\n",
    "            ℮.add(IP)\n",
    "            𝒾, a = P[IP]\n",
    "            if 𝒾 == 'j': IP += a-1 \n",
    "            if 𝒾 == 'a': 𝒜 += a\n",
    "            IP += 1\n",
    "        return (IP not in ℮, 𝒜)\n",
    "\n",
    "    for l,(𝒾,a) in enumerate(𝓟):\n",
    "        b, 𝒜 = run(𝓟[:l] + [({'j':'n','n':'j'}.get(𝒾,𝒾),a)] + 𝓟[l+1:])\n",
    "        if b: print('Part 1:', run(𝓟)[1], 'Part 2:', 𝒜); break"
   ]
  },
  {
   "cell_type": "code",
   "execution_count": 50,
   "metadata": {},
   "outputs": [
    {
     "name": "stdout",
     "output_type": "stream",
     "text": [
      "Part 1 0\n",
      "Part 2 0\n"
     ]
    }
   ],
   "source": [
    "def run(P):\n",
    "    𝒜,π,℮ = 0,0,set()\n",
    "    while π < len(P) and π not in ℮:\n",
    "        ℮.add(π)\n",
    "        𝒾, a = P[π]\n",
    "        if 𝒾 == 'jmp':\n",
    "            π += a-1\n",
    "        if 𝒾 == 'acc':\n",
    "            𝒜 += a\n",
    "        π+=1\n",
    "    return π not in ℮, 𝒜\n",
    "\n",
    "print('Part 1', run(𝓟)[1])\n",
    "\n",
    "for l,(𝒾,a) in enumerate(𝓟):\n",
    "    if 𝒾 == 'jmp':\n",
    "        𝒾 = 'nop'\n",
    "    elif 𝒾 == 'nop':\n",
    "        𝒾 = 'jmp'\n",
    "    b,𝒜=run(𝓟[:l] + [(𝒾,a)] + 𝓟[l+1:])\n",
    "    if b:\n",
    "        break\n",
    "\n",
    "print('Part 2', 𝒜)"
   ]
  },
  {
   "cell_type": "code",
   "execution_count": 95,
   "metadata": {},
   "outputs": [
    {
     "name": "stdout",
     "output_type": "stream",
     "text": [
      "1137 1125\n"
     ]
    }
   ],
   "source": [
    "P=[(l[0],int(l[4:])) for l in open('08/input.txt')]\n",
    "def R(P):\n",
    "    A,p,e=0,0,set()\n",
    "    while p<len(P):\n",
    "        e.add(p)\n",
    "        i,a=P[p]\n",
    "        if i=='j':p+=a-1 \n",
    "        if i=='a':A+=a\n",
    "        p+=1\n",
    "        if p in e:return 0,A\n",
    "    return 1,A\n",
    "for l in enumerate(P):\n",
    "    b,A=R(P[:l]+[({'j':'n','n':'j'}.get(i,i),a)]+P[l+1:])\n",
    "    if b:print(R(P)[1], A)"
   ]
  },
  {
   "cell_type": "code",
   "execution_count": 92,
   "metadata": {},
   "outputs": [
    {
     "ename": "SyntaxError",
     "evalue": "cannot use assignment expressions with subscript (<ipython-input-92-b124a4a9b998>, line 2)",
     "output_type": "error",
     "traceback": [
      "\u001b[0;36m  File \u001b[0;32m\"<ipython-input-92-b124a4a9b998>\"\u001b[0;36m, line \u001b[0;32m2\u001b[0m\n\u001b[0;31m    print((Q:=P[:])[l]:=({'j':'n','n':'j'}.get(i,i),a))\u001b[0m\n\u001b[0m          ^\u001b[0m\n\u001b[0;31mSyntaxError\u001b[0m\u001b[0;31m:\u001b[0m cannot use assignment expressions with subscript\n"
     ]
    }
   ],
   "source": []
  },
  {
   "cell_type": "code",
   "execution_count": 85,
   "metadata": {},
   "outputs": [
    {
     "ename": "AttributeError",
     "evalue": "'list' object has no attribute 'set'",
     "output_type": "error",
     "traceback": [
      "\u001b[0;31m---------------------------------------------------------------------------\u001b[0m",
      "\u001b[0;31mAttributeError\u001b[0m                            Traceback (most recent call last)",
      "\u001b[0;32m<ipython-input-85-42fb4e983f53>\u001b[0m in \u001b[0;36m<module>\u001b[0;34m\u001b[0m\n\u001b[0;32m----> 1\u001b[0;31m \u001b[0mQ\u001b[0m\u001b[0;34m.\u001b[0m\u001b[0mset\u001b[0m\u001b[0;34m(\u001b[0m\u001b[0;36m1\u001b[0m\u001b[0;34m,\u001b[0m\u001b[0;34m'o'\u001b[0m\u001b[0;34m)\u001b[0m\u001b[0;34m\u001b[0m\u001b[0;34m\u001b[0m\u001b[0m\n\u001b[0m",
      "\u001b[0;31mAttributeError\u001b[0m: 'list' object has no attribute 'set'"
     ]
    }
   ],
   "source": []
  },
  {
   "cell_type": "code",
   "execution_count": null,
   "metadata": {},
   "outputs": [],
   "source": []
  }
 ],
 "metadata": {
  "kernelspec": {
   "display_name": "pipenv_aoc",
   "language": "python",
   "name": "pipenv_aoc"
  },
  "language_info": {
   "codemirror_mode": {
    "name": "ipython",
    "version": 3
   },
   "file_extension": ".py",
   "mimetype": "text/x-python",
   "name": "python",
   "nbconvert_exporter": "python",
   "pygments_lexer": "ipython3",
   "version": "3.8.5"
  }
 },
 "nbformat": 4,
 "nbformat_minor": 4
}
