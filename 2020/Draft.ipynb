{
 "cells": [
  {
   "cell_type": "code",
   "execution_count": 1,
   "metadata": {},
   "outputs": [],
   "source": [
    "import pandas as pd\n",
    "import numpy as np\n",
    "from collections import defaultdict, Counter\n",
    "import re\n",
    "from functools import *\n",
    "import math\n",
    "\n",
    "from utils import *\n",
    "from aocd import submit"
   ]
  },
  {
   "cell_type": "code",
   "execution_count": 179,
   "metadata": {},
   "outputs": [
    {
     "name": "stdout",
     "output_type": "stream",
     "text": [
      "72.4 ms ± 5.65 ms per loop (mean ± std. dev. of 7 runs, 10 loops each)\n"
     ]
    }
   ],
   "source": [
    "%%timeit\n",
    "\n",
    "code = [(l[:3], [int(i) for i in l[4:].split()]) for l in open('08/input.txt')]\n",
    "\n",
    "def run(prog, IP = 0):\n",
    "    acc = 0\n",
    "    steps = []\n",
    "    \n",
    "    while 0 <= IP < len(prog):\n",
    "        steps += [IP]\n",
    "        cmd, (p1,) = prog[IP]\n",
    "        \n",
    "        if cmd == 'jmp':\n",
    "            IP += p1\n",
    "        elif cmd == 'acc':\n",
    "            acc += p1\n",
    "            IP += 1\n",
    "        elif cmd == 'nop':\n",
    "            IP += 1\n",
    "        \n",
    "        if IP in steps:\n",
    "            return False, acc\n",
    "\n",
    "    return IP == len(prog), acc\n",
    "\n",
    "# print('Part 1', run(code)[1])\n",
    "\n",
    "for l,(𝒾,a) in enumerate(code):\n",
    "    if 𝒾 == 'jmp':\n",
    "        𝒾 = 'nop'\n",
    "    elif 𝒾 == 'nop':\n",
    "        𝒾 = 'jmp'\n",
    "    b, 𝒜 = run(code[:l] + [(𝒾,a)] + code[l+1:])\n",
    "    if b:\n",
    "        break\n",
    "\n",
    "# print('Part 2', 𝒜)"
   ]
  },
  {
   "cell_type": "code",
   "execution_count": 198,
   "metadata": {},
   "outputs": [
    {
     "ename": "UnboundLocalError",
     "evalue": "local variable 'tot' referenced before assignment",
     "output_type": "error",
     "traceback": [
      "\u001b[0;31m---------------------------------------------------------------------------\u001b[0m",
      "\u001b[0;31mUnboundLocalError\u001b[0m                         Traceback (most recent call last)",
      "\u001b[0;32m<ipython-input-198-b3fc02520b6c>\u001b[0m in \u001b[0;36m<module>\u001b[0;34m\u001b[0m\n\u001b[1;32m     39\u001b[0m     \u001b[0;32mif\u001b[0m \u001b[0;34m(\u001b[0m\u001b[0mstart\u001b[0m \u001b[0;32min\u001b[0m \u001b[0mwins\u001b[0m\u001b[0;34m)\u001b[0m \u001b[0;32mor\u001b[0m \u001b[0;34m(\u001b[0m\u001b[0mstart\u001b[0m \u001b[0;32min\u001b[0m \u001b[0mloses\u001b[0m\u001b[0;34m)\u001b[0m\u001b[0;34m:\u001b[0m\u001b[0;34m\u001b[0m\u001b[0;34m\u001b[0m\u001b[0m\n\u001b[1;32m     40\u001b[0m         \u001b[0;32mcontinue\u001b[0m\u001b[0;34m\u001b[0m\u001b[0;34m\u001b[0m\u001b[0m\n\u001b[0;32m---> 41\u001b[0;31m     \u001b[0mb\u001b[0m\u001b[0;34m,\u001b[0m \u001b[0m_\u001b[0m\u001b[0;34m,\u001b[0m \u001b[0msteps\u001b[0m \u001b[0;34m=\u001b[0m \u001b[0mtest_run\u001b[0m\u001b[0;34m(\u001b[0m\u001b[0mcode\u001b[0m\u001b[0;34m,\u001b[0m \u001b[0mstart\u001b[0m\u001b[0;34m,\u001b[0m \u001b[0mwins\u001b[0m\u001b[0;34m)\u001b[0m\u001b[0;34m\u001b[0m\u001b[0;34m\u001b[0m\u001b[0m\n\u001b[0m\u001b[1;32m     42\u001b[0m     \u001b[0;32mif\u001b[0m \u001b[0mb\u001b[0m\u001b[0;34m:\u001b[0m\u001b[0;34m\u001b[0m\u001b[0;34m\u001b[0m\u001b[0m\n\u001b[1;32m     43\u001b[0m         \u001b[0mwins\u001b[0m\u001b[0;34m.\u001b[0m\u001b[0mupdate\u001b[0m\u001b[0;34m(\u001b[0m\u001b[0msteps\u001b[0m\u001b[0;34m)\u001b[0m\u001b[0;34m\u001b[0m\u001b[0;34m\u001b[0m\u001b[0m\n",
      "\u001b[0;32m<ipython-input-198-b3fc02520b6c>\u001b[0m in \u001b[0;36mtest_run\u001b[0;34m(prog, IP, wins)\u001b[0m\n\u001b[1;32m     13\u001b[0m \u001b[0;34m\u001b[0m\u001b[0m\n\u001b[1;32m     14\u001b[0m     \u001b[0;32mwhile\u001b[0m \u001b[0;36m0\u001b[0m \u001b[0;34m<=\u001b[0m \u001b[0mIP\u001b[0m \u001b[0;34m<\u001b[0m \u001b[0mlen\u001b[0m\u001b[0;34m(\u001b[0m\u001b[0mprog\u001b[0m\u001b[0;34m)\u001b[0m\u001b[0;34m:\u001b[0m\u001b[0;34m\u001b[0m\u001b[0;34m\u001b[0m\u001b[0m\n\u001b[0;32m---> 15\u001b[0;31m         \u001b[0mtot\u001b[0m \u001b[0;34m=\u001b[0m \u001b[0mtot\u001b[0m\u001b[0;34m+\u001b[0m \u001b[0;36m1\u001b[0m\u001b[0;34m\u001b[0m\u001b[0;34m\u001b[0m\u001b[0m\n\u001b[0m\u001b[1;32m     16\u001b[0m \u001b[0;34m\u001b[0m\u001b[0m\n\u001b[1;32m     17\u001b[0m         \u001b[0msteps\u001b[0m \u001b[0;34m+=\u001b[0m \u001b[0;34m[\u001b[0m\u001b[0mIP\u001b[0m\u001b[0;34m]\u001b[0m\u001b[0;34m\u001b[0m\u001b[0;34m\u001b[0m\u001b[0m\n",
      "\u001b[0;31mUnboundLocalError\u001b[0m: local variable 'tot' referenced before assignment"
     ]
    }
   ],
   "source": [
    "# %%timeit\n",
    "\n",
    "code = [(l[:3], [int(i) for i in l[4:].split()]) for l in open('08/input.txt')]\n",
    "\n",
    "# [run(code[i:])[0] for i in range(len(code))]\n",
    "\n",
    "global tot\n",
    "\n",
    "def test_run(prog, IP, wins):\n",
    "    \n",
    "    acc = 0\n",
    "    steps = []\n",
    "    \n",
    "    while 0 <= IP < len(prog):\n",
    "        tot = tot+ 1\n",
    "\n",
    "        steps += [IP]\n",
    "        cmd, (p1,) = prog[IP]\n",
    "        \n",
    "        if cmd == 'jmp':\n",
    "            IP += p1\n",
    "        elif cmd == 'acc':\n",
    "            acc += p1\n",
    "            IP += 1\n",
    "        elif cmd == 'nop':\n",
    "            IP += 1\n",
    "        \n",
    "        if IP in steps:\n",
    "            return False, acc, steps\n",
    "        if IP in wins:\n",
    "            return True, acc, steps\n",
    "\n",
    "    return IP == len(prog), acc, steps\n",
    "\n",
    "tot = 0\n",
    "wins = set()\n",
    "loses = set()\n",
    "for start in reversed(range(len(code))):\n",
    "    if (start in wins) or (start in loses):\n",
    "        continue\n",
    "    b, _, steps = test_run(code, start, wins)\n",
    "    if b:\n",
    "        wins.update(steps)\n",
    "    else:\n",
    "        loses.update(steps)\n",
    "\n",
    "print(tot, wins)"
   ]
  },
  {
   "cell_type": "code",
   "execution_count": 200,
   "metadata": {},
   "outputs": [
    {
     "name": "stdout",
     "output_type": "stream",
     "text": [
      "Part 1 1137\n",
      "Part 2 1125\n"
     ]
    }
   ],
   "source": [
    "𝓟 = [(l[:3], int(l[4:])) for l in open(input_file(8))]\n",
    "\n",
    "def run(P, IP = 0):\n",
    "    𝒜 = 0\n",
    "    ℮ = set()\n",
    "    while 0 <= IP < len(P):\n",
    "        ℮.add(IP)\n",
    "        𝒾, a = P[IP]\n",
    "        if 𝒾 == 'jmp':\n",
    "            IP += a-1\n",
    "        if 𝒾 == 'acc':\n",
    "            𝒜 += a\n",
    "        IP += 1\n",
    "        if IP in ℮:\n",
    "            return False, 𝒜\n",
    "\n",
    "    return IP == len(P), 𝒜\n",
    "\n",
    "print('Part 1', run(𝓟)[1])\n",
    "\n",
    "for l,(𝒾,a) in enumerate(𝓟):\n",
    "    if 𝒾 == 'jmp':\n",
    "        𝒾 = 'nop'\n",
    "    elif 𝒾 == 'nop':\n",
    "        𝒾 = 'jmp'\n",
    "    b,𝒜 = run(𝓟[:l] + [(𝒾,a)] + 𝓟[l+1:])\n",
    "    if b:\n",
    "        break\n",
    "\n",
    "print('Part 2', 𝒜)\n"
   ]
  },
  {
   "cell_type": "code",
   "execution_count": null,
   "metadata": {},
   "outputs": [],
   "source": []
  }
 ],
 "metadata": {
  "kernelspec": {
   "display_name": "pipenv_aoc",
   "language": "python",
   "name": "pipenv_aoc"
  },
  "language_info": {
   "codemirror_mode": {
    "name": "ipython",
    "version": 3
   },
   "file_extension": ".py",
   "mimetype": "text/x-python",
   "name": "python",
   "nbconvert_exporter": "python",
   "pygments_lexer": "ipython3",
   "version": "3.8.5"
  }
 },
 "nbformat": 4,
 "nbformat_minor": 4
}
