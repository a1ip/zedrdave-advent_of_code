{
 "cells": [
  {
   "cell_type": "code",
   "execution_count": 109,
   "metadata": {},
   "outputs": [],
   "source": [
    "import pandas as pd\n",
    "import numpy as np\n",
    "from collections import defaultdict\n",
    "import re\n",
    "from functools import *\n",
    "import math\n",
    "\n",
    "from utils import *"
   ]
  },
  {
   "cell_type": "code",
   "execution_count": 110,
   "metadata": {},
   "outputs": [],
   "source": [
    "# data = dl_input(3)"
   ]
  },
  {
   "cell_type": "code",
   "execution_count": 111,
   "metadata": {},
   "outputs": [],
   "source": [
    "grid = [l.strip() for l in open(input_file(3))]"
   ]
  },
  {
   "cell_type": "code",
   "execution_count": 112,
   "metadata": {},
   "outputs": [
    {
     "name": "stdout",
     "output_type": "stream",
     "text": [
      "234 5813773056\n"
     ]
    }
   ],
   "source": [
    "trees_arr = []\n",
    "\n",
    "def get_trees(right, down):\n",
    "    h = 0\n",
    "    trees = 0\n",
    "    for v in range(down, len(grid), down):\n",
    "        h = (h+right)%len(grid[0])\n",
    "        trees += int(grid[v][h] == '#')\n",
    "    return trees\n",
    "\n",
    "trees_arr = [get_trees(r, d) for r, d in ([1,1], [3,1], [5,1], [7,1], [1,2])]\n",
    "print(trees_arr[1], math.prod(trees_arr))"
   ]
  },
  {
   "cell_type": "code",
   "execution_count": 113,
   "metadata": {},
   "outputs": [
    {
     "name": "stdout",
     "output_type": "stream",
     "text": [
      "Part 1: 234\n",
      "Part 2: 5813773056\n"
     ]
    }
   ],
   "source": [
    "res = [sum(grid[v][right*idx % len(grid[0])] == '#' for idx,v in enumerate(range(0, len(grid), down)))\n",
    "    for right, down in ([1,1], [3,1], [5,1], [7,1], [1,2])]\n",
    "\n",
    "# (We are assuming [0][0] is always False)\n",
    "\n",
    "\n",
    "print(f\"Part 1: {res[1]}\\nPart 2: {math.prod(res)}\")"
   ]
  },
  {
   "cell_type": "code",
   "execution_count": 121,
   "metadata": {},
   "outputs": [
    {
     "name": "stdout",
     "output_type": "stream",
     "text": [
      "234 5813773056\n"
     ]
    }
   ],
   "source": [
    "# Code Golf-ish:\n",
    "\n",
    "g=list(map(str.strip,open('03/input.txt')))\n",
    "a=[sum(g[v][r*i%len(g[0])]=='#' for i,v in enumerate(range(0,len(g),d))) for r,d in ([1,1],[3,1],[5,1],[7,1],[1,2])]\n",
    "print(a[1],math.prod(a))"
   ]
  },
  {
   "cell_type": "code",
   "execution_count": 100,
   "metadata": {},
   "outputs": [
    {
     "data": {
      "text/plain": [
       "0.5"
      ]
     },
     "execution_count": 100,
     "metadata": {},
     "output_type": "execute_result"
    }
   ],
   "source": [
    "0.5 % 1"
   ]
  },
  {
   "cell_type": "code",
   "execution_count": null,
   "metadata": {},
   "outputs": [],
   "source": []
  }
 ],
 "metadata": {
  "kernelspec": {
   "display_name": "pipenv_aoc",
   "language": "python",
   "name": "pipenv_aoc"
  },
  "language_info": {
   "codemirror_mode": {
    "name": "ipython",
    "version": 3
   },
   "file_extension": ".py",
   "mimetype": "text/x-python",
   "name": "python",
   "nbconvert_exporter": "python",
   "pygments_lexer": "ipython3",
   "version": "3.8.5"
  }
 },
 "nbformat": 4,
 "nbformat_minor": 4
}
