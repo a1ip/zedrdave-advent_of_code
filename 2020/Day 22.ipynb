{
 "cells": [
  {
   "cell_type": "code",
   "execution_count": 3,
   "metadata": {},
   "outputs": [],
   "source": [
    "from utils import *"
   ]
  },
  {
   "cell_type": "code",
   "execution_count": null,
   "metadata": {},
   "outputs": [],
   "source": [
    "data = \"\"\"Player 1:\n",
    "9\n",
    "2\n",
    "6\n",
    "3\n",
    "1\n",
    "\n",
    "Player 2:\n",
    "5\n",
    "8\n",
    "4\n",
    "7\n",
    "10\"\"\""
   ]
  },
  {
   "cell_type": "code",
   "execution_count": 3,
   "metadata": {},
   "outputs": [
    {
     "data": {
      "text/plain": [
       "35397"
      ]
     },
     "execution_count": 3,
     "metadata": {},
     "output_type": "execute_result"
    }
   ],
   "source": [
    "p1,p2 = [[int(i) for i in p[10:].split('\\n')] for p in open('22/input.txt').read().split('\\n\\n')]\n",
    "\n",
    "for i in range(1, 10000):\n",
    "    c1,c2 = p1.pop(0),p2.pop(0)\n",
    "    if c1 > c2:\n",
    "        p1 += [c1, c2]\n",
    "    else:\n",
    "        p2 += [c2, c1]\n",
    "    if not len(p1) or not len(p2):\n",
    "        break\n",
    "\n",
    "p = p1 if len(p1) else p2\n",
    "\n",
    "sum((i+1)*c for i,c in enumerate(p[::-1]))"
   ]
  },
  {
   "cell_type": "code",
   "execution_count": 3,
   "metadata": {
    "scrolled": false
   },
   "outputs": [
    {
     "name": "stdout",
     "output_type": "stream",
     "text": [
      "Part 1: 35397\n",
      "Part 2: 31120\n"
     ]
    }
   ],
   "source": [
    "def 𝓟(p, q, P1=0):\n",
    "    S={0}\n",
    "    while p and q:\n",
    "        h = {(*p,0,*q)}\n",
    "        if h&S: return [1]\n",
    "        S |= h\n",
    "        c,d = p.pop(0),q.pop(0)\n",
    "        w = c>d if P1 or c>len(p) or d>len(q) else 𝓟(p[:c],q[:d])[0]\n",
    "        if w: p+=(c,d)\n",
    "        else: q+=(d,c)\n",
    "    return (p,q)\n",
    "\n",
    "for part in (1,2):\n",
    "    p,q = [[int(i) for i in p[10:].split('\\n')]\n",
    "           for p in open('22/input.txt').read().split('\\n\\n')]\n",
    "    p,q = 𝓟(p,q, part==1)\n",
    "    print(f'Part {part}:', sum((i+1)*c for i,c in enumerate((p+q)[::-1])))"
   ]
  },
  {
   "cell_type": "code",
   "execution_count": 2,
   "metadata": {},
   "outputs": [
    {
     "data": {
      "text/plain": [
       "31120"
      ]
     },
     "execution_count": 2,
     "metadata": {},
     "output_type": "execute_result"
    }
   ],
   "source": [
    "data = open('22/input.txt').read()\n",
    "p1,p2 = [[int(i) for i in p[10:].split('\\n')] for p in data.split('\\n\\n')]\n",
    "\n",
    "def P(p, q, n=1):\n",
    "    S = {0}\n",
    "    while p and q:        \n",
    "        h = tuple(p+['']+q)\n",
    "        if h in S: return 1\n",
    "        S.add(h)\n",
    "        c1,c2 = p.pop(0),q.pop(0)\n",
    "        w = c1>c2  if (len(p) < c1 or len(q) < c2) else P(p[:c1], q[:c2])\n",
    "        if w: p += (c1,c2)\n",
    "        else: q += (c2,c1)\n",
    "    return len(p)>len(q) if n else sum((i+1)*c for i,c in enumerate((p+q)[::-1]))\n",
    "P(p1,p2,0)\n",
    "\n",
    "# 31120\n",
    "\n",
    "# print(sum((i+1)*c for i,c in enumerate((p1+p2)[::-1])))\n",
    "\n",
    "# 1.01 s ± 17.8 ms per loop (mean ± std. dev. of 4 runs, 1 loop each)\n",
    "# 515 ms ± 12 ms per loop (mean ± std. dev. of 4 runs, 1 loop each)"
   ]
  },
  {
   "cell_type": "code",
   "execution_count": 130,
   "metadata": {},
   "outputs": [
    {
     "name": "stdout",
     "output_type": "stream",
     "text": [
      "31120\n"
     ]
    }
   ],
   "source": [
    "data = open('22/input.txt').read()\n",
    "\n",
    "p1,p2 = [[int(i) for i in p[10:].split('\\n')] for p in data.split('\\n\\n')]\n",
    "\n",
    "def play(p1, p2):\n",
    "    played = set()\n",
    "    while p1 and p2:\n",
    "        \n",
    "        h = tuple(p1+['']+ p2)\n",
    "        if h in played: return ([1],[])\n",
    "        played.add(h)\n",
    "\n",
    "        c1,c2 = p1.pop(0),p2.pop(0)\n",
    "        \n",
    "        if len(p1) < c1 or len(p2) < c2:\n",
    "            p1_wins = c1>c2\n",
    "        else:\n",
    "            if max(p1[:c1]) > max(p2[:c2]): # Early pruning\n",
    "                p1_wins = True\n",
    "            else:\n",
    "                h1,h2 = play(p1[:c1], p2[:c2])\n",
    "                p1_wins = len(h1)>len(h2)\n",
    "        if p1_wins: p1 += (c1, c2)\n",
    "        else: p2 += (c2,c1)\n",
    "    \n",
    "    return (p1,p2)\n",
    "\n",
    "p1,p2 = play(p1,p2)\n",
    "print(sum((i+1)*c for i,c in enumerate((p1+p2)[::-1])))\n",
    "\n",
    "# 1.01 s ± 17.8 ms per loop (mean ± std. dev. of 4 runs, 1 loop each)\n",
    "# 515 ms ± 12 ms per loop (mean ± std. dev. of 4 runs, 1 loop each)"
   ]
  },
  {
   "cell_type": "code",
   "execution_count": null,
   "metadata": {},
   "outputs": [],
   "source": []
  }
 ],
 "metadata": {
  "kernelspec": {
   "display_name": "pipenv_aoc",
   "language": "python",
   "name": "pipenv_aoc"
  },
  "language_info": {
   "codemirror_mode": {
    "name": "ipython",
    "version": 3
   },
   "file_extension": ".py",
   "mimetype": "text/x-python",
   "name": "python",
   "nbconvert_exporter": "python",
   "pygments_lexer": "ipython3",
   "version": "3.8.5"
  }
 },
 "nbformat": 4,
 "nbformat_minor": 4
}
