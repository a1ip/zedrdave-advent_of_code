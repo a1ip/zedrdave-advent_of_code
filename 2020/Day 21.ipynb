{
 "cells": [
  {
   "cell_type": "code",
   "execution_count": 5,
   "metadata": {},
   "outputs": [],
   "source": [
    "from utils import *"
   ]
  },
  {
   "cell_type": "code",
   "execution_count": 83,
   "metadata": {},
   "outputs": [],
   "source": [
    "# data = dl_input(21)\n",
    "data = open(input_file(21))\n",
    "\n",
    "# data = \"\"\"mxmxvkd kfcds sqjhc nhms (contains dairy, fish)\n",
    "# trh fvjkl sbzzf mxmxvkd (contains dairy)\n",
    "# sqjhc fvjkl (contains soy)\n",
    "# sqjhc mxmxvkd sbzzf (contains fish)\"\"\".split('\\n')"
   ]
  },
  {
   "cell_type": "code",
   "execution_count": 84,
   "metadata": {},
   "outputs": [],
   "source": [
    "# ingredients, allergens\n",
    "\n"
   ]
  },
  {
   "cell_type": "code",
   "execution_count": 85,
   "metadata": {},
   "outputs": [],
   "source": []
  },
  {
   "cell_type": "code",
   "execution_count": 3,
   "metadata": {},
   "outputs": [
    {
     "name": "stdout",
     "output_type": "stream",
     "text": [
      "Part 1: 1882\n",
      "Part 2: xgtj,ztdctgq,bdnrnx,cdvjp,jdggtft,mdbq,rmd,lgllb\n"
     ]
    }
   ],
   "source": [
    "F= [({*i.split()}, {*a.split(', ')})\n",
    " for i,a in [l.strip()[:-1].split(' (contains ') for l in open('21/input.txt')]]\n",
    "𝐔= set.union\n",
    "A= 𝐔(*[a for _,a in F]) \n",
    "P= {aa: set.intersection(*[i for i,a in F if aa in a]) for aa in A}\n",
    "print('Part 1:', sum(len(i - 𝐔(*P.values())) for i,_ in F))\n",
    "\n",
    "C = {}\n",
    "while len(C) < len(P):\n",
    "    a,i = next((k,v) for k,v in P.items() if len(v) == 1)\n",
    "    C[a] = [*i][0]\n",
    "    P = {k:(v-i) for k,v in P.items()}\n",
    "\n",
    "print('Part 2:', ','.join(v for k,v in sorted(C.items())))"
   ]
  },
  {
   "cell_type": "code",
   "execution_count": 94,
   "metadata": {},
   "outputs": [
    {
     "data": {
      "text/plain": [
       "{'sesame': set(),\n",
       " 'shellfish': set(),\n",
       " 'soy': set(),\n",
       " 'peanuts': set(),\n",
       " 'nuts': set(),\n",
       " 'fish': set(),\n",
       " 'eggs': set(),\n",
       " 'dairy': set()}"
      ]
     },
     "execution_count": 94,
     "metadata": {},
     "output_type": "execute_result"
    }
   ],
   "source": [
    "possible"
   ]
  },
  {
   "cell_type": "code",
   "execution_count": null,
   "metadata": {},
   "outputs": [],
   "source": []
  }
 ],
 "metadata": {
  "kernelspec": {
   "display_name": "pipenv_aoc",
   "language": "python",
   "name": "pipenv_aoc"
  },
  "language_info": {
   "codemirror_mode": {
    "name": "ipython",
    "version": 3
   },
   "file_extension": ".py",
   "mimetype": "text/x-python",
   "name": "python",
   "nbconvert_exporter": "python",
   "pygments_lexer": "ipython3",
   "version": "3.8.5"
  }
 },
 "nbformat": 4,
 "nbformat_minor": 4
}
