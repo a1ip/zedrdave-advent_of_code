{
 "cells": [
  {
   "cell_type": "code",
   "execution_count": 46,
   "metadata": {},
   "outputs": [],
   "source": [
    "from utils import *\n",
    "from collections import defaultdict\n",
    "import itertools"
   ]
  },
  {
   "cell_type": "code",
   "execution_count": 107,
   "metadata": {},
   "outputs": [],
   "source": [
    "data = dl_input(17)"
   ]
  },
  {
   "cell_type": "code",
   "execution_count": 108,
   "metadata": {},
   "outputs": [],
   "source": [
    "data = \"\"\".#.\n",
    "..#\n",
    "###\"\"\""
   ]
  },
  {
   "cell_type": "code",
   "execution_count": 109,
   "metadata": {},
   "outputs": [],
   "source": [
    "data = open(input_file(17)).read()"
   ]
  },
  {
   "cell_type": "code",
   "execution_count": 110,
   "metadata": {},
   "outputs": [],
   "source": [
    "Δ = [-1,0,1]\n",
    "Neigh = lambda x, y, z: sum(P[x+dx, y+dy, z+dz] for dx in Δ for dy in Δ for dz in Δ if (x+dx, y+dy, z+dz) in P)\n",
    "\n",
    "R = lambda P,n: range(min(x[n] for x in P.keys())-1, max(x[n] for x in P.keys())+2)"
   ]
  },
  {
   "cell_type": "code",
   "execution_count": 111,
   "metadata": {},
   "outputs": [
    {
     "name": "stdout",
     "output_type": "stream",
     "text": [
      "54\n",
      "78\n",
      "125\n",
      "146\n",
      "272\n",
      "273\n"
     ]
    }
   ],
   "source": [
    "P = {(x,y,0):True for y,X in enumerate(data.split('\\n')) for x,c in enumerate(X) if c == '#'}\n",
    "\n",
    "def cycle(P):\n",
    "    newP = {}\n",
    "    \n",
    "    for xyz in itertools.product(R(P,0),R(P,1),R(P,2)):\n",
    "        if xyz in P and P[xyz]:\n",
    "            newP[xyz] = (3 <= Neigh(*xyz) <= 4)\n",
    "        else:\n",
    "            newP[xyz] = (Neigh(*xyz) == 3)\n",
    "    return newP\n",
    "\n",
    "for _ in range(6):\n",
    "    P = cycle(P)\n",
    "    print(sum(P.values()))"
   ]
  },
  {
   "cell_type": "code",
   "execution_count": 67,
   "metadata": {},
   "outputs": [
    {
     "name": "stdout",
     "output_type": "stream",
     "text": [
      "150\n",
      "198\n",
      "684\n",
      "572\n",
      "2296\n",
      "1504\n"
     ]
    }
   ],
   "source": [
    "data = \"\"\".#.\n",
    "..#\n",
    "###\"\"\"\n",
    "data = open(input_file(17)).read()\n",
    "\n",
    "from itertools import product as pd\n",
    "\n",
    "dim = 4\n",
    "\n",
    "Δ = [-1,0,1]\n",
    "𝖠 = lambda T,D: tuple(t+d for t,d in zip(T,D))\n",
    "𝗡 = lambda i: sum(P[𝖠(i,d)] for d in pd(* [Δ]*dim) if 𝖠(i,d) in P)\n",
    "rng = lambda X: range(min(X)-1, max(X)+2)\n",
    "\n",
    "P = {(x,y, * [0]*(dim-2)): 1 for y,X in enumerate(data.split('\\n')) for x,c in enumerate(X) if c == '#'}\n",
    "\n",
    "for _ in range(6):\n",
    "    P = {i: (2 < 𝗡(i) < 5 if (i in P and P[i]) else 𝗡(i) == 3)\n",
    "         for i in pd(* (rng([x[n] for x in P]) for n in range(dim)))}\n",
    "    print(sum(P.values()))"
   ]
  },
  {
   "cell_type": "code",
   "execution_count": 2,
   "metadata": {},
   "outputs": [
    {
     "name": "stdout",
     "output_type": "stream",
     "text": [
      "273\n",
      "1504\n"
     ]
    }
   ],
   "source": [
    "G = lambda d: {(x,y, * [0]*(d-2))\n",
    "         for y,X in enumerate(open('17/input.txt').read().split('\\n'))\n",
    "         for x,c in enumerate(X) if c == '#'}\n",
    "\n",
    "from itertools import product as pd\n",
    "\n",
    "𝑅 = lambda X: range(min(X)-1, max(X)+2)\n",
    "\n",
    "def GoL(d):\n",
    "    𝑁 = lambda i: sum(tuple(a+b for a,b in zip(i,δ)) in P for δ in pd(*[[-1,0,1]]*d))\n",
    "    P = G(d)\n",
    "    for c in range(6):\n",
    "        P = {i for i in pd(*(𝑅([x[n] for x in P]) for n in range(d)))\n",
    "             if (i in P and 2<𝑁(i)<5) or 𝑁(i)==3}\n",
    "    print(len(P))\n",
    "\n",
    "    \n",
    "GoL(3)\n",
    "GoL(4)"
   ]
  },
  {
   "cell_type": "code",
   "execution_count": 55,
   "metadata": {},
   "outputs": [
    {
     "data": {
      "text/plain": [
       "50625"
      ]
     },
     "execution_count": 55,
     "metadata": {},
     "output_type": "execute_result"
    }
   ],
   "source": [
    "sum(1 for i in pd(*(rng([x[n] for x in P]) for n in range(dim))))"
   ]
  },
  {
   "cell_type": "code",
   "execution_count": 12,
   "metadata": {
    "scrolled": false
   },
   "outputs": [
    {
     "name": "stdout",
     "output_type": "stream",
     "text": [
      "273\n",
      "1504\n",
      "10120\n"
     ]
    }
   ],
   "source": [
    "from itertools import product as pd\n",
    "\n",
    "G= lambda d: {(x,y,*[0]*(d-2))\n",
    "                  for y,X in enumerate(open(\"17/input.txt\").read().split('\\n'))\n",
    "                  for x,c in enumerate(X) if c == '#'}\n",
    "𝑅= lambda X,b: range(b*(min(X)-1), max(X)+2)\n",
    "Δ= [-1,0,1]\n",
    "𝑁= lambda i,P,d: sum(tuple(a+b for a,b in zip(i,δ)) in P\n",
    "    for δ in pd(Δ,Δ,*[Δ if max(i[2:]) != 0 else [1,0,1]]*(d-2)))\n",
    "\n",
    "def GoL(d):\n",
    "    P= G(d)\n",
    "    for _ in range(6):\n",
    "        P= {i for i in pd(*(𝑅([x[n] for x in P],n<2) for n in range(d)))\n",
    "            if (i in P, 𝑁(i,P,d)) in [(1,3),(1,4),(0,3)]}\n",
    "    l= sum(max(i[2:]) == 0 for i in P)\n",
    "    return (l+(len(P)-l)*2**(d-2))\n",
    "\n",
    "print(GoL(3))\n",
    "print(GoL(4))\n",
    "print(GoL(5))"
   ]
  },
  {
   "cell_type": "code",
   "execution_count": 10,
   "metadata": {},
   "outputs": [
    {
     "name": "stdout",
     "output_type": "stream",
     "text": [
      "214\n",
      "106\n",
      "440\n",
      "644\n",
      "2496\n",
      "1504\n"
     ]
    }
   ],
   "source": [
    "data = open(\"17/input.txt\").read()\n",
    "from itertools import product as pd\n",
    "dim = 4\n",
    "Δ = [-1,0,1];w=[1,0,1]\n",
    "𝖠 = lambda T,D: tuple(t+d for t,d in zip(T,D))\n",
    "𝗡 = lambda i: sum(𝖠(i,d) in P for d in pd(Δ,Δ,*[w if max([*i][2:])==0 else Δ]*(dim-2)))\n",
    "rng = lambda X,b: range(b*(min(X)-1), max(X)+2)\n",
    "\n",
    "P = {(x,y,*[0]*(dim-2)) for y,X in enumerate(data.split('\\n')) for x,c in enumerate(X) if c == '#'}\n",
    "\n",
    "for _ in range(6):\n",
    "    P = { i for i in pd(*(rng([x[n] for x in P],n<2) for n in range(dim)))\n",
    "            if (i in P,𝗡(i)) in [(1,3),(1,4),(0,3)]}\n",
    "    l=len({i for i in P if max([*i][2:])==0})\n",
    "    print(l+(len(P)-l)*2**(dim-2))"
   ]
  },
  {
   "cell_type": "code",
   "execution_count": null,
   "metadata": {},
   "outputs": [],
   "source": []
  }
 ],
 "metadata": {
  "kernelspec": {
   "display_name": "pipenv_aoc",
   "language": "python",
   "name": "pipenv_aoc"
  },
  "language_info": {
   "codemirror_mode": {
    "name": "ipython",
    "version": 3
   },
   "file_extension": ".py",
   "mimetype": "text/x-python",
   "name": "python",
   "nbconvert_exporter": "python",
   "pygments_lexer": "ipython3",
   "version": "3.8.5"
  }
 },
 "nbformat": 4,
 "nbformat_minor": 4
}
