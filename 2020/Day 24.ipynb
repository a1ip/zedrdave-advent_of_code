{
 "cells": [
  {
   "cell_type": "code",
   "execution_count": 1,
   "metadata": {},
   "outputs": [],
   "source": [
    "from utils import *"
   ]
  },
  {
   "cell_type": "code",
   "execution_count": 2,
   "metadata": {},
   "outputs": [
    {
     "data": {
      "text/plain": [
       "'swsenenwneswnewseswwseswnwsweeswnw\\nesweeeeneeeneeeweeeenenenee\\newewsewswnewnwnewwwwsew\\nnwnwnwnwnenwwnwsenwnwnwnwnwnwnw\\nnwswseswneswseswswneswswseneseswswsenwswse\\nswswswneswswswswwneseswwswsw\\nnewnwwnwnenenenenwsweenenwnenwnenese\\nsenwsewseneneseneenenwwneneeswnewsw\\neeeeneweeeseeeeeenewneswe\\nwnwswwewwwsewnwnwwnwnwwwnwnwnww\\nnenwnwnwnesenwwnwnwwneswnwnenesweneenwnw\\nnwwnwwwwenwwswnwwwwwewsesew\\nswnwswwswswewswseswnwne\\nwswnewswnwwwwenewsewwwwneswe\\nnwnwnenenewneneneneneenenesenwneswneswse\\nnwewsenwnwneseswwwwwwswwswwwwe\\nnesenwseneswseswnwneseseseseseswnwse\\nwnesweseswenwnenwnweseeseseeswnwse\\nswswnenenenenewneneeeneneeneneenenene\\nseseseseeweseeesee\\nwwwwwwwwwnewnwwwswww\\nsesenwesenwseeseseseewswneseseesesw\\nwnewwwsewnwwnwnwewnwswnwwwwnwe\\nnwnwnenwnwneneenewswnwnenwswnwnesenwsw\\neeswwneeneneeneeneeeeesw\\nseneenesewneeneswwnenenweeenenewwe\\nseswseswsenwswswseswswswswenwswsesesw\\nnwnwnenwnenwnenwnwnwnenwswnenwwwnwese\\nwnwwwwwnwwwnwwnwnwseneenwnwnww\\newnwnwnwnwnwnenwnwnwnenenwsenenwnwnene\\nneneweeeeneeneesweseswswneseswse\\nseswseeneswswswseseewsewnwswswwnwne\\nswwneneneweseswnenwneeneneeeeeeee\\nswwwwwwwwwwwwswswwswswnesew\\neewenwseeeeeweeeeneeese\\nneneneneneeneswneeenee\\nsewnwnwwswnwseenwwnenenwwnw\\nswsweswswswswsewseneseswswsesweswnwsw\\nnenewewwwwwwwwwnewwswsesewww\\nenwsweneseseeesese\\nswneseseseneeseesenwwseneswseseseseew\\nnwswswneeeewneseenwnwnesewwswnwesw\\nnenenwneenwneneneneneneneneneswenewne\\nnwneneseeenwnwnwneneneswneswwnenwnwnenw\\nneseenenwneeneneneeeeneene\\nsesesewseseseswneseesesesesenewseswsese\\nsenwnewseneneeeneeeeeenesenwnene\\neeweneneeenweeeseesweeeee\\nesesenwswnwseewseswseeeseswenenwse\\nneeneeeseswseeesweneeseeesweee\\nswweswnwneswswwswswneswswswswswsw\\nwwswwwnwnwnenewnwenwswnwsesenwnwe\\nneseneenwneeeeeneneeeewneeene\\nswsenwsesesweswsewswswswsenwneseswsesw\\nwewwwwwnwwwwwnwwwnw\\nswseweeenwswneseseesenese\\nsenwsesesesesesesewseesewe\\nsewnwnwnweswnwnwsenwnwnwnwsenwnwnwnwnw\\nswswswswswswswswswseswswswswswswwswnesw\\nwswnwnwsewwnwewwewwnesewwne\\nenenenwnewnenwnenenwwneswneseswnenwsenwnw\\nseseseswswseswsewnwsewswswseeseeswse\\nnwseswnweswnwneseweswsesweseseswne\\nseseswwnwswneneseneneseeseesenwswnwww\\nwswswwwwswwneswseswnwswswsew\\nsenwnwwnwnwesewswnewswwsenwwnwnwwnw\\nswsewneswswswswwswswwswswswsw\\neneseeeswneswneeseesenwewsenwewnwnw\\nneneneeeneweneneeswe\\nneeeseeenwnweewswnewneseneenenee\\nsenewesesenweseseeesewsesesesesesee\\neseeeseseseenwseeneseseeewse\\nnwnwseseenwenwnenwwswnwnwnwwnwnwnwnwnw\\nsenewweseeenwsesesenesewsesesesee\\nenenenwswnenewswenwnwneenwwnwswnenene\\neswseseneswsenwswseseseswsesesewsenwsesee\\nwnwneswneseneneneneeneneswenenenenewne\\nseswneewsenesesewnwwswnesewswesenwne\\neswwesenwwenwnwnweseseeeeeese\\nneeneswneeswnenesenwnwneswnenwneneswsene\\nswswneseseswswswswwewnwsenwesweneswnwe\\nnwenwwwnwnwnenwnenwnwnwnwnwsweneswe\\nseseneneeseseeeeswsenwwwesesenwe\\nsweswseswwnwsesesewseseseseswseneswnene\\nseswseseseseseswwseswsenesesesesesesese\\nsesesenwswswseswswsw\\nsenwseeeeseseeseseseenwewswesee\\nwwsenwewwnewwswwwwwswwwwwne\\nnwnwnwneswnwnwnwsenwwwnwwnwnwnwenwse\\nswwwswswswwwsewnenwswwswwswseww\\nenweenesesesenewnwnwwswswswseseese\\nswnenenenenenenenwnenesenewnenwnenenwnene\\nenenesweeeeseneeneeeneeneeew\\nwnweseeswnwwenwnenwnwnwwenwnwsenwwnw\\nneswswswseswswswwswnesw\\nneswseeneseswsewseseswseseswswwswswse\\nseeneswsesenweeeseeseswsewenesee\\nwewewwnenesewsenwwnenwnwseswsww\\nnwnwsesewnwseeeswnwnwseewseenw\\nnwwwwwnwwnwnwwwwnwsenwwwwsew\\neenwneseeeneeneenenwseeeeeee\\nnwenwnwnenwswnwneesenwwwnwnwnwsenwnw\\nswswswswseswswswswwseswswswswswswswswne\\nswwwwwwwwwwnwwewwwnwwww\\nesweeeeeeneeenwnwenesw\\neeenweeeseese\\nwwwnewwsewewwwwwwwwww\\nseseseeseseesesenwesewseeseseseswnesese\\nsenwnwwneswwswwnenwwwewnwnwwnww\\nswnwsesewneenwenwseenwneeseeseewsw\\neneeneneneneneneswsewswsenenenwnenenenw\\nwneesweseswswwsewswnweswswewswswse\\nneseneneeewneneenewnenenenenenenenene\\nwswnesewwsenewswswswswneswswswsweesw\\nswswsesenwseswsewseswneseseseswsesw\\nseswwswwwseswswswswswweswneswswnewsww\\nneneesenewewnenwneneneswnwweswswnese\\nswswswwwswswswswswwneswswwwswseww\\nneenenenenenenenenenwsewneneneneswnenene\\neneeeeseenenwwesenesweeseeesw\\nswswswswswswwswnwswswwswseswswswsw\\neneseseseswsesesewsesesesesenwseseswenese\\nnenesweenenenewneneeeneswnweenene\\neneswsenwseenwenwene\\nswsewnenwenwwwwseseseswnwwne\\nseeseseseseseseswsewsesesenwseseseewse\\nswenewswnenwswsweswneswswswse\\nwnwwnwwwswwwwnwsenenwnwwwnwwww\\neswswwswswnwswswwwswswsewsweeswww\\nnwwnwenwnwnwwnwsewnwwwnwnenwnwnwnwnw\\nseswwseeswswseenwneseswnewwswseswsw\\nenewwwswesewwnenwseswseweenwnwnew\\nswseswseesenwseseseseseseseswseswwsee\\nneneneneneneneneneneneenwnewneswe\\nwnwswswnewnwnwwwsenewweeswnwnenww\\nswenweenweeneswneeeeneneee\\nnesweswswseeswswsenwswsewwseneneswse\\nnwneswewnwnenwnwnenesenenenwnwnwneswnene\\nwenwswnwnwnwnwnenwnwnwenenwnwnwnwnwnwnwne\\nseseneesewnwnwneenwseeswswsesewnese\\nswnewswnwswnwnwnwwenwnwseewnwnenenww\\nseesesewenwneeeenwnesenenwsweseswnwsw\\nswnenenwnwnwnenenwnwnwnwswnenenenenwnwse\\newewnwwswesewsweswnweswswnwnwwnesw\\nneseneewwswwwwnwwwewwwwwsww\\nenwnwnwwswnesewwnwnwsewswnw\\nsewwwwwsweswnwswswnwwwwewsesw\\nneneneseweneenenwesewnenenenenenese\\neeeenweeeeswseewnweewneswnew\\nwnwnenwnweneneswnenwenenenwnesenwne\\neseseseseswsenwseseswsesesesesesesesese\\neseeseeseeesesenwwseene\\nnenwnwnwnewnwnesenwnwsenwnwneneseesw\\newwnwnewnwwnwnwnwnwnwswswswwwnwenw\\nsenwwneeneeeneneneenewneswenwnene\\nnwnenwnenwewenwnenewseeeenwswswwswe\\nwwewwwwnwwnwwwnw\\neeeeeeseseeeeeeeeeew\\nwnwneeeseeneeneeneeneweseeenesw\\nnwwnwsweswwwseww\\nswswwswneswseswswswseswswseswsesweswwsw\\nnewneneeneseenenenenenenenenenenewwne\\nnesewwwwswwnwwwnwwwneewwwsee\\nenwseseseseeseseseeeseesese\\nseeseseseseseeseseswneseswseseesesesenwse\\nnwseeseeesesewswseswwsenwseswneseesw\\nwneseenwnenwenwneeneneneneneeseesee\\nnwneesenwsweeneneneeseeneesenwww\\nnenenwswnwswnwnwnwnwnwnenwnenenwnenwnwnwnw\\nnwnwnwenwnwnwnwnwnwnwnwnewnenwnwswnwnw\\nwwwwnwwnwwnwewnwnwnwwnwwwswnw\\nneewneenewseneneeneneneneneneneene\\nneneneneneneneneneneswnenwnenenwnesenwnene\\neeeeeeeseeeeeeeneeweee\\newwsweswsweseswswswswnwnwewnwnesw\\nweswswseseenweneesenenwnwnwneswswse\\nnwswswseswwswswswswwwswsww\\nseswseswwseseswswswneseswseswswswneseswswsw\\neneeneewnenwneeseeneneeneneneseeee\\neenwnweswenwenenwswswneeeewese\\nnenenenesweneswneswnenwne\\nenweseeseeneesweswnwsee\\nswnesesenenwwswnwsesenweneenenweswwew\\nnenwnwnwnwnwnwnwnwnwwnwnesenwswnwenwnw\\nnwwnenwnwnwswnwswsenwnwenwnwswnwenwnwe\\nswweeenwneswnwnwwswsewwswswseneew\\nesewnwseenwseseenweseseseesesesenwse\\nenweseeeeseseeneeseeeseweee\\neeseeeeseseseeeewneeeseeeswe\\nswswwwnewswwswwswwswwswsw\\neewseeenwsweenweneesewnweew\\nwswswsenweswnwsenwnwswswwneseweneww\\nnenewswnenesenenenenenwnwnenewneenenene\\nnwnwnwnwnwenenwnwnwwnwnwnw\\nsweweesweseeeswnweenwseneeenwee\\newesesenweseenwseseseeseneseeeswe\\neneenenewnenenenenesenenene\\neeeesesweeewseseeeneesewenesew\\nwswwwswswswwswswnwsweswswwswnewseswsw\\nswswswseswswswswswswswswswseseseswswenw\\nneenenwenenweseweneenesenwswneswnwswne\\nseswwwwwwwwwwwwwwwwnesenewne\\nswswswswswsweswswseswswswswswswseenwnwswsw\\neneeeseeseseeseeseewseseseseee\\nswneswswwnewewswswsewwswwswnewse\\nwnwnwwwswwnwwewwwwwseewnewsw\\nsenweeneeseeewenwsew\\nnwnwnwnwseswnwnwnwnwenwnwenwnwnwnwwwwsw\\neeseneeeswewenwneeseeeeeee\\nwnwenwwnwnwnwnwe\\nwswwswswwwwwwsewswwneswswswsww\\nnwnwnwnwnenwnwnenenesw\\nnenewwnwnwswnwesenwneseneenenwneewne\\nnwneneswnwnenenwnwwsenwnenwnenenwnenenw\\nswwwwswswnenwsweswenwswseneswwswnese\\neeeeewneweeeeswsewesweenwene\\nseswsewnwwnenwwsesenesewnwweeswswnwse\\nsenweeseseswnewseseswsenesese\\nnwsenwnwnwnwnwnwenwnwnwnwwnwwwnwww\\nwseseseseseswswswswneswse\\nnwneneswnenenenenwnenwne\\nesenwseeswseseseseseseswsesenesenwswse\\nseswswswswnenwswenewenwneswseswwswswswse\\nsweswwwnwswwswwnweswww\\nswwswsewswwswwswwswswwnewneww\\nswseneswwnwweswswseswseeswwneswswswew\\neseseseesesesenweeseseseweeseswese\\nswswnwnwnweswswswswswswswee\\nswseneswsesenesweewwseneswseswswnwnw\\nsewseeseseseeeseseesesesenese\\nseswnesesesesesesewseseseswsesesesesese\\nseseseseswseswseseseseswsesewseswsenese\\nenwnenwenwnenwnwswsenwnwswne\\nenenewnenwneneneneneneneewnenenenene\\nnwwsweneswwswwsewswwswwswwenwswsw\\nswsewseseneswswswseseswseeswseswsesese\\nneneseewneseneneneeneneenwnenewe\\nwwnwwwewswewwwwwwwswwswww\\neeswneneneneneneneeneneneswswnenenwnw\\nnwnwnenenwnwsenwnwnenenwnenw\\neeseseseesenwseseeesesesewseseseseesw\\nwewwwswwwswwwwwwswnwsewwnw\\nnwwnwnwwwnwnwewnwnwwnwswswnwwnwe\\nnenwnenwnwnenwnwnwswnwnwwnwnesenwnweswnenw\\nwwneweenenwswnesesewnewswswwwse\\nseswswsesesesewswseseseseseseneseswsese\\nswswseswseseswseswseneeswswseswsesewse\\neneneenweeewnwesenenwseswseewwe\\nswenenweeeneeeneewseeswenwee\\nenesenewwwswseseswsese\\neswneseweneneeneneeenweneneeee\\neseseeseseeweswswenwneeeeneewne\\nwnwwneenwwwwsenwwwwnwwwwww\\nnwnweseenweewneswesweeeeeneew\\nswswswwnewswwswseneswwwswwwswsww\\nnenwswnwnwnwenwnwnwnenenwnwnenwnwnwnene\\nnwnwwwwnwnwwnwnewnwnwnwnwsenwwww\\nwswnwwseswwswwswwnwwewswsewswew\\nwneeweneneneseneswnewnenesesenenwnee\\nsesesesenwseswseswsesesesenwsewseneesese\\nswseswsenwsweseswsewswsweswse\\nnesesesweewwsweswseseswnwnwnwswsee\\nnenwnenwnwnenenwneswseseenw\\nsesenwswsenenwseswnew\\nsewseseseseeseseseseseesesesesenwseseswse\\nsewwenwnwnwwnenwnewswnwwwwnwwwnww\\nnwnenesewnwnwnwnwnwnenwsenwnwnwnwnwnwnwnw\\nnenwseneswnweseseswneweswnesenweewne\\nsesenwseseseewseseewseneseesesesesw\\nwwnwwnwnwwseswwnwenwnwwwnwnwewww\\nseseswsenwseswswseswwneseswsese\\nsweeswnenenenwneneenweeeneeeeene\\nseseseseswneswseswseswsenwseseseswsese\\nenenenenenenwnwnwnwnenesenenwnwneswnwnene\\nswwsweswwswwwswswswsw\\nwwswwnwsewswwnenwwwwwnwenwnww\\neenwnwseseseseeeeeeeeeweeswswe\\nnwsenwnwnwnwnwnwnwnwnenwnwnenwwne\\nswwswswsweswswswswwesweseswswswswsww\\nseseesenwseweseeeseseewseseswsese\\nnwseeeesweeeeeseeweeenweeee\\nseeswneseseseseseswsesesesesesesesenw\\neswenewsenwwneeeneeneeneenenee\\nwswenwnwenwwnenwwswesewseneweewsw\\nsweswenwswnwswswnwnwwnweenenwnwe\\nnwenweeswswwww\\nnwneneneswnwnenenenwnwneneswnwnwnesenenene\\nswseeesweeewsesenwweseenweenee\\nnenwneswneswneneenesenesewnwnesenewnenene\\nsewsesesesesesesenwseseeseneseewwsese\\nseswswswswwswwneswwswswswswwswwwnw\\neeesenweeewseweeeswweneswnenw\\neeeeeneeeweseeweeeeeeee\\nseswnesesewwseseeenesenewseswwnesw\\neeeeeeseeewseeeeeneseeee\\nnwwwnwenwwswwnwenwwsenesenwwnw\\nwwwwwwwwwsenwwnwwnwwnwwwsew\\nseswswswseswseseswswswseswnwesenwseswsesw\\neneeneeneneeeeweneneneseweneee\\nswwwwewswnwswewnwswwswwswwwswsw\\neswneseeneneewneswseeweeeneenwnenw\\nswswnwwwseswnwnesewseswwnwswsenwswe\\nswswswwsewnwwwewswwneswsewwwnw\\nnwnwwnwnwwnwnwsenwnwnwnwnwnwseenwnwnwnw\\nseseseewsesesesesesenenewsesesesesesesese\\nnesenenenenenwnwwnwnenwnenenewneneneene\\nwesesesenweseseseswseseswsenwswsesewse\\neseeswseeeswenweeseseeeneeee\\nneswwnwwwwnwwwewwnwswwenwww\\nnwswnwnenwnwnwnwnwnwnweswne\\nnwwwsenwnwnwwnwsenenwswnenwwnwnewwse\\nseenwseeenwweseeeweesweeeese\\nswswsweswswswneswswseswswwwswswswswneswne\\newwwswwwwswwwwnwwwwwswww\\nseswsenwseseseswsesesese\\nneneeswewnenwswneneseswenwseewenene\\nswnwnwenenenwnwnwnwseenwnwsenenwnwwnw\\nnwneswneneneneneneseneneswnenenwnenw\\nnwnwnwnwnwnwsewnwnwseenwnwnwnenwnwswnww\\nseswseseswseseswneswneswswseswswseswswsese\\nwnwnwnwnwnwnwnwnenwnwnwnwnwnwsesenwnwnwnw\\nseseseeesesewsenenwseweeseesesee\\nnwnenwwweseswnwwwnewwswseneseww\\nswnwseseseesesesesesewseneseseseseswsesw\\nseseseseesewneseseseneseeeseseeswsese\\nnwnwwnwnenwewwnwneseswwwwnwww\\nesesesesewseseseseseeseesenwsesesese\\neswswnwswswneswswswseweseseswswswswne\\nswneenenenenenwnenenenenenwnenwnesenene\\nnwwswnwswswnwnenweeenenesenwwsenesw\\neeeeeeeeeenweeeeenwswswee\\nnwnenenenwswnenenwnenenenw\\nnwwwnwnwenwnwnwsenwwwnwwnwwnwnwnwnw\\newneweseeseseseseese\\nnwnenwnwnwnewsesenwnw\\nnenenwnewnwnwnenwsenwswneenese\\nwnwwwwwnwwwwnewsewwwnwwswwnenw\\nenweseeeeseseeeee\\nwesweseneswsewnewwneewenenenwnwse\\neseeswseeseeseseseseeseenweeee\\nwnwnweweswsesenweseseseseseswewsese\\neeeneeseeenwseeeneenwseweeee\\nesenwseswseswswseswseseseswseseseswswse\\nwwseswnewwwswewwwswnewwwew\\neeeneeeeeeenweeseenweeswee\\nsesenwneewswweneswnewsenenwenwswnw\\nnwnwneseenenewewnenewswneesenenene\\nswweswswwswswwnwwwswswwwswnwwesww\\nswnenenenwneneenwnwnwnenesweswnwnenenwnw\\nnenwnwwewwnwnwnwsewswneenwswswnwnw\\nnwwwsewwnwnewnesewwwwnwnwnwnww\\nwswwnwsenwswnweswweswswwwwenenw\\nneswswswneseswwswwwsewswwswnwnwneesw\\nnewewwswwswwewwwwwwwwseswne\\nneenenweesweneneeneneneneneneneenese\\neseseseeswseweenweseseeesesesesee\\nswseswseswswswseswseswswswnwsw\\nnenenenenenesewneewsenenenenenenenenene\\neeswneseenweseeeeeeseewsewseee\\nnwewswswwswswwswswwswswswswswswnwse\\nnwnwnwnwnwnenwnwnwnenwswnwnwnw\\neeeseeeeeeweenweseseseeese\\nswswwwswnewsewswwwnwswswsenwswsesw\\nseseswsesewsenesenesenw\\nseseswswseneswswswneswseswswnwsesesesesese\\nnwnwwnwnwnwenwnwnwnwnwnwnwnwnwnwnwnw\\nneeneseeneneneneeneenewneneneswnenew\\nnwsenwnwnwnwwnwsenwnwnwnwnwenwnwnw\\nswswswnwswswswswneswneswswswswewseswnwsw\\nseswneswswswswswswswseswswswswswswenwsw\\nwwwwnewnewnewswwswwswwwseswww\\nswenweswseswseneseswswsesewsese\\newswseswwsewsweswwswwswsenenenesene\\nswwnwnwnwseneseenenenwneswwwwwseswse\\nnesweneneeseneneneneneenenenenenwnwnenee\\nenwnwwwnwnwnwnwnwnwnwnenwsenwnwwwnwnw\\nwwwwwswwwwwnwwwewwnew\\nnenenesenenwnwswenwnwnenenwneneneneeswne\\neeneeneneesweeneneneneeeeewene\\neeseseenwnwsesesenwesenwesesesewese\\nneeeeswswneeeeeeenweeene\\nseseesewnesewseseeseseswseneseswnwsene\\nsesesewseeeneeseeseseseseeseeese\\nwswwnwwnewsewnwnwnwesewwnwnesene\\neseeneenenewnenenwseesenwnwnesewnene\\neseeneeswnwneesesewwneswewwneesw\\nneneswseneenwnenenenewneneneneneneseneene\\nsesesweseswsesesewseswsesewsesweswse\\nsewsesesesesewseseseneseeseneesesese\\nswwwenwwnwswnwnwneswwwnenwsewnwww\\nswwswswseseswswnwseswswswswsweseswsesw\\nsenwenwnewweneneswswnwswwsenwenwenwnw\\nnenwnenenenenenenenenwneneneneneneenwwsw\\nwwnwwsewsewswnewsenwneesw\\nnenwnwseswnwnwenwesewnwneeswswnwnwswnw\\nnenwswnenenenenweneseneewseeneewswene\\nesenwwsenenenewnwnwswnwnwnwwwwnwnwnww\\nsesenweeeseseeeseseeseeeseswese\\nneneneneneenenenewsenenenenenenenenene\\neeeseeeesweneneneeeeeenenwe\\neswwwwnwneewwswwnwwneswwseswswwsw\\nwseseeeesesesesenweeneseseseseeee\\nesesesenweeeeeweeeswenwne\\nwwwwswneenwsww\\nseseswseneswswswseswseswswsewswswswseese\\nweseswseeeneseseewnweseesesesee\\nswswswswswswswswneswswsw\\nswwswswswswswswswwswswenwwswww\\nnweneneneeeneneeneeseneneneneene\\nswwswwwneneswswwswwswwseswnewswsw\\neeeewenwweeeesweeeee\\nwnwseeewswswwwswsewwswnewnenew\\newseneeswswneswenweswnwwwwneswwe\\neswseswnenwswseswwseseesesesenesesesw\\nsenweeseseesesesesesw\\nnwsesesewsewnweweseseeseswsesesw\\nsewwwseseswswneenewenenwsenwseww\\nnwnenwnwneswswsenweswneneneenenenenene\\neswnweeeeneeseneeeswenweneenw\\nwsenwnwwnwnwnwnwnwnwnwnwwnw\\nnwnwenesewenwnwnwwwnwwnwnwwnwew\\nnwsenwnenwnesenwnwnwnww\\nwnewneswnwwsesenwwweweseneneww\\nswseseseneeseswsewse\\nnenwsenwnwsenenwwnwwnwnenwnesenwnwnwnw\\nneswswswswnweewnenwswswswswswswseswswne\\nnwseseseseseeeseseseeeeseeeswsese\\nwnwnwnwwwenwsewnwnwwnwnwwnwnwnenw\\nwwwwwnwwewnwww\\nnwswswswswswswswswswswswswswneswseswneswsw\\nnenesweneneeneneneneneeneneenenee\\nswswswswswswwseswwswwswsweswswswnwwsw\\nnwwewswwnwwwwnewwnw\\neeewenweeeseneeeseeeeeeeswe\\nswswenweswseseswneswswswsewsesesenenww\\neeseeeeeeneswseseseeeweeeee\\neeeseseeeeeeeeseenwenenweswesw\\nneswseswswseseseswsesw\\nsesenwwseneesewseneseseewneswswneswne\\nsenenwswswwwsewwsenenwwenwewnew\\nneeseeweeeneeenenweeseeeee\\nnwswwswswswseswwswswswnewswswwswsesw\\nswneeneneeneswnwsesesesewnwesewsesesw\\nswswenwneneewneswwswswesesewsesw\\nnwnwsenenwnenwsenwnwnenwneneeswwnenewnwnw\\nswsenenewswswsewwnewwwnwsewswwsw\\nswenenenwseseneweenene\\nwswwswneswsewswswswswswswsw\\nwsenwsenwwwsewwnwswwnenwwnwnwnwew\\nnesweweeswwseseseseeeeneenwew\\nwseseneswnwswseseswseswswsenwwswswswesw\\nwwnwnwnewswenweswenwnwenwnwswnww\\nseswneswswseswwseswswseneswswnweswswswsesw\\nswwwnewswwswswwwwwsww\\nenwswswneeneneeneneneeneee\\nswswwswswswswswswswneswswswswswsw\\nsweseneswwseeeneeenwnenweswnenwne\\neseeeeweneeseesewseswnewe\\nenwesweseenwseseeeesweeeenese\\neswsweesenwenweeeeseeeeeenwee\\neeeesenweseeeeeesweeseeee\\nwwseenenwnwwnwnwwwwnwswsenwwnwenw\\nsesenwseseseeseseswseswseswseswnwsenwsese\\neeeeneeneswnenwee\\nseswneseswseswnwswswesesewseswswswswsenwse\\nnwnwwnwwenwnwnwnw\\neenenenwneneeswneeneneseneneenenene\\nseeseseseswseseesesene\\nseseseswseseswnwswswwseswsweseswsesesenw\\nnenenenenenesenenwnenenenenenesenenenewnenw\\nnwenwnenenwnwenwswnwnwnwnwnwnwneneswsw\\nnwneswswnenenwnwnenwnenwnenwnwswnenwnwnw\\neneneneeeeneeeweneeneenene\\nenenenenwnenenesenenenenewneenenenene\\nseseseseseswsesesesesesesesesesewnenesese\\nnwnwenwwnwenwwwenwnwnwnwwwnwwsw\\neeseeesweeeseeeseeeeewnwenee\\nsweneneeneeeeneeewneneeneneenw\\nnenewnwneseseneneenwwswneneenenwwse\\nnwswwwwneswsewwswwneweweswnwsew\\nswswnwswswsweswsesw\\nnwwnwnwnenwnwnwswnwnwwnwnwnwnwwnwwew\\nswwwwwswswwwwneswwswsewwwwsw\\nseswsenenenewewnenenwnenewenenenenesee\\nwwnwwewnwnwenwwnwnwwnwswwwsww\\nwswswswswswswneswswseswswswswswswwswsw\\nsweseeeeeeeeenwneneeeenweee\\neneneneeneneneswnenenenewenenenenwnesw\\nswseeesewsenwswsesesw\\neeneneenenwneeneweswsweneneeene\\nswseseseseseseseseseeeenwswseesesesenese\\neneweeneeneneseenenenewseeeneenew\\neeswswseenenwnewe\\newenwwsesesesenwnwwesenenwnesesew\\nwwwwnwwwwnwenwwwnwwwwsenww\\nswnwsesewnenwsesesesene\\nsewnenenenwneenewsenwnenewneeesesw\\nswswswswswswswswseswnwswsww\\nseswswsenwwswseswnesweseseswswseseesenwse\\neswswwswswnwseswswswswswsweswswswswsw\\nnwnweswwnesenwnwnwnweswnwnwnw\\neswnewwswesewwwnwewwesenwnwwsww\\neswnwneneneeeeswnesewnesweeeee\\newswwnwnwnwwwnwnw\\neeneneeeneneneeenweneesweswnese\\nseswseseseswseneseseswweseseswswswseswsw\\nnwnwnwnwnenwwwenwenwnwnwesenwwnwnw\\nsewwnwwenwswnwnww\\nwseneseswseseswswenwseseswswswswswwse\\nseseeneseweneneswnwseenwswnenenenwnene\\nnenewswnwseseneeneneneseneneneewnenw\\neneeeneeneeeeneeneweese\\nwwewwswwwwwwswswwww\\nseswseseseseseswseseneseswnesesesesese\\nneneswseswnwwseswswswwswswsweswnwwswe\\nnewwswswswswwswswneeswnewswsewese\\neseeeseeseeeeeseewe\\nenenewnenesesenewnwswsenesenenwneneneesw\\nneeseeeeesesweseseseeseseenweese\\nnweswswswswswseeneswwsewswswswswswe\\nwwwwwwsenwwwnwwenewwwnwwsww\\nswsesewnwswswswneweswswseeswswneswsew\\nswseswswswswswswswnesweeswswswsenwswswnw\\neeeneseeneweneeeweeeneeneenee\\nnwnwnwnwnwenwnwnwnwswnwenwnwnwnewnwswswnw\\nnwwnenwwenwnwwwsenwnwnwswnwwneww\\nsenewswswnenenenwneeneneneneneeenenenene\\neeseseeseesesenweseeseeseewse\\nneswnesenenwswnenwswnenwswnwneswswnewseee\\nsenwnwnenenwnwnwnenenwnwnenwnwnenene\\nwwnwwwwwwwwsenewnwww\\nnwnwnwnwwnwnenwnenwnwneneenwswenwnwse\\nwwwwnwsewswswwswenwswwswswwwww\\nnwwwwnwwswenwwwnwenwnwnwnwswnww\\nnenwesenwewneneseeseenwenewnenee'"
      ]
     },
     "execution_count": 2,
     "metadata": {},
     "output_type": "execute_result"
    }
   ],
   "source": [
    "data = dl_input(24)\n",
    "data"
   ]
  },
  {
   "cell_type": "code",
   "execution_count": 32,
   "metadata": {},
   "outputs": [],
   "source": [
    "data = \"\"\"sesenwnenenewseeswwswswwnenewsewsw\n",
    "neeenesenwnwwswnenewnwwsewnenwseswesw\n",
    "seswneswswsenwwnwse\n",
    "nwnwneseeswswnenewneswwnewseswneseene\n",
    "swweswneswnenwsewnwneneseenw\n",
    "eesenwseswswnenwswnwnwsewwnwsene\n",
    "sewnenenenesenwsewnenwwwse\n",
    "wenwwweseeeweswwwnwwe\n",
    "wsweesenenewnwwnwsenewsenwwsesesenwne\n",
    "neeswseenwwswnwswswnw\n",
    "nenwswwsewswnenenewsenwsenwnesesenew\n",
    "enewnwewneswsewnwswenweswnenwsenwsw\n",
    "sweneswneswneneenwnewenewwneswswnese\n",
    "swwesenesewenwneswnwwneseswwne\n",
    "enesenwswwswneneswsenwnewswseenwsese\n",
    "wnwnesenesenenwwnenwsewesewsesesew\n",
    "nenewswnwewswnenesenwnesewesw\n",
    "eneswnwswnwsenenwnwnwwseeswneewsenese\n",
    "neswnwewnwnwseenwseesewsenwsweewe\n",
    "wseweeenwnesenwwwswnew\"\"\".split('\\n')"
   ]
  },
  {
   "cell_type": "code",
   "execution_count": 23,
   "metadata": {},
   "outputs": [],
   "source": []
  },
  {
   "cell_type": "code",
   "execution_count": 75,
   "metadata": {},
   "outputs": [
    {
     "name": "stdout",
     "output_type": "stream",
     "text": [
      "Part 1: 459\n"
     ]
    }
   ],
   "source": [
    "data = open('24/input.txt')\n",
    "\n",
    "D = {'w': (-1,0), 'nw': (0,-1), 'ne': (1,-1), 'e': (1,0), 'se': (0,1), 'sw': (-1,1)}\n",
    "\n",
    "move = lambda x,y,dx,dy: (x+dx,y+dy)\n",
    "\n",
    "BT = set()\n",
    "\n",
    "for l in data:\n",
    "    pos = (0,0)\n",
    "    while len(l.strip()):\n",
    "        if l[:2] in D:\n",
    "            pos = move(*pos,*D[l[:2]])\n",
    "            l = l[2:]\n",
    "        else:\n",
    "            pos = move(*pos, *D[l[0]])\n",
    "            l = l[1:]\n",
    "    if pos in BT:\n",
    "        BT.remove(pos)\n",
    "    else:\n",
    "        BT.add(pos)\n",
    "\n",
    "print(f\"Part 1: {len(BT)}\")"
   ]
  },
  {
   "cell_type": "code",
   "execution_count": 108,
   "metadata": {},
   "outputs": [
    {
     "name": "stdout",
     "output_type": "stream",
     "text": [
      "Part 1: 459\n"
     ]
    }
   ],
   "source": []
  },
  {
   "cell_type": "code",
   "execution_count": 188,
   "metadata": {
    "scrolled": false
   },
   "outputs": [
    {
     "name": "stdout",
     "output_type": "stream",
     "text": [
      "Part 1: 459\n",
      "Part 2: 406\n"
     ]
    }
   ],
   "source": [
    "D = {'w':(-1,0), 'nw':(0,-1), 'ne':(1,-1), 'e':(1,0), 'se': (0,1), 'sw': (-1,1)}\n",
    "𝓜 = lambda x,y,dx,dy: (x+dx,y+dy)\n",
    "\n",
    "𝐓 = set()\n",
    "for l in open('24/input.txt'):\n",
    "    P = (0,0)\n",
    "    while len(l.strip()):\n",
    "        n = 2 if l[:2] in D else 1\n",
    "        P = 𝓜(*P, *D[l[:n]])\n",
    "        l = l[n:]\n",
    "    𝐓 ^= {P}\n",
    "\n",
    "print(f\"Part 1: {len(𝐓)}\")\n",
    "\n",
    "𝓝 = lambda *p: sum(𝓜(*p, *D[k]) in 𝐓 for k in D)\n",
    "\n",
    "for d in range(5):\n",
    "    new𝐓 = {*𝐓}\n",
    "    Y = [x[1] for x in 𝐓]\n",
    "    for x in range(min(𝐓)[0]-1, max(𝐓)[0]+2):\n",
    "        for y in range(min(Y)-1, max(Y)+2):\n",
    "            p = {(x,y)}\n",
    "            if p & 𝐓 and 𝓝(x,y) not in (1,2):\n",
    "                new𝐓 -= p\n",
    "            elif p - 𝐓 and 𝓝(x,y) == 2:\n",
    "                new𝐓 |= p\n",
    "    𝐓 = new𝐓\n",
    "    \n",
    "    ### Bonus Viz:\n",
    "#     from IPython.display import *\n",
    "#     from time import *\n",
    "#     x1, x2, y1, y2 = -40,40,-40,40\n",
    "#     G = f\"Day {d+1}: {len(𝐓)}\\n\" + '\\n'.join((' '* (y % 2) + ''.join('⬛️' if (x+x1,y+y1) in 𝐓 else '  ' for x in range(x2-x1))) for y in range(y2-y1))\n",
    "#     clear_output(wait=True)\n",
    "#     print(G)\n",
    "#     sleep(.1)\n",
    "    ### End Bonus Viz\n",
    "    \n",
    "print(f\"Part 2: {len(new𝐓)}\")\n",
    "\n",
    "# Part 2: 406 at day 5"
   ]
  },
  {
   "cell_type": "code",
   "execution_count": 241,
   "metadata": {
    "scrolled": false
   },
   "outputs": [
    {
     "name": "stdout",
     "output_type": "stream",
     "text": [
      "Part 1: 459\n",
      "Part 2: 4150\n"
     ]
    }
   ],
   "source": [
    "D = {'w':(-1,0), 'nw':(0,-1), 'ne':(1,-1), 'e':(1,0), 'se': (0,1), 'sw': (-1,1)}\n",
    "𝓜 = lambda x,y,dx,dy: (x+dx,y+dy)\n",
    "\n",
    "𝐓 = set()\n",
    "for l in open('24/input.txt'):\n",
    "    P = (0,0)\n",
    "    while len(l.strip()):\n",
    "        n = 2 if l[:2] in D else 1\n",
    "        P = 𝓜(*P, *D[l[:n]])\n",
    "        l = l[n:]\n",
    "    𝐓 ^= {P}\n",
    "\n",
    "print(f\"Part 1: {len(𝐓)}\")\n",
    "\n",
    "𝓝 = lambda *p: sum(𝓜(*p, *D[k]) in 𝐓 for k in D)\n",
    "𝓑 = lambda n: range(min(x[n] for x in 𝐓)-1, max(x[n] for x in 𝐓)+2)\n",
    "\n",
    "for d in range(100):\n",
    "    𝐓 = {(x,y) for x in 𝓑(0) for y in 𝓑(1) if ((x,y) in 𝐓 and 𝓝(x,y) == 1) or 𝓝(x,y) == 2}\n",
    "    ### Bonus Viz:\n",
    "#     import time\n",
    "#     w = 30\n",
    "#     print('\\033\\143' + '\\n'.join((' '* (y % 2) + ''.join('⬛️' if (x-w,y-w) in 𝐓 else '⬜️' for x in range(2*w))) for y in range(2*w)))\n",
    "#     time.sleep(.1)\n",
    "    \n",
    "print(f\"Part 2: {len(𝐓)}\")\n",
    "\n",
    "# Part 2: 406 at day 5"
   ]
  },
  {
   "cell_type": "code",
   "execution_count": 283,
   "metadata": {
    "scrolled": false
   },
   "outputs": [
    {
     "name": "stdout",
     "output_type": "stream",
     "text": [
      "Part 1: 459\n",
      "Part 2: 4150\n"
     ]
    }
   ],
   "source": [
    "D = {'w':(-1,0), 'nw':(0,-1), 'ne':(1,-1), 'e':(1,0), 'se': (0,1), 'sw': (-1,1)}\n",
    "𝓜 = lambda x,y,dx,dy: (x+dx,y+dy)\n",
    "\n",
    "𝐓 = set()\n",
    "for l in open('24/input.txt'):\n",
    "    P = (0,0)\n",
    "    while l.strip():\n",
    "        n = 2 if l[:2] in D else 1\n",
    "        P = 𝓜(*P, *D[l[:n]])\n",
    "        l = l[n:]\n",
    "    𝐓 ^= {P}\n",
    "\n",
    "print(f\"Part 1: {len(𝐓)}\")\n",
    "\n",
    "𝓝 = lambda *p: sum(𝓜(*p, *D[k]) in 𝐓 for k in D)\n",
    "𝓑 = lambda n: range(min(x[n] for x in 𝐓)-1, max(x[n] for x in 𝐓)+2)\n",
    "\n",
    "for d in range(100):\n",
    "    𝐓 = {(x,y) for x in 𝓑(0) for y in 𝓑(1) if ((x,y) in 𝐓 and 𝓝(x,y) == 1) or 𝓝(x,y) == 2}\n",
    "    ###########################################################################################\n",
    "    ###                                  Bonus Animation                                   ####\n",
    "    from time import sleep\n",
    "    w = 38\n",
    "    print('\\n'.join((' '* (y % 2) \n",
    "                     + ''.join('⬛️' if (x-w,y-w) in 𝐓 else '⬜️' for x in range(2*w)))\n",
    "                                for y in range(2*w)))\n",
    "    sleep(.1)\n",
    "    ############################################################################################\n",
    "print(f\"Part 2: {len(𝐓)}\")\n"
   ]
  },
  {
   "cell_type": "code",
   "execution_count": 263,
   "metadata": {},
   "outputs": [],
   "source": [
    "# w = 80\n",
    "# print('\\n'.join((' '* (y % 2) + ''.join('⬛️' if (x-w,y-w) in 𝐓 else '⬜️' for x in range(2*w))) for y in range(2*w)))\n",
    "\n"
   ]
  },
  {
   "cell_type": "code",
   "execution_count": 175,
   "metadata": {},
   "outputs": [
    {
     "ename": "TypeError",
     "evalue": "'int' object is not callable",
     "output_type": "error",
     "traceback": [
      "\u001b[0;31m---------------------------------------------------------------------------\u001b[0m",
      "\u001b[0;31mTypeError\u001b[0m                                 Traceback (most recent call last)",
      "\u001b[0;32m<ipython-input-175-ab7914f9d0bc>\u001b[0m in \u001b[0;36m<module>\u001b[0;34m\u001b[0m\n\u001b[0;32m----> 1\u001b[0;31m \u001b[0mmin\u001b[0m\u001b[0;34m(\u001b[0m\u001b[0m𝐓\u001b[0m\u001b[0;34m,\u001b[0m \u001b[0mkey\u001b[0m\u001b[0;34m=\u001b[0m\u001b[0;36m1\u001b[0m\u001b[0;34m)\u001b[0m\u001b[0;34m\u001b[0m\u001b[0;34m\u001b[0m\u001b[0m\n\u001b[0m",
      "\u001b[0;31mTypeError\u001b[0m: 'int' object is not callable"
     ]
    }
   ],
   "source": [
    "min(𝐓, key=)"
   ]
  },
  {
   "cell_type": "code",
   "execution_count": null,
   "metadata": {},
   "outputs": [],
   "source": []
  }
 ],
 "metadata": {
  "kernelspec": {
   "display_name": "pipenv_aoc",
   "language": "python",
   "name": "pipenv_aoc"
  },
  "language_info": {
   "codemirror_mode": {
    "name": "ipython",
    "version": 3
   },
   "file_extension": ".py",
   "mimetype": "text/x-python",
   "name": "python",
   "nbconvert_exporter": "python",
   "pygments_lexer": "ipython3",
   "version": "3.8.5"
  }
 },
 "nbformat": 4,
 "nbformat_minor": 4
}
