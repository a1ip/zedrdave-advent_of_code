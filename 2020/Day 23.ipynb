{
 "cells": [
  {
   "cell_type": "code",
   "execution_count": 1,
   "metadata": {},
   "outputs": [],
   "source": [
    "from utils import *\n",
    "import collections as c\n",
    "import math"
   ]
  },
  {
   "cell_type": "code",
   "execution_count": 2,
   "metadata": {},
   "outputs": [
    {
     "data": {
      "text/plain": [
       "'942387615'"
      ]
     },
     "execution_count": 2,
     "metadata": {},
     "output_type": "execute_result"
    }
   ],
   "source": [
    "cups = dl_input(23)\n",
    "cups"
   ]
  },
  {
   "cell_type": "code",
   "execution_count": 10,
   "metadata": {},
   "outputs": [],
   "source": []
  },
  {
   "cell_type": "code",
   "execution_count": 58,
   "metadata": {},
   "outputs": [
    {
     "name": "stdout",
     "output_type": "stream",
     "text": [
      "67384529\n"
     ]
    }
   ],
   "source": [
    "cups = [int(i) for i in '389125467']\n",
    "# cups = [int(i) for i in open('23/input.txt').read()]\n",
    "\n",
    "cur = 0\n",
    "for i in range(100):\n",
    "    c = cups[cur]\n",
    "    if cur+4 > len(cups):\n",
    "        pick = cups[cur+1:] + cups[:(cur+4)%len(cups)]\n",
    "    else:\n",
    "        pick = cups[cur+1:cur+4]\n",
    "    cups = [c for c in cups if c not in pick]\n",
    "\n",
    "    d = c-1\n",
    "    while d not in cups:\n",
    "        d = (d-1) % (max(cups)+1)\n",
    "    cups = cups[:cups.index(d)+1] + pick + cups[cups.index(d)+1:]\n",
    "    \n",
    "    cups = cups[cups.index(c)-cur:] + cups[:cups.index(c)-cur]\n",
    "#     print(f'#{i+2}:', cups)\n",
    "    cur = (cur + 1) % len(cups)\n",
    "    \n",
    "print(''.join(str(i) for i in cups[cups.index(1)+1:] + cups[:cups.index(1)]))"
   ]
  },
  {
   "cell_type": "code",
   "execution_count": 152,
   "metadata": {},
   "outputs": [
    {
     "name": "stdout",
     "output_type": "stream",
     "text": [
      "[3, 8, 9, 1, 2, 5, 4, 6, 7]\n",
      "[1, 2, 5, 8, 6, 4, 7, 10, 9, 1]\n"
     ]
    }
   ],
   "source": []
  },
  {
   "cell_type": "code",
   "execution_count": 10,
   "metadata": {},
   "outputs": [
    {
     "name": "stdout",
     "output_type": "stream",
     "text": [
      "Part 1: 36542897\n",
      "Part 2: 562136730660\n"
     ]
    }
   ],
   "source": [
    "def play(C, n):\n",
    "    L = {k:v for k,v in zip(C, C[1:]+C[:1])}\n",
    "    L[0] = 0\n",
    "    c = C[0]\n",
    "    for _ in range(n):\n",
    "        x = L[c]\n",
    "        y = L[x]\n",
    "        z = L[y]\n",
    "        L[c] = L[z]\n",
    "        d = c-1\n",
    "        while d in (x,y,z,0):\n",
    "            d = d-1 if d else len(C)\n",
    "        L[z] = L[d]\n",
    "        L[d] = x\n",
    "        c = L[c]\n",
    "    return L\n",
    "\n",
    "\n",
    "C = [int(i) for i in open('23/input.txt').read()]\n",
    "L = play(C, 100)\n",
    "c,s = L[1],''\n",
    "while c != 1:\n",
    "    s += str(c)\n",
    "    c = L[c]\n",
    "print('Part 1:', s)\n",
    "\n",
    "n = 1000000\n",
    "C += range(max(C)+1, n+1)\n",
    "L = play(C, 10*n)\n",
    "print('Part 2:', L[1]*L[L[1]])"
   ]
  },
  {
   "cell_type": "code",
   "execution_count": 2,
   "metadata": {},
   "outputs": [
    {
     "name": "stdout",
     "output_type": "stream",
     "text": [
      "Part 1: 36542897\n",
      "Part 2: 562136730660\n"
     ]
    }
   ],
   "source": []
  },
  {
   "cell_type": "code",
   "execution_count": 280,
   "metadata": {},
   "outputs": [],
   "source": [
    "    \n",
    "# Part 1:\n",
    "# cur = 1\n",
    "# s = ''\n",
    "# for _ in range(len(links)-2):\n",
    "#     cur = links[cur]\n",
    "#     s += str(cur)\n",
    "    \n",
    "# 92658374\n",
    "# 149245887792\n",
    "\n",
    "# 430728"
   ]
  },
  {
   "cell_type": "code",
   "execution_count": null,
   "metadata": {},
   "outputs": [],
   "source": []
  },
  {
   "cell_type": "code",
   "execution_count": 79,
   "metadata": {},
   "outputs": [
    {
     "name": "stdout",
     "output_type": "stream",
     "text": [
      "1000000\n",
      "iter: 0\n"
     ]
    },
    {
     "ename": "KeyboardInterrupt",
     "evalue": "",
     "output_type": "error",
     "traceback": [
      "\u001b[0;31m---------------------------------------------------------------------------\u001b[0m",
      "\u001b[0;31mKeyboardInterrupt\u001b[0m                         Traceback (most recent call last)",
      "\u001b[0;32m<ipython-input-79-822feb2d3e13>\u001b[0m in \u001b[0;36m<module>\u001b[0;34m\u001b[0m\n\u001b[1;32m     36\u001b[0m \u001b[0;34m\u001b[0m\u001b[0m\n\u001b[1;32m     37\u001b[0m     \u001b[0mdest\u001b[0m \u001b[0;34m=\u001b[0m \u001b[0mcups\u001b[0m\u001b[0;34m.\u001b[0m\u001b[0mindex\u001b[0m\u001b[0;34m(\u001b[0m\u001b[0md\u001b[0m\u001b[0;34m)\u001b[0m\u001b[0;34m+\u001b[0m\u001b[0;36m1\u001b[0m\u001b[0;34m\u001b[0m\u001b[0;34m\u001b[0m\u001b[0m\n\u001b[0;32m---> 38\u001b[0;31m     \u001b[0mcups\u001b[0m \u001b[0;34m=\u001b[0m \u001b[0mcups\u001b[0m\u001b[0;34m[\u001b[0m\u001b[0;34m:\u001b[0m\u001b[0mdest\u001b[0m\u001b[0;34m]\u001b[0m \u001b[0;34m+\u001b[0m \u001b[0mpick\u001b[0m \u001b[0;34m+\u001b[0m \u001b[0mcups\u001b[0m\u001b[0;34m[\u001b[0m\u001b[0mdest\u001b[0m\u001b[0;34m+\u001b[0m\u001b[0;36m1\u001b[0m\u001b[0;34m:\u001b[0m\u001b[0;34m]\u001b[0m\u001b[0;34m\u001b[0m\u001b[0;34m\u001b[0m\u001b[0m\n\u001b[0m\u001b[1;32m     39\u001b[0m \u001b[0;34m\u001b[0m\u001b[0m\n\u001b[1;32m     40\u001b[0m     \u001b[0mcups\u001b[0m \u001b[0;34m=\u001b[0m \u001b[0mcups\u001b[0m\u001b[0;34m[\u001b[0m\u001b[0mcups\u001b[0m\u001b[0;34m.\u001b[0m\u001b[0mindex\u001b[0m\u001b[0;34m(\u001b[0m\u001b[0mc\u001b[0m\u001b[0;34m)\u001b[0m\u001b[0;34m-\u001b[0m\u001b[0mcur\u001b[0m\u001b[0;34m:\u001b[0m\u001b[0;34m]\u001b[0m \u001b[0;34m+\u001b[0m \u001b[0mcups\u001b[0m\u001b[0;34m[\u001b[0m\u001b[0;34m:\u001b[0m\u001b[0mcups\u001b[0m\u001b[0;34m.\u001b[0m\u001b[0mindex\u001b[0m\u001b[0;34m(\u001b[0m\u001b[0mc\u001b[0m\u001b[0;34m)\u001b[0m\u001b[0;34m-\u001b[0m\u001b[0mcur\u001b[0m\u001b[0;34m]\u001b[0m\u001b[0;34m\u001b[0m\u001b[0;34m\u001b[0m\u001b[0m\n",
      "\u001b[0;31mKeyboardInterrupt\u001b[0m: "
     ]
    }
   ],
   "source": [
    "import hashlib\n",
    "\n",
    "cups = [int(i) for i in '389125467']\n",
    "# cups = [int(i) for i in open('23/input.txt').read()]\n",
    "\n",
    "cups += range(max(cups)+1,1000001)\n",
    "print(len(cups))\n",
    "\n",
    "cur = 0\n",
    "      \n",
    "# for i in range(10000000):\n",
    "\n",
    "seen = set()\n",
    "\n",
    "for i in range(10000):\n",
    "    if i % 1000 == 0:\n",
    "        print(f\"iter: {i}\")\n",
    "    \n",
    "    h = hash(tuple(cups))\n",
    "    if h in seen:\n",
    "        print(i, \"REPEAT!\")\n",
    "        break\n",
    "    seen.add(h)\n",
    "    \n",
    "    c = cups[cur]\n",
    "    if cur+4 > len(cups):\n",
    "        pick = cups[cur+1:] + cups[:(cur+4)%len(cups)]\n",
    "        cups = cups[(cur+4)%len(cups):cur+1]\n",
    "    else:\n",
    "        pick = cups[cur+1:cur+4]\n",
    "        cups = cups[:cur+1] + cups[cur+4:]\n",
    "    \n",
    "    d = c-1\n",
    "    while d not in cups:\n",
    "        d = (d-1) % (max(cups)+1)\n",
    "    \n",
    "    dest = cups.index(d)+1\n",
    "    cups = cups[:dest] + pick + cups[dest+1:]\n",
    "\n",
    "    cups = cups[cups.index(c)-cur:] + cups[:cups.index(c)-cur]\n",
    "#     print(f'#{i+2}:', cups)\n",
    "\n",
    "    cur = (cur + 1) % len(cups)\n",
    "    \n",
    "# print(''.join(str(i) for i in cups[cups.index(1)+1:] + cups[:cups.index(1)]))\n",
    "\n",
    "print(cups[cups.index(1)+1], cups[cups.index(1)+2])"
   ]
  },
  {
   "cell_type": "code",
   "execution_count": null,
   "metadata": {},
   "outputs": [],
   "source": []
  }
 ],
 "metadata": {
  "kernelspec": {
   "display_name": "pipenv_aoc",
   "language": "python",
   "name": "pipenv_aoc"
  },
  "language_info": {
   "codemirror_mode": {
    "name": "ipython",
    "version": 3
   },
   "file_extension": ".py",
   "mimetype": "text/x-python",
   "name": "python",
   "nbconvert_exporter": "python",
   "pygments_lexer": "ipython3",
   "version": "3.8.5"
  }
 },
 "nbformat": 4,
 "nbformat_minor": 4
}
