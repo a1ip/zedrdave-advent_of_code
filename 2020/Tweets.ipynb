{
 "cells": [
  {
   "cell_type": "code",
   "execution_count": 105,
   "metadata": {},
   "outputs": [],
   "source": [
    "import pandas as pd\n",
    "import numpy as np\n",
    "from collections import defaultdict, Counter\n",
    "import re\n",
    "from functools import *\n",
    "import math\n",
    "\n",
    "from utils import *\n",
    "from aocd import submit"
   ]
  },
  {
   "cell_type": "code",
   "execution_count": null,
   "metadata": {},
   "outputs": [],
   "source": [
    "#AdventOfCode Day 1"
   ]
  },
  {
   "cell_type": "code",
   "execution_count": 131,
   "metadata": {},
   "outputs": [
    {
     "name": "stdout",
     "output_type": "stream",
     "text": [
      "Part 1: 921504\n",
      "Part 2: 195700142\n"
     ]
    }
   ],
   "source": [
    "# (relies on a few input assumptions)\n",
    "\n",
    "data = [int(i) for i in open('01/input.txt')]\n",
    "\n",
    "print(\"Part 1:\",\n",
    "next(x*y for x in data for y in data if x+y == 2020))\n",
    "\n",
    "print(\"Part 2:\",\n",
    "next(x*y*z for x in data for y in data for z in data if x+y+z == 2020))"
   ]
  },
  {
   "cell_type": "code",
   "execution_count": 132,
   "metadata": {},
   "outputs": [],
   "source": [
    "#AdventOfCode Day 2"
   ]
  },
  {
   "cell_type": "code",
   "execution_count": 134,
   "metadata": {},
   "outputs": [
    {
     "name": "stdout",
     "output_type": "stream",
     "text": [
      "Part 1: 582 \n",
      "Part 2: 729\n"
     ]
    }
   ],
   "source": [
    "import re\n",
    "L = [re.split('[: \\-]', l) for l in open('02/input.txt')]\n",
    "L = [(int(p1), int(p2), [c == ch for c in pwd])\n",
    "   for p1, p2, ch, _, pwd in L]\n",
    "\n",
    "print(\"Part 1:\",\n",
    "sum(n1<= sum(m)<= n2 for n1, n2, m in L),\n",
    "\"\\nPart 2:\",\n",
    "sum(m[p1-1]^m[p2-1] for p1, p2, m in L))"
   ]
  },
  {
   "cell_type": "code",
   "execution_count": 135,
   "metadata": {},
   "outputs": [],
   "source": [
    "#AdventOfCode Day 3"
   ]
  },
  {
   "cell_type": "code",
   "execution_count": 137,
   "metadata": {},
   "outputs": [
    {
     "name": "stdout",
     "output_type": "stream",
     "text": [
      "Part 1: 234 \n",
      "Part 2: 5813773056\n"
     ]
    }
   ],
   "source": [
    "import math\n",
    "G = [l.strip() for l in open('03/input.txt')]\n",
    "res = [sum(G[v][r*i % len(G[0])] == '#' for i,v in enumerate(range(0, len(G), d)))\n",
    "       for r, d in ([1,1], [3,1], [5,1], [7,1], [1,2])]\n",
    "\n",
    "print(f\"Part 1:\", res[1], \"\\nPart 2:\", math.prod(res))"
   ]
  },
  {
   "cell_type": "code",
   "execution_count": 138,
   "metadata": {},
   "outputs": [],
   "source": [
    "#AdventOfCode Day 4"
   ]
  },
  {
   "cell_type": "code",
   "execution_count": 139,
   "metadata": {},
   "outputs": [
    {
     "name": "stdout",
     "output_type": "stream",
     "text": [
      "Part 1: 250\n",
      "Part 2: 158\n"
     ]
    }
   ],
   "source": [
    "import re\n",
    "D = open('04/input.txt').read().split('\\n\\n')\n",
    "\n",
    "print('Part 1:', sum(not(\n",
    "    set(['byr','eyr','iyr','hgt','ecl','hcl','pid'])\n",
    "    - set(f[:3] for f in re.split('\\s', d)))\n",
    "                   for d in D))\n",
    "\n",
    "rng = {'b':(1920,2003), 'i':(2010,2021), 'e':(2020,2031),\n",
    "'hcm':(150,194), 'hin':(59,77)}\n",
    "\n",
    "print('Part 2:', sum(sum([\n",
    " *[int(d) in range(*rng.get(c[0]+u,[0]))\n",
    "      for c,d,u in re.findall(r'([ebi]yr|hgt):(\\d+)(in|cm)?\\b',l)],\n",
    " *[bool(re.search(p+r'\\b',l))\n",
    "      for p in [\n",
    "           'ecl:(amb|blu|brn|gry|grn|hzl|oth)',\n",
    "           'hcl:#[\\da-f]{6}',\n",
    "           'pid:\\d{9}']],\n",
    "]) == 7\n",
    "for l in D))"
   ]
  },
  {
   "cell_type": "code",
   "execution_count": 140,
   "metadata": {},
   "outputs": [],
   "source": [
    "#AdventOfCode Day 5 in #Python"
   ]
  },
  {
   "cell_type": "code",
   "execution_count": 141,
   "metadata": {},
   "outputs": [
    {
     "name": "stdout",
     "output_type": "stream",
     "text": [
      "Part 1: 828 \n",
      "Part 2: 565\n"
     ]
    }
   ],
   "source": [
    "ids = [sum(2**i * (1 if b in 'BR' else 0) for i,b in enumerate(reversed(s.strip())))\n",
    "       for s in open('05/input.txt')]\n",
    "    \n",
    "print(\"Part 1:\", max(ids),\n",
    "\"\\nPart 2:\", next(s+1 for s in ids if s+1 not in ids and s+2 in ids))"
   ]
  },
  {
   "cell_type": "code",
   "execution_count": 142,
   "metadata": {},
   "outputs": [],
   "source": [
    "#AdventOfCode Day 6 in #Python"
   ]
  },
  {
   "cell_type": "code",
   "execution_count": 143,
   "metadata": {},
   "outputs": [
    {
     "name": "stdout",
     "output_type": "stream",
     "text": [
      "Pt 1: 6714 \n",
      "Pt 2: 3435\n"
     ]
    }
   ],
   "source": [
    "from collections import Counter\n",
    "\n",
    "data = [\n",
    "(Counter(l.replace('\\n', '')), len(l.split('\\n')))\n",
    "for l in open('06/input.txt').read().split('\\n\\n')\n",
    "]\n",
    "\n",
    "print('Pt 1:', sum(len(g) for g,_ in data),\n",
    "'\\nPt 2:', sum(v == t for g,t in data for v in g.values()))"
   ]
  },
  {
   "cell_type": "code",
   "execution_count": 144,
   "metadata": {},
   "outputs": [],
   "source": [
    "#AdventOfCode Day 7 in #Python"
   ]
  },
  {
   "cell_type": "code",
   "execution_count": 145,
   "metadata": {},
   "outputs": [
    {
     "name": "stdout",
     "output_type": "stream",
     "text": [
      "Pt1 355 \n",
      "Pt2 5312\n"
     ]
    }
   ],
   "source": [
    "from collections import Counter \n",
    "𝘽 = {\n",
    "   c1+c2: Counter({\n",
    "         k1+k2: int(n) for n, k1, k2 in zip(r[::4], r[1::4], r[2::4]) if n != 'no'\n",
    "      })\n",
    "   for c1, c2, _, _, *r in [l.split() for l in open('07/input.txt')]\n",
    "}\n",
    "# 1/2\n",
    "\n",
    "# 2/2 Day 7\n",
    "ℱ = {}\n",
    "def bags_in(b, n=1):\n",
    "    if b not in ℱ:\n",
    "         ℱ[b] = sum([bags_in(*x) for x in 𝘽[b].items()], 𝘽[b])\n",
    "    return Counter({c: ℱ[b][c]*n for c in ℱ[b]})\n",
    "\n",
    "print('Pt1', sum('shinygold' in bags_in(b) for b in 𝘽),\n",
    "'\\nPt2', sum(bags_in('shinygold').values()))"
   ]
  },
  {
   "cell_type": "code",
   "execution_count": 156,
   "metadata": {},
   "outputs": [],
   "source": [
    "# Day 8: native:"
   ]
  },
  {
   "cell_type": "code",
   "execution_count": 147,
   "metadata": {},
   "outputs": [
    {
     "name": "stdout",
     "output_type": "stream",
     "text": [
      "Part 1: 1137\n",
      "Part 2: 1125\n"
     ]
    }
   ],
   "source": [
    "𝓟 = [(l[:3],int(l[4:])) for l in open('08/input.txt')]\n",
    "def run(P):\n",
    "    𝒜,IP,℮ = 0,0,set()\n",
    "    while IP<len(P) and IP not in ℮:\n",
    "        ℮.add(IP)\n",
    "        𝒾,a = P[IP]\n",
    "        if 𝒾=='jmp': IP+= a-1 \n",
    "        if 𝒾=='acc': 𝒜+= a\n",
    "        IP+= 1\n",
    "    return(IP >= len(P), 𝒜)\n",
    "print('Part 1:', run(𝓟)[1])\n",
    "\n",
    "for l,(𝒾,a) in enumerate(𝓟):\n",
    "    if 𝒾 == 'jmp':\n",
    "        𝒾 = 'nop'\n",
    "    elif 𝒾 == 'nop':\n",
    "        𝒾 = 'jmp'\n",
    "    b, acc = run(𝓟[:l] + [(𝒾,a)] + 𝓟[(l+1):])\n",
    "    if b:\n",
    "        print('Part 2:', acc)\n",
    "        break"
   ]
  },
  {
   "cell_type": "code",
   "execution_count": 148,
   "metadata": {},
   "outputs": [
    {
     "name": "stdout",
     "output_type": "stream",
     "text": [
      "Part 1: 1137\n",
      "Part 2: 1125\n"
     ]
    }
   ],
   "source": [
    "import networkx as nx\n",
    "\n",
    "𝓟 = [(l[0], int(l[4:])) for l in open('08/input.txt')]\n",
    "\n",
    "G = nx.DiGraph((n,n+(a if c == 'j' else 1), {'a': (a if c == 'a' else 0)})\n",
    "               for n,(c,a) in enumerate(𝓟))\n",
    "cy = nx.find_cycle(G, 0)\n",
    "\n",
    "print('Part 1:', nx.shortest_path_length(G, 0, cy[-1][0], 'a'))\n",
    "\n",
    "nx.set_node_attributes(G, {n:{'i':a} for n,a in enumerate(𝓟)})\n",
    "T = len(𝓟)\n",
    "\n",
    "for s,t in cy:\n",
    "    c, a = G.nodes[s]['i']\n",
    "    u = s + {'j':1, 'n':a, 'a':0}[c]\n",
    "    if nx.has_path(G, u, T): \n",
    "        G.remove_edge(s, t)\n",
    "        G.add_edge(s, u, a=0)\n",
    "        break\n",
    "print('Part 2:', nx.shortest_path_length(G, 0, T, 'a'))"
   ]
  },
  {
   "cell_type": "code",
   "execution_count": 149,
   "metadata": {},
   "outputs": [],
   "source": [
    "#AoC 9"
   ]
  },
  {
   "cell_type": "code",
   "execution_count": 150,
   "metadata": {},
   "outputs": [
    {
     "name": "stdout",
     "output_type": "stream",
     "text": [
      "Part 1: 776203571 \n",
      "Part 2: 104800569\n"
     ]
    }
   ],
   "source": [
    "N=[int(n) for n in open('09/input.txt')]\n",
    "p=25\n",
    "ok=lambda n,S: any(1 for j in range(p) if n-S[j] in S[j+1:])\n",
    "x=next(n for i,n in enumerate(N[p:]) if not ok(n,sorted(N[i:i+p])))\n",
    "\n",
    "C=[]\n",
    "for n in N:\n",
    "    C+=[n]\n",
    "    while sum(C)>x: C.pop(0)\n",
    "    if len(C)>1 and sum(C)==x: print('Part 1:', x, '\\nPart 2:', min(C)+max(C))"
   ]
  },
  {
   "cell_type": "code",
   "execution_count": 151,
   "metadata": {},
   "outputs": [],
   "source": [
    "#adventOfCode 10"
   ]
  },
  {
   "cell_type": "code",
   "execution_count": 152,
   "metadata": {},
   "outputs": [
    {
     "name": "stdout",
     "output_type": "stream",
     "text": [
      "Part 1: 2059 \n",
      "Part 2: 86812553324672\n"
     ]
    }
   ],
   "source": [
    "A= [int(i) for i in open('10/input.txt')]\n",
    "J= [0,*sorted(A),max(A)+3]\n",
    "δ= [i-j for i,j in zip(J[1:],J)]\n",
    "\n",
    "Δ= [1+p for p,d in enumerate(δ) if d==3]\n",
    "𝓣=[1,1,2,4,7]\n",
    "L= [𝓣[j-i-1] for i,j in zip([0]+Δ, Δ)]\n",
    "\n",
    "import math\n",
    "print('Part 1:', len(Δ)*(len(δ)-len(Δ)), '\\nPart 2:', math.prod(L))"
   ]
  },
  {
   "cell_type": "code",
   "execution_count": 153,
   "metadata": {},
   "outputs": [],
   "source": [
    "#AdventOfCode2020 Day 11 in Snake"
   ]
  },
  {
   "cell_type": "code",
   "execution_count": 154,
   "metadata": {},
   "outputs": [
    {
     "name": "stdout",
     "output_type": "stream",
     "text": [
      "Part 1: 2483 \n",
      "Part 2: 2285\n"
     ]
    }
   ],
   "source": [
    "D = [l.strip() for l in open('11/input.txt')]\n",
    "P = { (x,y): 1\n",
    "     for x, Y in enumerate(D)\n",
    "     for y, s in enumerate(Y) if s == 'L'}\n",
    "Δ=[-1,0,1]\n",
    "\n",
    "def s(P,𝝆,𝝉):\n",
    "    N=lambda x,y:sum(next((P[x+r*h,y+r*v] for r in range(1,𝝆+1) if (x+r*h,y+r*v) in P), 0)\n",
    "                     for h in Δ for v in Δ)\n",
    "    while 1:\n",
    "        Q={p:N(*p)<𝝉+2 if P[p] else N(*p)==0 for p in P}\n",
    "        if P==Q: return sum(P.values())\n",
    "        P=Q\n",
    "print('Part 1:', s(P,1,3), '\\nPart 2:', s(P,len(D),4))"
   ]
  },
  {
   "cell_type": "code",
   "execution_count": 155,
   "metadata": {},
   "outputs": [
    {
     "name": "stdout",
     "output_type": "stream",
     "text": [
      "1 521\n",
      "2 22848\n"
     ]
    }
   ],
   "source": [
    "#AdventOfCode2020, Day 12 Pt 1&2, in Snake\n",
    "\n",
    "# Move:\n",
    "ℳ = lambda x,y,dx,dy,d: (x+d*dx, y+d*dy)\n",
    "\n",
    "# Rotate:\n",
    "cos, sin = [1,0,-1,0],  [0,1,0,-1]\n",
    "ℛ = lambda x,y,t: (x*cos[t]-y*sin[t], x*sin[t]+y*cos[t])\n",
    "A = {'L': 90, 'R': -90}\n",
    "\n",
    "𝓦 = { 1:[1,0], 2:[10,1] } # initial waypoints for part 1&2\n",
    "\n",
    "for p,W in 𝓦.items():\n",
    "    P= [0,0]\n",
    "    for i in open('12/input.txt'):\n",
    "        c,n= i[0],int(i[1:])\n",
    "        if c=='F': P= ℳ(*P,*W,n)\n",
    "        elif c in A: W= ℛ(*W, n//A[c]%4)\n",
    "        else:\n",
    "            r= ℛ(1,0,'ENWS'.index(c))\n",
    "            if p-1: W= ℳ(*W,*r,n)\n",
    "            else: P= ℳ(*P,*r,n)\n",
    "    print(p, abs(P[0])+abs(P[1]))"
   ]
  },
  {
   "cell_type": "code",
   "execution_count": null,
   "metadata": {},
   "outputs": [],
   "source": [
    "#AdventOfCode Day 12 in 🐍"
   ]
  },
  {
   "cell_type": "code",
   "execution_count": 93,
   "metadata": {},
   "outputs": [
    {
     "name": "stdout",
     "output_type": "stream",
     "text": [
      "Part 1: 521\n",
      "Part 2: 22848\n"
     ]
    }
   ],
   "source": [
    " # Move:\n",
    "ℳ = lambda x,y,dx,dy,d: (x+d*dx, y+d*dy)\n",
    "\n",
    "# Rotate:\n",
    "cos, sin = [1,0,-1,0],  [0,1,0,-1]\n",
    "ℛ = lambda x,y,t: (x*cos[t]-y*sin[t], x*sin[t]+y*cos[t])\n",
    "\n",
    "A = {'L': 90, 'R': -90}\n",
    "𝓦 = { 1:[1,0], 2:[10,1] } # initial waypoint for pt 1&2\n",
    "\n",
    "for p,W in 𝓦.items():\n",
    "    P= [0,0]\n",
    "    for i in open('12/input.txt'):\n",
    "        c,n= i[0],int(i[1:])\n",
    "        if c=='F': P= ℳ(*P,*W,n)\n",
    "        elif c in A: W= ℛ(*W, n//A[c]%4)\n",
    "        else:\n",
    "            r= ℛ(1,0,'ENWS'.index(c))\n",
    "            if p-1: W= ℳ(*W,*r,n)\n",
    "            else: P= ℳ(*P,*r,n)\n",
    "    print(f'Part {p}:',abs(P[0])+abs(P[1]))"
   ]
  },
  {
   "cell_type": "code",
   "execution_count": null,
   "metadata": {},
   "outputs": [],
   "source": [
    "#AdventOfCode Day 13 in 🐍"
   ]
  },
  {
   "cell_type": "code",
   "execution_count": 130,
   "metadata": {},
   "outputs": [
    {
     "name": "stdout",
     "output_type": "stream",
     "text": [
      "Part 1: 296\n",
      "Part 2: 535296695251210\n"
     ]
    }
   ],
   "source": [
    "t,B= open('13/input.txt')\n",
    "\n",
    "B = [(i,int(b)) for i,b in enumerate(B.split(',')) if b!='x']\n",
    "\n",
    "x,y = min(((b-int(t)) % b, b) for _,b in B)\n",
    "print('Part 1:', x*y)\n",
    "\n",
    "N,t = 1,0\n",
    "for dt,b in B:\n",
    "    t = next(t for t in range(t,int(1e64),N) if (t+dt)%b==0)\n",
    "    N *= b\n",
    "print('Part 2:', t)"
   ]
  },
  {
   "cell_type": "code",
   "execution_count": 159,
   "metadata": {},
   "outputs": [
    {
     "name": "stdout",
     "output_type": "stream",
     "text": [
      "3417\n"
     ]
    }
   ],
   "source": [
    "import itertools\n",
    "\n",
    "seq = itertools.count(1)\n",
    "a, b = 0, 17\n",
    "seq = (x for x in seq if not (x+a) % b)\n",
    "c, d = 2, 13\n",
    "seq = (x for x in seq if not (x+c) % d)\n",
    "e, f = 3, 19\n",
    "seq = (x for x in seq if not (x+e) % f)\n",
    "print(next(seq))"
   ]
  },
  {
   "cell_type": "code",
   "execution_count": 4,
   "metadata": {},
   "outputs": [],
   "source": [
    "#AdventOfCode Day 14 in 🐍"
   ]
  },
  {
   "cell_type": "code",
   "execution_count": 6,
   "metadata": {},
   "outputs": [
    {
     "name": "stdout",
     "output_type": "stream",
     "text": [
      "Part 1 17481577045893\n",
      "Part 2: 4160009892257\n"
     ]
    }
   ],
   "source": [
    "import collections as c\n",
    "\n",
    "L = [(0,b.strip()) if a[1]=='a' else (int(a[4:-2]),int(b))\n",
    "     for a,b in [l.split('=') for l in open('14/input.txt')]]\n",
    "ℜ = lambda m,x:int(m.replace('X',x),2)\n",
    "M = c.defaultdict(int)\n",
    "\n",
    "for a,b in L:\n",
    "    if a:M[a]= (b|ℜ(m,'0')) & ℜ(m,'1')\n",
    "    else: m=b\n",
    "        \n",
    "print('Part 1', sum(M.values()))\n",
    "\n",
    "def A(m):\n",
    "    if not m: yield ''; return\n",
    "    for n in A(m[1:]):\n",
    "        for x in {'0':['X'], '1':['1'], 'X':['0','1']}[m[0]]: yield x+n\n",
    "            \n",
    "M = c.defaultdict(int)\n",
    "for a,b in L:\n",
    "    if a:\n",
    "        for n in A(m): M[(a | ℜ(n,'0')) & ℜ(n,'1')]= b\n",
    "    else: m=b\n",
    "        \n",
    "print('Part 2:', sum(M.values()))"
   ]
  },
  {
   "cell_type": "code",
   "execution_count": null,
   "metadata": {},
   "outputs": [],
   "source": [
    "#AdventOfCode Day 15 in 🐍"
   ]
  },
  {
   "cell_type": "code",
   "execution_count": 8,
   "metadata": {},
   "outputs": [
    {
     "name": "stdout",
     "output_type": "stream",
     "text": [
      "Pt 1: 620\n",
      "Pt 2: 110871\n"
     ]
    }
   ],
   "source": [
    "D = [int(n) for n in open('15/input.txt').read().split(',')]\n",
    "\n",
    "for pt,stop in ([1,2020],[2,30000000]):\n",
    "    S = {n:t for t,n in enumerate(D[:-1])}\n",
    "    x = D[-1]\n",
    "    for i in range(len(D), stop):\n",
    "        nx = i-1-S[x] if x in S else 0\n",
    "        S[x] = i-1\n",
    "        x = nx\n",
    "    print(f'Pt {pt}:',x)"
   ]
  },
  {
   "cell_type": "code",
   "execution_count": null,
   "metadata": {},
   "outputs": [],
   "source": [
    "#AdventOfCode Day 16 in 🐍"
   ]
  },
  {
   "cell_type": "code",
   "execution_count": 10,
   "metadata": {},
   "outputs": [
    {
     "name": "stdout",
     "output_type": "stream",
     "text": [
      "Part 1: 21071\n",
      "Part 2: 3429967441937\n"
     ]
    }
   ],
   "source": [
    "import re\n",
    "D= list(open('16/input.txt'))\n",
    "T= [int(i) for l in [D[22]]+D[25:] for i in l.split(',')]\n",
    "\n",
    "R= [set([*range(int(a),int(b)+1), *range(int(c),int(d)+1)])\n",
    " for _,a,b,c,d in [re.split(':|-|or ', r) for r in D[:20]]]\n",
    "\n",
    "U= set.union(*R)\n",
    "print('Part 1:',sum(n for n in T if n not in U))\n",
    "\n",
    "M, *VT = [T[i:i+20] for i in range(0,len(T),20) if set(T[i:i+20]) <= U]\n",
    "\n",
    "p = 1\n",
    "for _ in range(20):\n",
    "    for i in range(20):\n",
    "        F = [all(t[i] in r for t in VT) for r in R]\n",
    "        if sum(F) == 1:\n",
    "            n = F.index(1)\n",
    "            R[n] = {}\n",
    "            if n < 6: p *= M[i]\n",
    "\n",
    "print('Part 2:', p)"
   ]
  },
  {
   "cell_type": "code",
   "execution_count": null,
   "metadata": {},
   "outputs": [],
   "source": [
    "#AdventOfCode Day 17 in 🐍"
   ]
  },
  {
   "cell_type": "code",
   "execution_count": 14,
   "metadata": {},
   "outputs": [
    {
     "name": "stdout",
     "output_type": "stream",
     "text": [
      "Part 1: 273\n",
      "Part 2: 1504\n"
     ]
    }
   ],
   "source": [
    "G = lambda d: {(x,y, * [0]*(d-2))\n",
    "         for y,X in enumerate(open('17/input.txt').read().split('\\n'))\n",
    "         for x,c in enumerate(X) if c == '#'}\n",
    "\n",
    "from itertools import product as pd\n",
    "\n",
    "𝑅 = lambda X: range(min(X)-1, max(X)+2)\n",
    "\n",
    "def GoL(d):\n",
    "    𝑁 = lambda i: sum(tuple(a+b for a,b in zip(i,δ)) in P for δ in pd(*[[-1,0,1]]*d))\n",
    "    P = G(d)\n",
    "\n",
    "    for c in range(6):\n",
    "        P = {i for i in pd(*(𝑅([x[n] for x in P]) for n in range(d)))\n",
    "             if (i in P and 2<𝑁(i)<5) or 𝑁(i)==3}\n",
    "    return len(P)\n",
    "\n",
    "print('Part 1:', GoL(3))\n",
    "print('Part 2:', GoL(4))"
   ]
  },
  {
   "cell_type": "code",
   "execution_count": 1,
   "metadata": {},
   "outputs": [],
   "source": [
    "#AdventOfCode Day 18 in 🐍"
   ]
  },
  {
   "cell_type": "code",
   "execution_count": 3,
   "metadata": {},
   "outputs": [
    {
     "name": "stdout",
     "output_type": "stream",
     "text": [
      "Part 1: 510009915468\n",
      "Part 2: 321176691637769\n"
     ]
    }
   ],
   "source": [
    "import ast as a\n",
    "NT = a.NodeTransformer\n",
    "cl = a.copy_location\n",
    "\n",
    "class T1(NT):\n",
    "    def visit_Sub(_,n): return cl(a.Mult(),n)\n",
    "\n",
    "\n",
    "def 𝓔(s,T,D):\n",
    "    s = s.translate(s.maketrans(D))\n",
    "    return eval(compile(T().visit(a.parse(s,'','eval')),'','eval'))\n",
    "\n",
    "print('Part 1:',sum(𝓔(l, T1, {'*':'-'}) for l in open('18/input.txt')))\n",
    "\n",
    "class T2(NT):\n",
    "    def visit_Add(_,n): return cl(a.Mult(),n)\n",
    "    def visit_Mult(_,n): return cl(a.Add(),n)\n",
    "    \n",
    "print('Part 2:',sum(𝓔(l, T2, {'+':'*','*':'+'}) for l in open('18/input.txt')))"
   ]
  },
  {
   "cell_type": "code",
   "execution_count": null,
   "metadata": {},
   "outputs": [],
   "source": [
    "#AoC 18 Minimal:"
   ]
  },
  {
   "cell_type": "code",
   "execution_count": 13,
   "metadata": {},
   "outputs": [
    {
     "name": "stdout",
     "output_type": "stream",
     "text": [
      "510009915468\n",
      "321176691637769\n"
     ]
    }
   ],
   "source": [
    "import ast as a\n",
    "NT= a.NodeTransformer\n",
    "\n",
    "E= lambda e,D,*m: eval(compile(NT().visit(a.parse(e.translate(D),*m)),*m))\n",
    "\n",
    "def A(o,p): setattr(NT,'visit_'+o,lambda _,n:a.copy_location(p,n))\n",
    "\n",
    "for D in ({42:'-'},{43:'*',42:'+'}):\n",
    "    A('Sub', a.Mult())\n",
    "    print(sum(E(l,D,'','eval') for l in open('18/input.txt')))\n",
    "    A('Add', a.Mult())\n",
    "    A('Mult', a.Add())"
   ]
  },
  {
   "cell_type": "code",
   "execution_count": null,
   "metadata": {},
   "outputs": [],
   "source": [
    "#AoC 19"
   ]
  },
  {
   "cell_type": "code",
   "execution_count": 1,
   "metadata": {},
   "outputs": [
    {
     "name": "stdout",
     "output_type": "stream",
     "text": [
      "Part 1: 190\n",
      "Part 2: 311\n"
     ]
    }
   ],
   "source": [
    "R, T = [t.split('\\n') for t in open('19/input.txt').read().split('\\n\\n')]\n",
    "rules = { k:v for k,v in [r.split(': ') for r in R] }\n",
    "\n",
    "def B(r):\n",
    "    if r in rules:\n",
    "        return B(rules[r])\n",
    "    \n",
    "    if r[0] == '\"':\n",
    "        return r[1]\n",
    "\n",
    "    if '|' in r:\n",
    "        return '(' + '|'.join(B(i) for i in r.split(' | ')) + ')'\n",
    "        j,s = '|',' | '\n",
    "    else:\n",
    "        return '(' + ''.join(B(i) for i in r.split(' ')) + ')'\n",
    "\n",
    "\n",
    "import re\n",
    "\n",
    "P = B('0') + '$'\n",
    "print('Part 1:', sum(1 for s in T if re.match(P,s)))\n",
    "\n",
    "P = '(' + '|'.join(B('42') + '{' + str(i+1) + ',}' + B('31') + '{' + str(i) + ',' + str(i) + '}' for i in range(1,9)) + ')$'\n",
    "print('Part 2:', sum(1 for s in T if re.match(P,s)))"
   ]
  },
  {
   "cell_type": "code",
   "execution_count": null,
   "metadata": {},
   "outputs": [],
   "source": [
    "#AoC 20\n"
   ]
  }
 ],
 "metadata": {
  "kernelspec": {
   "display_name": "pipenv_aoc",
   "language": "python",
   "name": "pipenv_aoc"
  },
  "language_info": {
   "codemirror_mode": {
    "name": "ipython",
    "version": 3
   },
   "file_extension": ".py",
   "mimetype": "text/x-python",
   "name": "python",
   "nbconvert_exporter": "python",
   "pygments_lexer": "ipython3",
   "version": "3.8.5"
  }
 },
 "nbformat": 4,
 "nbformat_minor": 4
}
