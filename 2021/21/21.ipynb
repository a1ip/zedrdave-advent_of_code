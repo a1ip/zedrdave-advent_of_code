{
 "cells": [
  {
   "cell_type": "code",
   "execution_count": 286,
   "metadata": {},
   "outputs": [
    {
     "data": {
      "text/plain": [
       "'Player 1 starting position: 4\\nPlayer 2 starting position: 10'"
      ]
     },
     "execution_count": 286,
     "metadata": {},
     "output_type": "execute_result"
    }
   ],
   "source": [
    "from utils import *\n",
    "data = dl_input(21)\n",
    "# data\n",
    "with open('21/input.txt', 'r') as f:\n",
    "    data = f.read()\n",
    "    \n",
    "data"
   ]
  },
  {
   "cell_type": "code",
   "execution_count": 211,
   "metadata": {},
   "outputs": [],
   "source": [
    "# data = \"\"\"\"\"\""
   ]
  },
  {
   "cell_type": "code",
   "execution_count": 228,
   "metadata": {},
   "outputs": [],
   "source": []
  },
  {
   "cell_type": "code",
   "execution_count": 221,
   "metadata": {},
   "outputs": [
    {
     "data": {
      "text/plain": [
       "[4, 10]"
      ]
     },
     "execution_count": 221,
     "metadata": {},
     "output_type": "execute_result"
    }
   ],
   "source": [
    "players"
   ]
  },
  {
   "cell_type": "code",
   "execution_count": 246,
   "metadata": {
    "scrolled": false
   },
   "outputs": [
    {
     "name": "stdout",
     "output_type": "stream",
     "text": [
      "[1000, 745] 993 739785\n"
     ]
    }
   ],
   "source": [
    "def chunks(lst, n):\n",
    "    for i in range(0, len(lst), n):\n",
    "        yield lst[i:i + n]\n",
    "\n",
    "die = [sum(chunk) for chunk in chunks([i % 100 + 1 for i in list(range(300))], 3)]\n",
    "\n",
    "# players = [int(l[-2:]) for l in data.split('\\n')]\n",
    "players = [4,8]\n",
    "\n",
    "scores = [0, 0]\n",
    "rolls = 0\n",
    "# scores[0]\n",
    "while max(scores) < 1000:\n",
    "    for casts in [(die[i],die[i+1]) for i in range(0, len(die), 2)]:\n",
    "        rolls += 3\n",
    "        players[0] = (players[0]-1 + casts[0]) % 10 + 1\n",
    "        scores[0] += players[0]\n",
    "#         print(cast, scores[0])\n",
    "        if scores[0] >= 1000:\n",
    "            break\n",
    "        \n",
    "        rolls += 3\n",
    "        players[1] = (players[1]-1 + casts[1]) % 10 + 1\n",
    "        scores[1] += players[1]\n",
    "        if scores[1] >= 1000:\n",
    "            break\n",
    "\n",
    "print(scores, rolls,  min(scores)*rolls)"
   ]
  },
  {
   "cell_type": "code",
   "execution_count": 97,
   "metadata": {
    "scrolled": false
   },
   "outputs": [],
   "source": [
    "# players = [int(l[-2:]) for l in data.split('\\n')]\n",
    "players = [4,8]\n",
    "\n"
   ]
  },
  {
   "cell_type": "code",
   "execution_count": 247,
   "metadata": {
    "scrolled": false
   },
   "outputs": [
    {
     "data": {
      "text/plain": [
       "10460353203"
      ]
     },
     "execution_count": 247,
     "metadata": {},
     "output_type": "execute_result"
    }
   ],
   "source": [
    "3**21\n",
    "\n",
    "[1,1,1]\n",
    "[1,1,2]\n",
    "[1,1,3]\n",
    "[1,2,1]"
   ]
  },
  {
   "cell_type": "code",
   "execution_count": 268,
   "metadata": {},
   "outputs": [
    {
     "data": {
      "text/plain": [
       "Counter({3: 1, 4: 3, 5: 6, 6: 7, 7: 6, 8: 3, 9: 1})"
      ]
     },
     "execution_count": 268,
     "metadata": {},
     "output_type": "execute_result"
    }
   ],
   "source": [
    "from itertools import product\n",
    "from collections import Counter\n",
    "\n",
    "casts = Counter(sum(p) for p in product([1,2,3], repeat=3))\n",
    "casts"
   ]
  },
  {
   "cell_type": "code",
   "execution_count": 289,
   "metadata": {},
   "outputs": [
    {
     "name": "stdout",
     "output_type": "stream",
     "text": [
      "3\n",
      "4\n",
      "5\n",
      "6\n",
      "7\n",
      "8\n",
      "9\n",
      "187451244607486\n"
     ]
    }
   ],
   "source": [
    "from functools import lru_cache\n",
    "\n",
    "# cast, _ = casts[0]\n",
    "\n",
    "scores = (0, 0)\n",
    "players = (4, 10)\n",
    "\n",
    "# @lru_cache\n",
    "def compute_wins(players, scores):\n",
    "#     print('computer_wins', players, scores)\n",
    "    wins = np.array([0, 0])\n",
    "    for cast1, n1 in casts.items():\n",
    "        if sum(scores) == 0:\n",
    "            print(cast1)\n",
    "        player1 = (players[0]-1 + cast1) % 10 + 1\n",
    "        score1 = scores[0] + player1\n",
    "        if score1 >= 21:\n",
    "            wins[0] += n1\n",
    "            continue\n",
    "        for cast2, n2 in casts.items():\n",
    "            player2 = (players[1]-1 + cast2) % 10 + 1\n",
    "            score2 = scores[1] + player2\n",
    "            if score2 >= 21:\n",
    "                wins[1] += n2 * n1\n",
    "                continue\n",
    "            wins += n1 * n2 * compute_wins((player1, player2), (score1, score2))\n",
    "    return wins\n",
    "\n",
    "print(max(compute_wins(players, scores)))"
   ]
  },
  {
   "cell_type": "code",
   "execution_count": 288,
   "metadata": {},
   "outputs": [
    {
     "data": {
      "text/plain": [
       "187451244607486"
      ]
     },
     "execution_count": 288,
     "metadata": {},
     "output_type": "execute_result"
    }
   ],
   "source": [
    "max([187451244607486, 183752194019471])"
   ]
  },
  {
   "cell_type": "code",
   "execution_count": null,
   "metadata": {},
   "outputs": [],
   "source": [
    "1 0 0\n",
    "0 1 0\n",
    "0 0 1\n",
    "\n",
    "1 0 0\n",
    "0 1 -1\n",
    "0 1 1\n",
    "\n",
    "1 0  0\n",
    "0 -1 0\n",
    "0 0  -1\n",
    "\n",
    "1 0  0\n",
    "0 1  1\n",
    "0 -1 1\n",
    "\n",
    "--\n",
    "\n",
    "1 0 0\n",
    "0 1 0\n",
    "0 0 1\n",
    "\n",
    "0 0 1\n",
    "0 1 0\n",
    "-1 0 0\n",
    "\n",
    "-1 0 0\n",
    "0  1 0\n",
    "0  0 -1\n",
    "\n",
    "0 0 -1\n",
    "0 1 0\n",
    "1 0 0\n",
    "\n",
    "\n",
    "-- \n",
    "\n"
   ]
  }
 ],
 "metadata": {
  "kernelspec": {
   "display_name": "Python 3 (ipykernel)",
   "language": "python",
   "name": "python3"
  },
  "language_info": {
   "codemirror_mode": {
    "name": "ipython",
    "version": 3
   },
   "file_extension": ".py",
   "mimetype": "text/x-python",
   "name": "python",
   "nbconvert_exporter": "python",
   "pygments_lexer": "ipython3",
   "version": "3.10.8"
  }
 },
 "nbformat": 4,
 "nbformat_minor": 4
}
