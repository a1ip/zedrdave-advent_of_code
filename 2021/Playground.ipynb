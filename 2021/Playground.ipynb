{
 "cells": [
  {
   "cell_type": "code",
   "execution_count": 66,
   "metadata": {},
   "outputs": [],
   "source": [
    "from utils import *\n",
    "data = dl_input(3)"
   ]
  },
  {
   "cell_type": "code",
   "execution_count": 67,
   "metadata": {},
   "outputs": [],
   "source": [
    "data = data.split('\\n')"
   ]
  },
  {
   "cell_type": "code",
   "execution_count": 108,
   "metadata": {},
   "outputs": [
    {
     "name": "stdout",
     "output_type": "stream",
     "text": [
      "Part 1: 4147524\n",
      "Part 2:  3570354\n"
     ]
    }
   ],
   "source": [
    "bits = [sum(1 for l in data if l[i] == '1') > len(data)/2 for i in range(len(data[0]))]\n",
    "count = lambda most: sum((b^most) * 2**i for (i, b) in enumerate(reversed(bits)))\n",
    "\n",
    "print('Part 1:', count(True)*count(False))\n",
    "\n",
    "def sieve(most):\n",
    "    arr = data\n",
    "    for i in range(len(arr[0])):\n",
    "        bit_criteria = (sum(1 for l in arr if l[i] == '1') >= len(arr)/2)^most\n",
    "                \n",
    "        arr = [l for l in arr if int(l[i]) == bit_criteria]\n",
    "\n",
    "        if len(arr) == 1:\n",
    "            return int(arr[0], 2)\n",
    "\n",
    "print('Part 2: ', sieve(True) * sieve(False))\n",
    "# sieve(False)"
   ]
  },
  {
   "cell_type": "code",
   "execution_count": 106,
   "metadata": {
    "scrolled": false
   },
   "outputs": [
    {
     "name": "stdout",
     "output_type": "stream",
     "text": [
      "497 1000 500.0 True\n",
      "255 497 248.5 False\n",
      "128 242 121.0 False\n",
      "47 114 57.0 True\n",
      "21 47 23.5 True\n",
      "10 21 10.5 True\n",
      "5 10 5.0 False\n",
      "3 5 2.5 False\n",
      "1 2 1.0 False\n"
     ]
    },
    {
     "data": {
      "text/plain": [
       "2502"
      ]
     },
     "execution_count": 106,
     "metadata": {},
     "output_type": "execute_result"
    }
   ],
   "source": [
    "sieve(True)"
   ]
  },
  {
   "cell_type": "code",
   "execution_count": 100,
   "metadata": {},
   "outputs": [
    {
     "name": "stdout",
     "output_type": "stream",
     "text": [
      "497 False 1000\n",
      "254 True 503\n",
      "126 False 254\n",
      "71 True 128\n",
      "38 True 71\n",
      "17 False 38\n",
      "9 False 21\n",
      "7 True 12\n",
      "3 False 7\n",
      "1 False 4\n",
      "2 True 3\n",
      "1 True 2\n"
     ]
    },
    {
     "data": {
      "text/plain": [
       "1427"
      ]
     },
     "execution_count": 100,
     "metadata": {},
     "output_type": "execute_result"
    }
   ],
   "source": [
    "sieve(False)"
   ]
  },
  {
   "cell_type": "code",
   "execution_count": null,
   "metadata": {},
   "outputs": [],
   "source": []
  }
 ],
 "metadata": {
  "kernelspec": {
   "display_name": "pipenv_aoc",
   "language": "python",
   "name": "pipenv_aoc"
  },
  "language_info": {
   "codemirror_mode": {
    "name": "ipython",
    "version": 3
   },
   "file_extension": ".py",
   "mimetype": "text/x-python",
   "name": "python",
   "nbconvert_exporter": "python",
   "pygments_lexer": "ipython3",
   "version": "3.8.12"
  }
 },
 "nbformat": 4,
 "nbformat_minor": 4
}
