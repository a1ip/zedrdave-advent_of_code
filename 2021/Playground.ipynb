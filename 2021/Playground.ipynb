{
 "cells": [
  {
   "cell_type": "code",
   "execution_count": 66,
   "metadata": {},
   "outputs": [],
   "source": [
    "from utils import *\n",
    "data = dl_input(3)"
   ]
  },
  {
   "cell_type": "code",
   "execution_count": 67,
   "metadata": {},
   "outputs": [],
   "source": [
    "data = data.split('\\n')"
   ]
  },
  {
   "cell_type": "code",
   "execution_count": 68,
   "metadata": {},
   "outputs": [
    {
     "name": "stdout",
     "output_type": "stream",
     "text": [
      "1836\n",
      "Part 1:  4147524\n"
     ]
    }
   ],
   "source": [
    "tots = [sum(1 for l in data if l[i] == '1') for i in range(len(data[0]))]\n",
    "\n",
    "fn = lambda cmp: int(''.join(str(int(cmp(i))) for i in tots), 2)\n",
    "\n",
    "print(fn(lambda x: x >= len(data)/2))\n",
    "print('Part 1: ', fn(lambda x: x >= len(data)/2) * fn(lambda x: x < len(data)/2))"
   ]
  },
  {
   "cell_type": "code",
   "execution_count": 63,
   "metadata": {
    "scrolled": false
   },
   "outputs": [
    {
     "data": {
      "text/plain": [
       "2502"
      ]
     },
     "execution_count": 63,
     "metadata": {},
     "output_type": "execute_result"
    }
   ],
   "source": [
    "arr = data\n",
    "\n",
    "def sieve(arr, fn):\n",
    "    for i in range(len(arr[0])):\n",
    "        tot = sum(1 for l in arr if l[i] == '1')\n",
    "        bit_criteria = str(int(tot < len(arr)/2))\n",
    "        arr = [l for l in arr if l[i] == bit_criteria]\n",
    "        if len(arr) == 1:\n",
    "            return int(arr[0], 2)\n",
    "\n",
    "print('Part 2: ', sieve(data, lambda tot, arr: tot <= len(arr)/2) \n",
    "      * sieve(data, lambda tot, arr: tot >= len(arr)/2))\n"
   ]
  },
  {
   "cell_type": "code",
   "execution_count": 20,
   "metadata": {},
   "outputs": [
    {
     "data": {
      "text/plain": [
       "1000"
      ]
     },
     "execution_count": 20,
     "metadata": {},
     "output_type": "execute_result"
    }
   ],
   "source": [
    "len(data)"
   ]
  },
  {
   "cell_type": "code",
   "execution_count": null,
   "metadata": {},
   "outputs": [],
   "source": []
  }
 ],
 "metadata": {
  "kernelspec": {
   "display_name": "pipenv_aoc",
   "language": "python",
   "name": "pipenv_aoc"
  },
  "language_info": {
   "codemirror_mode": {
    "name": "ipython",
    "version": 3
   },
   "file_extension": ".py",
   "mimetype": "text/x-python",
   "name": "python",
   "nbconvert_exporter": "python",
   "pygments_lexer": "ipython3",
   "version": "3.8.12"
  }
 },
 "nbformat": 4,
 "nbformat_minor": 4
}
