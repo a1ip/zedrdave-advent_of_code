{
 "cells": [
  {
   "cell_type": "code",
   "execution_count": 103,
   "metadata": {},
   "outputs": [],
   "source": [
    "from utils import *\n",
    "data = dl_input(5)"
   ]
  },
  {
   "cell_type": "code",
   "execution_count": 125,
   "metadata": {},
   "outputs": [
    {
     "name": "stdout",
     "output_type": "stream",
     "text": [
      "Part 1: 6225\n",
      "Part 2: 22116\n"
     ]
    }
   ],
   "source": [
    "import numpy as np\n",
    "import re\n",
    "\n",
    "coords = np.array([int(i) for i in re.split('[^\\d]', data) if i]).reshape(-1, 4)\n",
    "\n",
    "rr = lambda x1,x2: range(x1, x2-1, -1) if x1 > x2 else range(x1, x2+1)\n",
    "M = coords.max()+1\n",
    "\n",
    "for part in [1, 2]:\n",
    "    mat = np.zeros([M, M], dtype=int)\n",
    "    for x1,y1,x2,y2 in coords:\n",
    "        if x1 == x2:\n",
    "            y1, y2 = min(y1, y2), max(y1, y2)\n",
    "            mat[x1, y1:y2+1] += 1\n",
    "        elif y1 == y2:\n",
    "            x1, x2 = min(x1, x2), max(x1, x2)\n",
    "            mat[x1:x2+1, y1] += 1\n",
    "        elif part == 2:\n",
    "            for x,y in zip(rr(x1,x2), rr(y1,y2)):\n",
    "                mat[x, y] += 1\n",
    "    \n",
    "    print(f'Part {part}:', (mat > 1).sum())"
   ]
  },
  {
   "cell_type": "code",
   "execution_count": 124,
   "metadata": {},
   "outputs": [
    {
     "name": "stdout",
     "output_type": "stream",
     "text": [
      "Part 1: 6225\n",
      "Part 2: 22116\n"
     ]
    }
   ],
   "source": []
  },
  {
   "cell_type": "code",
   "execution_count": 120,
   "metadata": {},
   "outputs": [
    {
     "data": {
      "text/plain": [
       "array([[955, 125, 151, 929],\n",
       "       [830, 251, 526, 555],\n",
       "       [182, 185,  13,  16],\n",
       "       ...,\n",
       "       [667,  22, 308,  22],\n",
       "       [831, 782, 245, 196],\n",
       "       [759, 813, 225, 279]])"
      ]
     },
     "execution_count": 120,
     "metadata": {},
     "output_type": "execute_result"
    }
   ],
   "source": [
    "# coords = [([int(i) for i in a.split(',')] + [int(i) for i in b.split(',')])\n",
    "#  for a,_,b in [l.split() for l in data.split('\\n')]]\n",
    "# coords = np.stack(coords)"
   ]
  },
  {
   "cell_type": "code",
   "execution_count": 107,
   "metadata": {},
   "outputs": [
    {
     "data": {
      "text/plain": [
       "22116"
      ]
     },
     "execution_count": 107,
     "metadata": {},
     "output_type": "execute_result"
    }
   ],
   "source": []
  }
 ],
 "metadata": {
  "kernelspec": {
   "display_name": "pipenv_aoc",
   "language": "python",
   "name": "pipenv_aoc"
  },
  "language_info": {
   "codemirror_mode": {
    "name": "ipython",
    "version": 3
   },
   "file_extension": ".py",
   "mimetype": "text/x-python",
   "name": "python",
   "nbconvert_exporter": "python",
   "pygments_lexer": "ipython3",
   "version": "3.8.12"
  }
 },
 "nbformat": 4,
 "nbformat_minor": 4
}
