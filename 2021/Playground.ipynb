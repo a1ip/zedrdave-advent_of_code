{
 "cells": [
  {
   "cell_type": "code",
   "execution_count": 266,
   "metadata": {},
   "outputs": [],
   "source": [
    "from utils import *\n",
    "data = dl_input(8)"
   ]
  },
  {
   "cell_type": "code",
   "execution_count": 267,
   "metadata": {},
   "outputs": [],
   "source": [
    "# data = \"\"\"be cfbegad cbdgef fgaecd cgeb fdcge agebfd fecdb fabcd edb | fdgacbe cefdb cefbgd gcbe\n",
    "# edbfga begcd cbg gc gcadebf fbgde acbgfd abcde gfcbed gfec | fcgedb cgb dgebacf gc\n",
    "# fgaebd cg bdaec gdafb agbcfd gdcbef bgcad gfac gcb cdgabef | cg cg fdcagb cbg\n",
    "# fbegcd cbd adcefb dageb afcb bc aefdc ecdab fgdeca fcdbega | efabcd cedba gadfec cb\n",
    "# aecbfdg fbg gf bafeg dbefa fcge gcbea fcaegb dgceab fcbdga | gecf egdcabf bgf bfgea\n",
    "# fgeab ca afcebg bdacfeg cfaedg gcfdb baec bfadeg bafgc acf | gebdcfa ecba ca fadegcb\n",
    "# dbcfg fgd bdegcaf fgec aegbdf ecdfab fbedc dacgb gdcebf gf | cefg dcbef fcge gbcadfe\n",
    "# bdfegc cbegaf gecbf dfcage bdacg ed bedf ced adcbefg gebcd | ed bcgafe cdgba cbgef\n",
    "# egadfb cdbfeg cegd fecab cgb gbdefca cg fgcdab egfdb bfceg | gbdfcae bgc cg cgb\n",
    "# gcafb gcf dcaebfg ecagb gf abcdeg gaef cafbge fdbac fegbdc | fgae cfgab fg bagce\"\"\""
   ]
  },
  {
   "cell_type": "code",
   "execution_count": 268,
   "metadata": {},
   "outputs": [],
   "source": [
    "data = [[p.split() for p in l.split(' | ')] for l in data.split('\\n')]"
   ]
  },
  {
   "cell_type": "code",
   "execution_count": 269,
   "metadata": {},
   "outputs": [
    {
     "data": {
      "text/plain": [
       "445"
      ]
     },
     "execution_count": 269,
     "metadata": {},
     "output_type": "execute_result"
    }
   ],
   "source": [
    "from collections import Counter\n",
    "\n",
    "counts = Counter(len(w) for l in data for w in l[1])\n",
    "# sum(counts[i] for i in [1,4,7,8])\n",
    "\n",
    "digits = [{0,1,2,4,5,6}, {2,5}, {0,2,3,4,6}, {0,2,3,5,6}, {1,2,3,5}, {0,1,3,5,6},\n",
    " {0,1,3,4,5,6}, {0,2,5}, {0,1,2,3,4,5,6}, {0,1,2,3,5,6}]\n",
    "\n",
    "sum(counts[len(digits[i])] for i in [1,4,7,8])"
   ]
  },
  {
   "cell_type": "code",
   "execution_count": 270,
   "metadata": {},
   "outputs": [
    {
     "data": {
      "text/plain": [
       "{2: {2, 5},\n",
       " 3: {0, 2, 5},\n",
       " 4: {1, 2, 3, 5},\n",
       " 5: {0, 1, 2, 3, 4, 5, 6},\n",
       " 6: {0, 1, 2, 3, 4, 5, 6},\n",
       " 7: {0, 1, 2, 3, 4, 5, 6}}"
      ]
     },
     "execution_count": 270,
     "metadata": {},
     "output_type": "execute_result"
    }
   ],
   "source": [
    "from itertools import groupby\n",
    "\n",
    "len_to_pos = {key: set.union(*group) for key, group in groupby(sorted(digits, key=len), len)}\n",
    "len_to_pos"
   ]
  },
  {
   "cell_type": "code",
   "execution_count": null,
   "metadata": {},
   "outputs": [],
   "source": []
  },
  {
   "cell_type": "code",
   "execution_count": 271,
   "metadata": {},
   "outputs": [
    {
     "data": {
      "text/plain": [
       "([5128,\n",
       "  7049,\n",
       "  7672,\n",
       "  5724,\n",
       "  8118,\n",
       "  8750,\n",
       "  6406,\n",
       "  1341,\n",
       "  8791,\n",
       "  3976,\n",
       "  4791,\n",
       "  8982,\n",
       "  5802,\n",
       "  3998,\n",
       "  4842,\n",
       "  7855,\n",
       "  8382,\n",
       "  4855,\n",
       "  1874,\n",
       "  5727,\n",
       "  3950,\n",
       "  9655,\n",
       "  3571,\n",
       "  7422,\n",
       "  4881,\n",
       "  8445,\n",
       "  1584,\n",
       "  8467,\n",
       "  741,\n",
       "  7428,\n",
       "  7470,\n",
       "  8103,\n",
       "  4775,\n",
       "  1728,\n",
       "  4186,\n",
       "  3337,\n",
       "  7184,\n",
       "  8881,\n",
       "  7548,\n",
       "  3518,\n",
       "  1882,\n",
       "  7274,\n",
       "  3187,\n",
       "  3955,\n",
       "  7128,\n",
       "  5967,\n",
       "  1197,\n",
       "  1914,\n",
       "  8846,\n",
       "  3118,\n",
       "  5771,\n",
       "  4896,\n",
       "  5497,\n",
       "  7301,\n",
       "  8777,\n",
       "  5544,\n",
       "  877,\n",
       "  6486,\n",
       "  4564,\n",
       "  5747,\n",
       "  3923,\n",
       "  1501,\n",
       "  2683,\n",
       "  1142,\n",
       "  9597,\n",
       "  5268,\n",
       "  2774,\n",
       "  4506,\n",
       "  7403,\n",
       "  9477,\n",
       "  9310,\n",
       "  1817,\n",
       "  8015,\n",
       "  8907,\n",
       "  7804,\n",
       "  5703,\n",
       "  1844,\n",
       "  5498,\n",
       "  9733,\n",
       "  8827,\n",
       "  759,\n",
       "  9203,\n",
       "  7217,\n",
       "  6874,\n",
       "  4493,\n",
       "  1185,\n",
       "  9439,\n",
       "  3872,\n",
       "  762,\n",
       "  5418,\n",
       "  1828,\n",
       "  5473,\n",
       "  5664,\n",
       "  4390,\n",
       "  7285,\n",
       "  8777,\n",
       "  8813,\n",
       "  7418,\n",
       "  4894,\n",
       "  8858,\n",
       "  1462,\n",
       "  2871,\n",
       "  8178,\n",
       "  1931,\n",
       "  6571,\n",
       "  2755,\n",
       "  3221,\n",
       "  2244,\n",
       "  1010,\n",
       "  8369,\n",
       "  1785,\n",
       "  3113,\n",
       "  9444,\n",
       "  7287,\n",
       "  8468,\n",
       "  6189,\n",
       "  7219,\n",
       "  9710,\n",
       "  2848,\n",
       "  6997,\n",
       "  1486,\n",
       "  5994,\n",
       "  8198,\n",
       "  1127,\n",
       "  7869,\n",
       "  4670,\n",
       "  4524,\n",
       "  4859,\n",
       "  1431,\n",
       "  4187,\n",
       "  7347,\n",
       "  1096,\n",
       "  212,\n",
       "  3271,\n",
       "  2997,\n",
       "  3962,\n",
       "  2157,\n",
       "  9704,\n",
       "  8263,\n",
       "  4783,\n",
       "  2270,\n",
       "  3097,\n",
       "  4612,\n",
       "  1881,\n",
       "  7415,\n",
       "  6543,\n",
       "  7672,\n",
       "  7252,\n",
       "  4047,\n",
       "  4241,\n",
       "  7107,\n",
       "  7887,\n",
       "  2254,\n",
       "  8509,\n",
       "  9154,\n",
       "  9495,\n",
       "  3141,\n",
       "  4762,\n",
       "  862,\n",
       "  9443,\n",
       "  1134,\n",
       "  3361,\n",
       "  7275,\n",
       "  2889,\n",
       "  1822,\n",
       "  9481,\n",
       "  5476,\n",
       "  6145,\n",
       "  416,\n",
       "  1178,\n",
       "  1547,\n",
       "  7171,\n",
       "  2485,\n",
       "  3814,\n",
       "  2074,\n",
       "  3703,\n",
       "  4728,\n",
       "  8311,\n",
       "  1089,\n",
       "  7714,\n",
       "  3792,\n",
       "  4105,\n",
       "  4784,\n",
       "  8849,\n",
       "  7549,\n",
       "  9797,\n",
       "  5895,\n",
       "  8840,\n",
       "  8175,\n",
       "  2152,\n",
       "  1588,\n",
       "  8607,\n",
       "  3723,\n",
       "  1438,\n",
       "  4128,\n",
       "  67,\n",
       "  2515,\n",
       "  2239,\n",
       "  7421,\n",
       "  2952],\n",
       " 1043101)"
      ]
     },
     "execution_count": 271,
     "metadata": {},
     "output_type": "execute_result"
    }
   ],
   "source": [
    "def test_words(mapping, words):\n",
    "    for word in words:\n",
    "#         print(word, mapping)\n",
    "        if set(mapping[m] for m in word) not in digits:\n",
    "            return False\n",
    "    return True\n",
    "\n",
    "def try_candidates(candidates, words, matched = None):\n",
    "    if matched is None:\n",
    "        matched = {}\n",
    "#     print(candidates)\n",
    "#     print('1', candidates, matched)\n",
    "\n",
    "\n",
    "    while pick := next(((k,v) for k,v in candidates.items() if len(v) == 1), False):\n",
    "        k,v = pick\n",
    "        matched[k] = [*v][0]\n",
    "        candidates = {k2:v2-v for k2,v2 in candidates.items() if k2 != k}\n",
    "        if any(len(v) == 0 for v in candidates.values()):\n",
    "            return False\n",
    "    \n",
    "#     print('2', candidates, matched)\n",
    "    if len(matched) == 7:\n",
    "        if not test_words(matched, words):\n",
    "            return False\n",
    "        return matched\n",
    "    \n",
    "    for k,v in candidates.items():\n",
    "        for c in v:\n",
    "            new_matches = try_candidates({k2: {c} if k2 == k else v2 for k2,v2 in candidates.items()},\n",
    "                                         words, {**matched})\n",
    "            if new_matches:\n",
    "                return new_matches\n",
    "        \n",
    "    return False\n",
    "\n",
    "def convert_output(output_digits, mapping):\n",
    "    num = 0\n",
    "    for d in output_digits:\n",
    "        num = num*10 + digits.index(set(mapping[m] for m in d))\n",
    "    return num\n",
    "\n",
    "\n",
    "nums = []\n",
    "for line in data:\n",
    "#     print(line)\n",
    "    candidates = {letter: {i for i in range(7)} for letter in 'abcdefg'}\n",
    "    for w in line[0] + line[1]:\n",
    "        for letter in w:\n",
    "            candidates[letter] &= len_to_pos[len(w)]\n",
    "\n",
    "    matches = try_candidates(candidates, line[0] + line[1])\n",
    "    assert matches\n",
    "    nums += [convert_output(line[1], matches)]\n",
    "    \n",
    "#     print(matches)\n",
    "\n",
    "nums, sum(nums)"
   ]
  },
  {
   "cell_type": "code",
   "execution_count": 272,
   "metadata": {
    "scrolled": false
   },
   "outputs": [],
   "source": [
    "def print_digit(text, mapping):\n",
    "    M = [' '] * 7\n",
    "    for l in text:\n",
    "#         print(l, mapping)\n",
    "        M[mapping[l]] = '*'\n",
    "    m0,m1,m2,m3,m4,m5,m6 = M\n",
    "    \n",
    "    print(f\"\"\"\n",
    "{m0}{m0}{m0}{m0}{m0} \n",
    "{m1}   {m2}\n",
    "{m1}   {m2}\n",
    "{m3}{m3}{m3}{m3}{m3}\n",
    "{m4}   {m5}\n",
    "{m4}   {m5}\n",
    "{m6}{m6}{m6}{m6}{m6}\n",
    " \"\"\")\n",
    "    \n",
    "# for w in line:\n",
    "#     print_digit(w, matches)"
   ]
  },
  {
   "cell_type": "code",
   "execution_count": 105,
   "metadata": {},
   "outputs": [
    {
     "name": "stdout",
     "output_type": "stream",
     "text": [
      "46.4 µs ± 480 ns per loop (mean ± std. dev. of 7 runs, 10000 loops each)\n"
     ]
    }
   ],
   "source": [
    " 00\n",
    "1  2\n",
    "1  2\n",
    " 33\n",
    "4  5\n",
    "4  5\n",
    " 66"
   ]
  },
  {
   "cell_type": "code",
   "execution_count": 246,
   "metadata": {},
   "outputs": [
    {
     "name": "stdout",
     "output_type": "stream",
     "text": [
      "5353\n"
     ]
    }
   ],
   "source": []
  },
  {
   "cell_type": "code",
   "execution_count": 198,
   "metadata": {},
   "outputs": [
    {
     "data": {
      "text/plain": [
       "[{0, 1, 2, 4, 5, 6},\n",
       " {2, 5},\n",
       " {0, 2, 3, 4, 6},\n",
       " {0, 2, 3, 5, 6},\n",
       " {1, 2, 3, 5},\n",
       " {0, 1, 3, 5, 6},\n",
       " {0, 1, 3, 4, 5, 6},\n",
       " {0, 2, 5},\n",
       " {0, 1, 2, 3, 4, 5, 6},\n",
       " {0, 1, 2, 3, 5, 6}]"
      ]
     },
     "execution_count": 198,
     "metadata": {},
     "output_type": "execute_result"
    }
   ],
   "source": [
    "digits"
   ]
  },
  {
   "cell_type": "code",
   "execution_count": null,
   "metadata": {},
   "outputs": [],
   "source": []
  }
 ],
 "metadata": {
  "kernelspec": {
   "display_name": "pipenv_aoc",
   "language": "python",
   "name": "pipenv_aoc"
  },
  "language_info": {
   "codemirror_mode": {
    "name": "ipython",
    "version": 3
   },
   "file_extension": ".py",
   "mimetype": "text/x-python",
   "name": "python",
   "nbconvert_exporter": "python",
   "pygments_lexer": "ipython3",
   "version": "3.8.12"
  }
 },
 "nbformat": 4,
 "nbformat_minor": 4
}
