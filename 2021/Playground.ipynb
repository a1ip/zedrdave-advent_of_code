{
 "cells": [
  {
   "cell_type": "code",
   "execution_count": 66,
   "metadata": {},
   "outputs": [],
   "source": [
    "from utils import *\n",
    "data = dl_input(3)"
   ]
  },
  {
   "cell_type": "code",
   "execution_count": 67,
   "metadata": {},
   "outputs": [],
   "source": [
    "data = data.split('\\n')"
   ]
  },
  {
   "cell_type": "code",
   "execution_count": 91,
   "metadata": {},
   "outputs": [
    {
     "name": "stdout",
     "output_type": "stream",
     "text": [
      "Part 1: 4147524\n"
     ]
    }
   ],
   "source": [
    "bits = [sum(1 for l in data if l[i] == '1') > len(data)/2 for i in range(len(data[0]))]\n",
    "count = lambda most: sum((b^most) * 2**i for (i, b) in enumerate(reversed(bits)))\n",
    "\n",
    "print('Part 1:', count(True)*count(False))\n",
    "\n",
    "def sieve(most):\n",
    "    arr = data\n",
    "    for i in range(len(arr[0])):\n",
    "        bit_criteria = (sum(1 for l in arr if l[i] == '1') >= len(arr)/2)^most\n",
    "        arr = [l for l in arr if int(l[i]) == bit_criteria]\n",
    "\n",
    "        if len(arr) == 1:\n",
    "            return int(arr[0], 2)\n",
    "\n",
    "print('Part 2: ', sieve(True) * sieve(False))"
   ]
  },
  {
   "cell_type": "code",
   "execution_count": 94,
   "metadata": {
    "scrolled": false
   },
   "outputs": [
    {
     "name": "stdout",
     "output_type": "stream",
     "text": [
      "Part 2:  3570354\n"
     ]
    }
   ],
   "source": []
  },
  {
   "cell_type": "code",
   "execution_count": 20,
   "metadata": {},
   "outputs": [
    {
     "data": {
      "text/plain": [
       "1000"
      ]
     },
     "execution_count": 20,
     "metadata": {},
     "output_type": "execute_result"
    }
   ],
   "source": [
    "len(data)"
   ]
  },
  {
   "cell_type": "code",
   "execution_count": null,
   "metadata": {},
   "outputs": [],
   "source": []
  }
 ],
 "metadata": {
  "kernelspec": {
   "display_name": "pipenv_aoc",
   "language": "python",
   "name": "pipenv_aoc"
  },
  "language_info": {
   "codemirror_mode": {
    "name": "ipython",
    "version": 3
   },
   "file_extension": ".py",
   "mimetype": "text/x-python",
   "name": "python",
   "nbconvert_exporter": "python",
   "pygments_lexer": "ipython3",
   "version": "3.8.12"
  }
 },
 "nbformat": 4,
 "nbformat_minor": 4
}
