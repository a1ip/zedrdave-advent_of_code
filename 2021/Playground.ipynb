{
 "cells": [
  {
   "cell_type": "code",
   "execution_count": 1,
   "metadata": {},
   "outputs": [
    {
     "data": {
      "text/plain": [
       "'SHHBNFBCKNHCNOSHHVFF\\n\\nCK -> N\\nVP -> B\\nCF -> S\\nFO -> V\\nVC -> S\\nBV -> V\\nNP -> P\\nSN -> C\\nKN -> V\\nNF -> P\\nSB -> C\\nPC -> B\\nOB -> V\\nNS -> O\\nFH -> S\\nNK -> S\\nHO -> V\\nNV -> O\\nFV -> O\\nFB -> S\\nPS -> S\\nFN -> K\\nHS -> O\\nCB -> K\\nHV -> P\\nNH -> C\\nBO -> B\\nFF -> N\\nPO -> F\\nBB -> N\\nPN -> C\\nBP -> C\\nHN -> K\\nCO -> P\\nBF -> H\\nBC -> S\\nCV -> B\\nVV -> F\\nFS -> B\\nBN -> P\\nVK -> S\\nPV -> V\\nPP -> B\\nPH -> N\\nSS -> O\\nSK -> S\\nNC -> P\\nON -> F\\nNB -> N\\nCC -> N\\nSF -> H\\nPF -> H\\nOV -> O\\nKH -> C\\nCP -> V\\nPK -> O\\nKC -> K\\nKK -> C\\nKF -> B\\nHP -> C\\nFK -> H\\nBH -> K\\nVN -> H\\nOO -> S\\nSC -> K\\nSP -> B\\nKO -> V\\nKV -> F\\nHK -> N\\nFP -> N\\nNN -> B\\nVS -> O\\nHC -> K\\nBK -> N\\nKS -> K\\nVB -> O\\nOH -> F\\nKB -> F\\nKP -> H\\nHB -> N\\nNO -> N\\nOF -> O\\nBS -> H\\nVO -> H\\nSH -> O\\nSV -> K\\nHF -> C\\nCS -> F\\nFC -> N\\nVH -> H\\nOP -> K\\nOK -> H\\nPB -> K\\nHH -> S\\nOC -> V\\nVF -> B\\nCH -> K\\nCN -> C\\nSO -> P\\nOS -> O'"
      ]
     },
     "execution_count": 1,
     "metadata": {},
     "output_type": "execute_result"
    }
   ],
   "source": [
    "from utils import *\n",
    "# data = dl_input(14)\n",
    "# data\n",
    "with open('14/input.txt', 'r') as f:\n",
    "    data = f.read()\n",
    "\n",
    "data"
   ]
  },
  {
   "cell_type": "code",
   "execution_count": 256,
   "metadata": {},
   "outputs": [],
   "source": [
    "# data = \"\"\"NNCB\n",
    "\n",
    "# CH -> B\n",
    "# HH -> N\n",
    "# CB -> H\n",
    "# NH -> C\n",
    "# HB -> C\n",
    "# HC -> B\n",
    "# HN -> C\n",
    "# NN -> C\n",
    "# BH -> H\n",
    "# NC -> B\n",
    "# NB -> B\n",
    "# BN -> B\n",
    "# BB -> N\n",
    "# BC -> B\n",
    "# CC -> N\n",
    "# CN -> C\"\"\""
   ]
  },
  {
   "cell_type": "code",
   "execution_count": null,
   "metadata": {},
   "outputs": [],
   "source": []
  },
  {
   "cell_type": "code",
   "execution_count": 263,
   "metadata": {
    "scrolled": false
   },
   "outputs": [],
   "source": []
  },
  {
   "cell_type": "code",
   "execution_count": 3,
   "metadata": {},
   "outputs": [
    {
     "name": "stdout",
     "output_type": "stream",
     "text": [
      "Part 1: 2223 \n",
      "Part 2: 2566282754493\n"
     ]
    }
   ],
   "source": [
    "from collections import defaultdict, Counter\n",
    "\n",
    "T, _, *R = data.split('\\n')\n",
    "R = dict(r.split(' -> ') for r in R)\n",
    "\n",
    "P = Counter([a+b for a,b in zip(T, T[1:])])\n",
    "\n",
    "def polymerise(P, steps):\n",
    "    for i in range(steps):\n",
    "        NP = defaultdict(int)\n",
    "        for pair, count in P.items():\n",
    "            NP[pair[0] + R[pair]] += count\n",
    "            NP[R[pair] + pair[1]] += count\n",
    "        P = NP\n",
    "\n",
    "    counts = [max(sum(count for (p1,_),count in P.items() if c == p1),\n",
    "                     sum(count for (_,p2),count in P.items() if c == p2))\n",
    "              for c in set(''.join(P.keys()))]\n",
    "\n",
    "    return max(counts) - min(counts)\n",
    "\n",
    "print('Part 1:', polymerise(P, 10), '\\nPart 2:', polymerise(P, 40))"
   ]
  },
  {
   "cell_type": "code",
   "execution_count": 260,
   "metadata": {},
   "outputs": [
    {
     "data": {
      "text/plain": [
       "Counter({'SH': 2,\n",
       "         'HH': 2,\n",
       "         'HB': 1,\n",
       "         'BN': 1,\n",
       "         'NF': 1,\n",
       "         'FB': 1,\n",
       "         'BC': 1,\n",
       "         'CK': 1,\n",
       "         'KN': 1,\n",
       "         'NH': 1,\n",
       "         'HC': 1,\n",
       "         'CN': 1,\n",
       "         'NO': 1,\n",
       "         'OS': 1,\n",
       "         'HV': 1,\n",
       "         'VF': 1,\n",
       "         'FF': 1})"
      ]
     },
     "execution_count": 260,
     "metadata": {},
     "output_type": "execute_result"
    }
   ],
   "source": []
  },
  {
   "cell_type": "code",
   "execution_count": 468,
   "metadata": {},
   "outputs": [
    {
     "data": {
      "text/plain": [
       "[(-1, 0), (-1, 1), (0, 1)]"
      ]
     },
     "execution_count": 468,
     "metadata": {},
     "output_type": "execute_result"
    }
   ],
   "source": [
    "from itertools import combinations\n",
    "\n",
    "list(combinations(range(-1,2), 2))"
   ]
  },
  {
   "cell_type": "code",
   "execution_count": null,
   "metadata": {},
   "outputs": [],
   "source": []
  }
 ],
 "metadata": {
  "kernelspec": {
   "display_name": "Python 3",
   "language": "python",
   "name": "python3"
  },
  "language_info": {
   "codemirror_mode": {
    "name": "ipython",
    "version": 3
   },
   "file_extension": ".py",
   "mimetype": "text/x-python",
   "name": "python",
   "nbconvert_exporter": "python",
   "pygments_lexer": "ipython3",
   "version": "3.8.12"
  }
 },
 "nbformat": 4,
 "nbformat_minor": 4
}
