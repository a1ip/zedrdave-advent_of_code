{
 "cells": [
  {
   "cell_type": "code",
   "execution_count": 214,
   "metadata": {},
   "outputs": [],
   "source": [
    "from utils import *\n",
    "# data = dl_input(20)\n",
    "# data\n",
    "with open('20/input.txt', 'r') as f:\n",
    "    data = f.read()\n",
    "    \n",
    "# data"
   ]
  },
  {
   "cell_type": "code",
   "execution_count": 211,
   "metadata": {},
   "outputs": [],
   "source": [
    "data = \"\"\"..#.#..#####.#.#.#.###.##.....###.##.#..###.####..#####..#....#..#..##..##\n",
    "#..######.###...####..#..#####..##..#.#####...##.#.#..#.##..#.#......#.###\n",
    ".######.###.####...#.##.##..#..#..#####.....#.#....###..#.##......#.....#.\n",
    ".#..#..##..#...##.######.####.####.#.#...#.......#..#.#.#...####.##.#.....\n",
    ".#..#...##.#.##..#...##.#.##..###.#......#.#.......#.#.#.####.###.##...#..\n",
    "...####.#..#..#.##.#....##..#.####....##...##..#...#......#.#.......#.....\n",
    "..##..####..#...#.#.#...##..#.#..###..#####........#..####......#..#\n",
    "\n",
    "#..#.\n",
    "#....\n",
    "##..#\n",
    "..#..\n",
    "..###\"\"\""
   ]
  },
  {
   "cell_type": "code",
   "execution_count": null,
   "metadata": {},
   "outputs": [],
   "source": []
  },
  {
   "cell_type": "code",
   "execution_count": null,
   "metadata": {},
   "outputs": [],
   "source": []
  },
  {
   "cell_type": "code",
   "execution_count": 216,
   "metadata": {
    "scrolled": false
   },
   "outputs": [
    {
     "name": "stdout",
     "output_type": "stream",
     "text": [
      "Part 1: 5231\n",
      "Part 2: 14279\n"
     ]
    }
   ],
   "source": [
    "    from functools import reduce\n",
    "\n",
    "    with open('20/input.txt', 'r') as f:\n",
    "        data = f.read()\n",
    "    algo, A = data.split('\\n\\n')\n",
    "    algo = algo.replace('\\n', '')\n",
    "\n",
    "    A = np.array([[c == '#' for c in l] for l in A.split('\\n')], dtype=int)\n",
    "    algo = np.array([c == '#' for c in algo], dtype=int)\n",
    "\n",
    "    defaults = [algo[0], algo[511] if algo[0] else algo[0]]\n",
    "\n",
    "    def enhance(A, times):\n",
    "        for it in range(times):\n",
    "            A = np.pad(A, 2, constant_values=defaults[(it + 1) % 2])\n",
    "            B = np.ones(A.shape, dtype=int) * default[it % 2]\n",
    "\n",
    "            for i in range(1, A.shape[0]-1):\n",
    "                for j in range(1, A.shape[1]-1):\n",
    "                    B[i, j] = algo[reduce(lambda x, t: x*2+t, A[(i-1):(i+2), (j-1):(j+2)].flat)]\n",
    "\n",
    "            A = B\n",
    "\n",
    "        return A\n",
    "\n",
    "    print('Part 1:', enhance(A, 2).sum())\n",
    "    print('Give me a hard copy right there:', enhance(A, 50).sum())"
   ]
  },
  {
   "cell_type": "code",
   "execution_count": 97,
   "metadata": {
    "scrolled": false
   },
   "outputs": [],
   "source": []
  },
  {
   "cell_type": "code",
   "execution_count": 227,
   "metadata": {
    "scrolled": false
   },
   "outputs": [
    {
     "data": {
      "text/plain": [
       "False"
      ]
     },
     "execution_count": 227,
     "metadata": {},
     "output_type": "execute_result"
    }
   ],
   "source": [
    "scanners[1][:3] in scanners"
   ]
  },
  {
   "cell_type": "code",
   "execution_count": 205,
   "metadata": {},
   "outputs": [
    {
     "data": {
      "text/plain": [
       "{(-661, -816, -575),\n",
       " (-618, -824, -621),\n",
       " (-537, -823, -458),\n",
       " (-485, -357, 347),\n",
       " (-447, -329, 318),\n",
       " (-345, -311, 381),\n",
       " (390, -675, -793),\n",
       " (404, -588, -901),\n",
       " (423, -701, 434),\n",
       " (459, -707, 401),\n",
       " (528, -643, 409),\n",
       " (544, -627, -890)}"
      ]
     },
     "execution_count": 205,
     "metadata": {},
     "output_type": "execute_result"
    }
   ],
   "source": [
    "set(s2) & set(tuple(s) for s in s1)"
   ]
  },
  {
   "cell_type": "code",
   "execution_count": 204,
   "metadata": {},
   "outputs": [
    {
     "data": {
      "text/plain": [
       "{(-661, -816, -575),\n",
       " (-618, -824, -621),\n",
       " (-537, -823, -458),\n",
       " (-485, -357, 347),\n",
       " (-447, -329, 318),\n",
       " (-345, -311, 381),\n",
       " (390, -675, -793),\n",
       " (404, -588, -901),\n",
       " (423, -701, 434),\n",
       " (459, -707, 401),\n",
       " (528, -643, 409),\n",
       " (544, -627, -890)}"
      ]
     },
     "execution_count": 204,
     "metadata": {},
     "output_type": "execute_result"
    }
   ],
   "source": []
  },
  {
   "cell_type": "code",
   "execution_count": 200,
   "metadata": {},
   "outputs": [
    {
     "data": {
      "text/plain": [
       "[(-336, -1834, 858),\n",
       " (-336, -1834, 858),\n",
       " (-336, -1834, 858),\n",
       " (-336, -1834, 858),\n",
       " (-336, -1834, 858),\n",
       " (-336, -1834, 858),\n",
       " (-336, -1834, 858),\n",
       " (-336, -1834, 858),\n",
       " (-336, -1834, 858),\n",
       " (-336, -1834, 858),\n",
       " (-336, -1834, 858),\n",
       " (-336, -1834, 858),\n",
       " (-336, -1834, 858),\n",
       " (-336, -1834, 858),\n",
       " (-336, -1834, 858),\n",
       " (-336, -1834, 858),\n",
       " (-336, -1834, 858),\n",
       " (-336, -1834, 858),\n",
       " (-336, -1834, 858),\n",
       " (-336, -1834, 858),\n",
       " (-336, -1834, 858),\n",
       " (-336, -1834, 858),\n",
       " (-336, -1834, 858),\n",
       " (-336, -1834, 858),\n",
       " (-336, -1834, 858)]"
      ]
     },
     "execution_count": 200,
     "metadata": {},
     "output_type": "execute_result"
    }
   ],
   "source": [
    "s2"
   ]
  },
  {
   "cell_type": "code",
   "execution_count": null,
   "metadata": {},
   "outputs": [],
   "source": [
    "1 0 0\n",
    "0 1 0\n",
    "0 0 1\n",
    "\n",
    "1 0 0\n",
    "0 1 -1\n",
    "0 1 1\n",
    "\n",
    "1 0  0\n",
    "0 -1 0\n",
    "0 0  -1\n",
    "\n",
    "1 0  0\n",
    "0 1  1\n",
    "0 -1 1\n",
    "\n",
    "--\n",
    "\n",
    "1 0 0\n",
    "0 1 0\n",
    "0 0 1\n",
    "\n",
    "0 0 1\n",
    "0 1 0\n",
    "-1 0 0\n",
    "\n",
    "-1 0 0\n",
    "0  1 0\n",
    "0  0 -1\n",
    "\n",
    "0 0 -1\n",
    "0 1 0\n",
    "1 0 0\n",
    "\n",
    "\n",
    "-- \n",
    "\n"
   ]
  }
 ],
 "metadata": {
  "kernelspec": {
   "display_name": "Python 3",
   "language": "python",
   "name": "python3"
  },
  "language_info": {
   "codemirror_mode": {
    "name": "ipython",
    "version": 3
   },
   "file_extension": ".py",
   "mimetype": "text/x-python",
   "name": "python",
   "nbconvert_exporter": "python",
   "pygments_lexer": "ipython3",
   "version": "3.8.12"
  }
 },
 "nbformat": 4,
 "nbformat_minor": 4
}
