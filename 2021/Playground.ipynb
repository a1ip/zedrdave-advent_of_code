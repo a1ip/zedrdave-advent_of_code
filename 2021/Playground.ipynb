{
 "cells": [
  {
   "cell_type": "code",
   "execution_count": 450,
   "metadata": {},
   "outputs": [
    {
     "data": {
      "text/plain": [
       "109"
      ]
     },
     "execution_count": 450,
     "metadata": {},
     "output_type": "execute_result"
    }
   ],
   "source": [
    "# from utils import *\n",
    "# data = dl_input(11)\n",
    "# data\n",
    "with open('11/input.txt', 'r') as f:\n",
    "    data = f.read()\n",
    "len(data)"
   ]
  },
  {
   "cell_type": "code",
   "execution_count": 451,
   "metadata": {},
   "outputs": [],
   "source": [
    "# data = \"\"\"5483143223\n",
    "# 2745854711\n",
    "# 5264556173\n",
    "# 6141336146\n",
    "# 6357385478\n",
    "# 4167524645\n",
    "# 2176841721\n",
    "# 6882881134\n",
    "# 4846848554\n",
    "# 5283751526\"\"\""
   ]
  },
  {
   "cell_type": "code",
   "execution_count": 452,
   "metadata": {},
   "outputs": [
    {
     "data": {
      "text/plain": [
       "'5251578181\\n6158452313\\n1818578571\\n3844615143\\n6857251244\\n2375817613\\n8883514435\\n2321265735\\n2857275182\\n4821156644'"
      ]
     },
     "execution_count": 452,
     "metadata": {},
     "output_type": "execute_result"
    }
   ],
   "source": [
    "data"
   ]
  },
  {
   "cell_type": "code",
   "execution_count": 445,
   "metadata": {},
   "outputs": [],
   "source": []
  },
  {
   "cell_type": "code",
   "execution_count": 456,
   "metadata": {},
   "outputs": [
    {
     "name": "stdout",
     "output_type": "stream",
     "text": [
      "Part 1: 1637\n",
      "Part 2: 242\n"
     ]
    }
   ],
   "source": [
    "import numpy as np\n",
    "A = np.array([[int(i) for i in l] for l in data.split('\\n')])\n",
    "\n",
    "flashes = 0\n",
    "\n",
    "for idx in range(1000):\n",
    "    A += 1\n",
    "    flashed = A < 0\n",
    "\n",
    "    while True:\n",
    "        flashing = A >= 10\n",
    "        if not flashing.sum():\n",
    "            break\n",
    "            \n",
    "        flashed |= flashing\n",
    "        F = np.pad(flashing, 1).astype(int)\n",
    "        A += F[0:-2,0:-2] + F[1:-1,0:-2] + F[2:,0:-2] +\\\n",
    "        F[0:-2,1:-1] + F[1:-1,1:-1] + F[2:,1:-1] +\\\n",
    "        F[0:-2,2:] + F[1:-1,2:] + F[2:,2:]\n",
    "        \n",
    "        A[flashed] = 0\n",
    "    \n",
    "    flashes += flashed.sum()\n",
    "\n",
    "    if idx+1 == 100:\n",
    "        print('Part 1:', flashes)\n",
    "    if flashed.all():\n",
    "        print('Part 2:', idx+1)\n",
    "        break"
   ]
  },
  {
   "cell_type": "code",
   "execution_count": 468,
   "metadata": {},
   "outputs": [
    {
     "data": {
      "text/plain": [
       "[(-1, 0), (-1, 1), (0, 1)]"
      ]
     },
     "execution_count": 468,
     "metadata": {},
     "output_type": "execute_result"
    }
   ],
   "source": [
    "from itertools import combinations\n",
    "\n",
    "list(combinations(range(-1,2), 2))"
   ]
  },
  {
   "cell_type": "code",
   "execution_count": null,
   "metadata": {},
   "outputs": [],
   "source": []
  }
 ],
 "metadata": {
  "kernelspec": {
   "display_name": "Python 3",
   "language": "python",
   "name": "python3"
  },
  "language_info": {
   "codemirror_mode": {
    "name": "ipython",
    "version": 3
   },
   "file_extension": ".py",
   "mimetype": "text/x-python",
   "name": "python",
   "nbconvert_exporter": "python",
   "pygments_lexer": "ipython3",
   "version": "3.9.5"
  }
 },
 "nbformat": 4,
 "nbformat_minor": 4
}
