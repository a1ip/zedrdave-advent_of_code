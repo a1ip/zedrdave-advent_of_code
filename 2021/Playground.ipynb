{
 "cells": [
  {
   "cell_type": "code",
   "execution_count": 1,
   "metadata": {},
   "outputs": [],
   "source": [
    "from utils import *\n",
    "data = dl_input(2)"
   ]
  },
  {
   "cell_type": "code",
   "execution_count": 7,
   "metadata": {},
   "outputs": [],
   "source": []
  },
  {
   "cell_type": "code",
   "execution_count": 27,
   "metadata": {},
   "outputs": [
    {
     "name": "stdout",
     "output_type": "stream",
     "text": [
      "Part 1: 2215080\n"
     ]
    }
   ],
   "source": [
    "cmds = [(cmd[0], int(val)) for cmd, val in [line.split() for line in data.split('\\n')]]\n",
    "\n",
    "sum_cmds = lambda l: sum(val for cmd, val in cmds if cmd == l)\n",
    "print('Part 1:', sum_cmds('f') * (sum_cmds('d') - sum_cmds('u')))\n",
    "\n",
    "aim, horiz, depth = 0, 0, 0\n",
    "\n",
    "for cmd, val in cmds:\n",
    "    if cmd == 'f':\n",
    "        horiz += val\n",
    "        depth += aim*val\n",
    "    else:\n",
    "        aim += val if cmd == 'd' else -val\n",
    "\n",
    "print('Part 2:', horiz * depth)"
   ]
  },
  {
   "cell_type": "code",
   "execution_count": 32,
   "metadata": {
    "scrolled": false
   },
   "outputs": [
    {
     "name": "stdout",
     "output_type": "stream",
     "text": [
      "Part 2: 1864715580\n"
     ]
    }
   ],
   "source": []
  },
  {
   "cell_type": "code",
   "execution_count": null,
   "metadata": {},
   "outputs": [],
   "source": []
  },
  {
   "cell_type": "code",
   "execution_count": null,
   "metadata": {},
   "outputs": [],
   "source": []
  }
 ],
 "metadata": {
  "kernelspec": {
   "display_name": "pipenv_aoc",
   "language": "python",
   "name": "pipenv_aoc"
  },
  "language_info": {
   "codemirror_mode": {
    "name": "ipython",
    "version": 3
   },
   "file_extension": ".py",
   "mimetype": "text/x-python",
   "name": "python",
   "nbconvert_exporter": "python",
   "pygments_lexer": "ipython3",
   "version": "3.8.12"
  }
 },
 "nbformat": 4,
 "nbformat_minor": 4
}
