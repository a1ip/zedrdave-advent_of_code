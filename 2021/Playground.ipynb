{
 "cells": [
  {
   "cell_type": "code",
   "execution_count": 74,
   "metadata": {},
   "outputs": [],
   "source": [
    "from aocd import get_data, submit\n",
    "from collections import defaultdict\n",
    "import numpy as np\n",
    "import sys\n",
    "import itertools\n",
    "from collections import defaultdict, Counter\n",
    "\n",
    "day = 22\n",
    "year = 2021\n",
    "\n",
    "data = get_data(day=day, year=year)\n",
    "\n",
    "# data"
   ]
  },
  {
   "cell_type": "code",
   "execution_count": 78,
   "metadata": {},
   "outputs": [],
   "source": [
    "# data = \"\"\"on x=-5..47,y=-31..22,z=-19..33\n",
    "# on x=-44..5,y=-27..21,z=-14..35\n",
    "# on x=-49..-1,y=-11..42,z=-10..38\n",
    "# on x=-20..34,y=-40..6,z=-44..1\n",
    "# off x=26..39,y=40..50,z=-2..11\n",
    "# on x=-41..5,y=-41..6,z=-36..8\n",
    "# off x=-43..-33,y=-45..-28,z=7..25\n",
    "# on x=-33..15,y=-32..19,z=-34..11\n",
    "# off x=35..47,y=-46..-34,z=-11..5\n",
    "# on x=-14..36,y=-6..44,z=-16..29\n",
    "# on x=-57795..-6158,y=29564..72030,z=20435..90618\n",
    "# on x=36731..105352,y=-21140..28532,z=16094..90401\n",
    "# on x=30999..107136,y=-53464..15513,z=8553..71215\n",
    "# on x=13528..83982,y=-99403..-27377,z=-24141..23996\n",
    "# on x=-72682..-12347,y=18159..111354,z=7391..80950\n",
    "# on x=-1060..80757,y=-65301..-20884,z=-103788..-16709\n",
    "# on x=-83015..-9461,y=-72160..-8347,z=-81239..-26856\n",
    "# on x=-52752..22273,y=-49450..9096,z=54442..119054\n",
    "# on x=-29982..40483,y=-108474..-28371,z=-24328..38471\n",
    "# on x=-4958..62750,y=40422..118853,z=-7672..65583\n",
    "# on x=55694..108686,y=-43367..46958,z=-26781..48729\n",
    "# on x=-98497..-18186,y=-63569..3412,z=1232..88485\n",
    "# on x=-726..56291,y=-62629..13224,z=18033..85226\n",
    "# on x=-110886..-34664,y=-81338..-8658,z=8914..63723\n",
    "# on x=-55829..24974,y=-16897..54165,z=-121762..-28058\n",
    "# on x=-65152..-11147,y=22489..91432,z=-58782..1780\n",
    "# on x=-120100..-32970,y=-46592..27473,z=-11695..61039\n",
    "# on x=-18631..37533,y=-124565..-50804,z=-35667..28308\n",
    "# on x=-57817..18248,y=49321..117703,z=5745..55881\n",
    "# on x=14781..98692,y=-1341..70827,z=15753..70151\n",
    "# on x=-34419..55919,y=-19626..40991,z=39015..114138\n",
    "# on x=-60785..11593,y=-56135..2999,z=-95368..-26915\n",
    "# on x=-32178..58085,y=17647..101866,z=-91405..-8878\n",
    "# on x=-53655..12091,y=50097..105568,z=-75335..-4862\n",
    "# on x=-111166..-40997,y=-71714..2688,z=5609..50954\n",
    "# on x=-16602..70118,y=-98693..-44401,z=5197..76897\n",
    "# on x=16383..101554,y=4615..83635,z=-44907..18747\n",
    "# off x=-95822..-15171,y=-19987..48940,z=10804..104439\n",
    "# on x=-89813..-14614,y=16069..88491,z=-3297..45228\n",
    "# on x=41075..99376,y=-20427..49978,z=-52012..13762\n",
    "# on x=-21330..50085,y=-17944..62733,z=-112280..-30197\n",
    "# on x=-16478..35915,y=36008..118594,z=-7885..47086\n",
    "# off x=-98156..-27851,y=-49952..43171,z=-99005..-8456\n",
    "# off x=2032..69770,y=-71013..4824,z=7471..94418\n",
    "# on x=43670..120875,y=-42068..12382,z=-24787..38892\n",
    "# off x=37514..111226,y=-45862..25743,z=-16714..54663\n",
    "# off x=25699..97951,y=-30668..59918,z=-15349..69697\n",
    "# off x=-44271..17935,y=-9516..60759,z=49131..112598\n",
    "# on x=-61695..-5813,y=40978..94975,z=8655..80240\n",
    "# off x=-101086..-9439,y=-7088..67543,z=33935..83858\n",
    "# off x=18020..114017,y=-48931..32606,z=21474..89843\n",
    "# off x=-77139..10506,y=-89994..-18797,z=-80..59318\n",
    "# off x=8476..79288,y=-75520..11602,z=-96624..-24783\n",
    "# on x=-47488..-1262,y=24338..100707,z=16292..72967\n",
    "# off x=-84341..13987,y=2429..92914,z=-90671..-1318\n",
    "# off x=-37810..49457,y=-71013..-7894,z=-105357..-13188\n",
    "# off x=-27365..46395,y=31009..98017,z=15428..76570\n",
    "# off x=-70369..-16548,y=22648..78696,z=-1892..86821\n",
    "# on x=-53470..21291,y=-120233..-33476,z=-44150..38147\n",
    "# off x=-93533..-4276,y=-16170..68771,z=-104985..-24507\"\"\""
   ]
  },
  {
   "cell_type": "code",
   "execution_count": 79,
   "metadata": {
    "scrolled": true
   },
   "outputs": [],
   "source": [
    "data = data.split('\\n')"
   ]
  },
  {
   "cell_type": "code",
   "execution_count": 81,
   "metadata": {},
   "outputs": [
    {
     "name": "stdout",
     "output_type": "stream",
     "text": [
      "474140\n"
     ]
    }
   ],
   "source": [
    "import re\n",
    "\n",
    "pattern = r'(on|off) x=([-\\d]+)\\.\\.([-\\d]+),y=([-\\d]+)\\.\\.([-\\d]+),z=([-\\d]+)\\.\\.([-\\d]+)'\n",
    "\n",
    "cube = np.zeros((101,101,101), dtype=bool)\n",
    "\n",
    "for l in data:\n",
    "    v, *coords = re.match(pattern, l).groups()\n",
    "    x1,x2,y1,y2,z1,z2 = [int(d)+50 for d in coords]\n",
    "    cube[x1:(x2+1), y1:(y2+1), z1:(z2+1)] = (v == 'on')\n",
    "\n",
    "print(cube.sum())\n",
    "# submit(cube.sum(), part=\"a\", day=day, year=year)"
   ]
  },
  {
   "cell_type": "code",
   "execution_count": 108,
   "metadata": {},
   "outputs": [],
   "source": [
    "data = \"\"\"on x=10..12,y=10..12,z=10..12\n",
    "on x=11..13,y=11..13,z=11..13\n",
    "off x=9..11,y=9..11,z=9..11\n",
    "on x=10..10,y=10..10,z=10..10\"\"\""
   ]
  },
  {
   "cell_type": "code",
   "execution_count": 109,
   "metadata": {},
   "outputs": [
    {
     "data": {
      "text/plain": [
       "[(1, [10, 12, 10, 12, 10, 12]),\n",
       " (1, [11, 13, 11, 13, 11, 13]),\n",
       " (-1, [9, 11, 9, 11, 9, 11]),\n",
       " (1, [10, 10, 10, 10, 10, 10])]"
      ]
     },
     "execution_count": 109,
     "metadata": {},
     "output_type": "execute_result"
    }
   ],
   "source": [
    "data = data.split('\\n')\n",
    "groups = [re.match(pattern, l).groups() for l in data]\n",
    "coords = [((1 if g[0] == 'on' else -1), [int(d) for d in g[1:]]) for g in groups]\n",
    "\n",
    "coords"
   ]
  },
  {
   "cell_type": "code",
   "execution_count": 120,
   "metadata": {},
   "outputs": [
    {
     "data": {
      "text/plain": [
       "(8, [(11, 12), (11, 12), (11, 12)])"
      ]
     },
     "execution_count": 120,
     "metadata": {},
     "output_type": "execute_result"
    }
   ],
   "source": [
    "def inter(s1, e1, s2, e2):\n",
    "    if s1 > s2:\n",
    "        return inter(s2, e2, s1, e1)\n",
    "    # assume: s1 <= s2\n",
    "    if e1 < s2:\n",
    "        return False\n",
    "    return (s2, min(e1, e2))\n",
    "    \n",
    "def inter3d(c1, c2):\n",
    "    inter_coords = [inter(*c1[:2], *c2[:2]), inter(*c1[2:4], *c2[2:4]), inter(*c1[4:], *c2[4:])]\n",
    "    if any(i == False for i in inter_coords):\n",
    "        return False\n",
    "    return inter_coords\n",
    "\n",
    "def inter_len(s1, e1, s2, e2):\n",
    "    if s1 > s2:\n",
    "        return inter_len(s2, e2, s1, e1)\n",
    "    if e1 < s2: return 0\n",
    "    return min(e1, e2) + 1 - s2\n",
    "\n",
    "def inter3d_vol(c1, c2):\n",
    "    return inter_len(*c1[:2], *c2[:2]) * inter_len(*c1[2:4], *c2[2:4]) * inter_len(*c1[4:], *c2[4:])\n",
    "\n",
    "\n",
    "inter3d_vol(coords[0][1], coords[1][1]), inter3d(coords[0][1], coords[1][1])"
   ]
  },
  {
   "cell_type": "code",
   "execution_count": 121,
   "metadata": {},
   "outputs": [
    {
     "data": {
      "text/plain": [
       "[((10, 11), (10, 11), (10, 11)),\n",
       " ((10, 11), (10, 11), (11, 12)),\n",
       " ((10, 11), (11, 12), (10, 11)),\n",
       " ((10, 11), (11, 12), (11, 12)),\n",
       " ((11, 12), (10, 11), (10, 11)),\n",
       " ((11, 12), (10, 11), (11, 12)),\n",
       " ((11, 12), (11, 12), (10, 11)),\n",
       " ((11, 12), (11, 12), (11, 12))]"
      ]
     },
     "execution_count": 121,
     "metadata": {},
     "output_type": "execute_result"
    }
   ],
   "source": [
    "def explode(cube, pt):\n",
    "    return [(cx, cy, cz)\n",
    "            for cx in ((cube[0], pt[0]), (pt[0], cube[1]))\n",
    "                for cy in ((cube[2], pt[1]), (pt[1], cube[3]))\n",
    "                    for cz in ((cube[4], pt[2]), (pt[2], cube[5]))]\n",
    "\n",
    "explode(coords[0][1], (11, 11, 11))"
   ]
  },
  {
   "cell_type": "code",
   "execution_count": 118,
   "metadata": {},
   "outputs": [
    {
     "name": "stdout",
     "output_type": "stream",
     "text": [
      "[10, 12, 10, 12, 10, 12]\n",
      "27\n",
      "[11, 13, 11, 13, 11, 13]\n",
      "adjust:  8\n",
      "62\n",
      "[9, 11, 9, 11, 9, 11]\n",
      "adjust:  -8\n",
      "adjust:  -1\n",
      "53\n",
      "[10, 10, 10, 10, 10, 10]\n",
      "adjust:  1\n",
      "adjust:  0\n",
      "adjust:  -1\n",
      "54\n"
     ]
    }
   ],
   "source": [
    "tot = 0\n",
    "\n",
    "for idx,(state, l) in enumerate(coords):\n",
    "    print(l)\n",
    "    for state_b, l_b in coords[:idx]:\n",
    "        print(\"adjust: \", state * state_b * inter3d_vol(l, l_b))\n",
    "        tot += state * state_b * inter3d_vol(l, l_b)\n",
    "        \n",
    "    if state > 0:\n",
    "        tot += (l[1]+1-l[0]) * (l[3]+1-l[2]) * (l[5]+1-l[4])\n",
    "    \n",
    "    print(tot)\n",
    "#     break\n"
   ]
  },
  {
   "cell_type": "code",
   "execution_count": null,
   "metadata": {},
   "outputs": [],
   "source": []
  }
 ],
 "metadata": {
  "kernelspec": {
   "display_name": "Python 3 (ipykernel)",
   "language": "python",
   "name": "python3"
  },
  "language_info": {
   "codemirror_mode": {
    "name": "ipython",
    "version": 3
   },
   "file_extension": ".py",
   "mimetype": "text/x-python",
   "name": "python",
   "nbconvert_exporter": "python",
   "pygments_lexer": "ipython3",
   "version": "3.10.8"
  }
 },
 "nbformat": 4,
 "nbformat_minor": 4
}
