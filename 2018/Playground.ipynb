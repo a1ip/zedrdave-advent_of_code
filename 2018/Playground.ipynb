{
 "cells": [
  {
   "cell_type": "code",
   "execution_count": 45,
   "metadata": {},
   "outputs": [],
   "source": [
    "from utils import *\n",
    "data = dl_input(8, year=2018)\n",
    "\n",
    "with open('08/input.txt', 'r') as f:\n",
    "    data = f.read()"
   ]
  },
  {
   "cell_type": "code",
   "execution_count": 20,
   "metadata": {},
   "outputs": [],
   "source": [
    "data = \"2 3 0 3 10 11 12 1 1 0 1 99 2 1 1 2\""
   ]
  },
  {
   "cell_type": "code",
   "execution_count": 125,
   "metadata": {
    "scrolled": false
   },
   "outputs": [
    {
     "name": "stdout",
     "output_type": "stream",
     "text": [
      "Part 1: 36566\n",
      "Part 2: 30548\n"
     ]
    }
   ],
   "source": [
    "def recur(N, part): \n",
    "    \n",
    "    n_children, n_meta, *N = N\n",
    "    \n",
    "    children = []\n",
    "    for _ in range(n_children):\n",
    "        N, child = recur(N, part)\n",
    "        children += [child]\n",
    "\n",
    "    if part == 1 or n_children == 0:\n",
    "        return N[n_meta:], sum(N[:n_meta]) + sum(children)\n",
    "    \n",
    "    return N[n_meta:], sum(children[i-1] for i in N[:n_meta] if 0 < i <= len(children))\n",
    "\n",
    "\n",
    "for p in [1, 2]:\n",
    "    print(f\"Part {p}:\", recur(map(int, data.split()), part=p)[1])"
   ]
  },
  {
   "cell_type": "code",
   "execution_count": 126,
   "metadata": {},
   "outputs": [
    {
     "name": "stdout",
     "output_type": "stream",
     "text": [
      "Part 1: 36566\n",
      "Part 2: 30548\n"
     ]
    }
   ],
   "source": [
    "# Approach 2\n",
    "# \n",
    "# Recursively build tree first\n",
    "\n",
    "from dataclasses import dataclass\n",
    "from typing import List, Union\n",
    "\n",
    "@dataclass\n",
    "class node:\n",
    "    meta: int = 0\n",
    "    children: List['node'] = ()\n",
    "        \n",
    "    def part_1(self) -> int:\n",
    "        return sum(self.meta) + sum(n.part_1() for n in self.children)\n",
    "\n",
    "    def part_2(self) -> int:\n",
    "        if self.children:\n",
    "            return sum(self.children[m-1].part_2() \n",
    "                       for m in self.meta if 0 < m <= len(self.children))\n",
    "        else:\n",
    "            return sum(self.meta)\n",
    "\n",
    "        \n",
    "def recur_tree(N): \n",
    "    n_children, n_meta, *N = N\n",
    "    \n",
    "    children = []\n",
    "    for _ in range(n_children):\n",
    "        N, child = recur_tree(N)\n",
    "        children += [child]\n",
    "\n",
    "    return N[n_meta:], node(meta=N[:n_meta], children=children)\n",
    "    \n",
    "tree = recur_tree(map(int, data.split()))[1]\n",
    "\n",
    "print(f\"Part 1:\", tree.part_1())\n",
    "print(f\"Part 2:\", tree.part_2())"
   ]
  },
  {
   "cell_type": "code",
   "execution_count": 21,
   "metadata": {},
   "outputs": [
    {
     "name": "stdout",
     "output_type": "stream",
     "text": [
      "Part 1: 138\n"
     ]
    }
   ],
   "source": [
    "def iter_process(N):\n",
    "    stack = []\n",
    "    meta = []\n",
    "    stack.append(N[:2])\n",
    "    N = N[2:]\n",
    "\n",
    "    while len(stack):\n",
    "        if stack[-1][0] == 0:\n",
    "            _, num_meta = stack.pop()\n",
    "            meta += N[:num_meta]\n",
    "            N = N[num_meta:]\n",
    "        else:\n",
    "            stack[-1][0] -= 1\n",
    "            stack.append(N[:2])\n",
    "            N = N[2:]\n",
    "            \n",
    "    print('Part 1:', sum(meta))\n",
    "    \n",
    "iter_process(list(map(int, data.split())))"
   ]
  },
  {
   "cell_type": "code",
   "execution_count": 80,
   "metadata": {},
   "outputs": [
    {
     "name": "stdout",
     "output_type": "stream",
     "text": [
      "Part 1: 36566\n",
      "Part 2: 30548\n"
     ]
    }
   ],
   "source": [
    "def iter_process(N, part):\n",
    "    num_nodes, num_meta, *N = N\n",
    "    stack = [[num_nodes, num_meta, []]]\n",
    "\n",
    "    while True:\n",
    "        if stack[-1][0] == 0:\n",
    "            _, num_meta, meta = stack.pop()\n",
    "            \n",
    "            if part == 1:\n",
    "                tot = sum(meta) + sum(N[:num_meta])\n",
    "            elif part == 2:\n",
    "                tot = sum([meta[i-1] for i in N[:num_meta] if 0 < i <= len(meta)])\n",
    "            \n",
    "            if not len(stack):\n",
    "                return tot\n",
    "            \n",
    "            stack[-1][2].append(tot)\n",
    "            N = N[num_meta:]\n",
    "        else:\n",
    "            stack[-1][0] -= 1\n",
    "            num_nodes, num_meta, *N = N\n",
    "\n",
    "            if num_nodes == 0:\n",
    "                stack[-1][2].append(sum(N[:num_meta]))\n",
    "                N = N[num_meta:]\n",
    "            else:\n",
    "                stack.append([num_nodes, num_meta, []])\n",
    "            \n",
    "    \n",
    "print(\"Part 1:\", iter_process(map(int, data.split()), part=1))\n",
    "print(\"Part 2:\", iter_process(map(int, data.split()), part=2))"
   ]
  },
  {
   "cell_type": "code",
   "execution_count": 106,
   "metadata": {},
   "outputs": [
    {
     "name": "stdout",
     "output_type": "stream",
     "text": [
      "Part 1: 36566\n",
      "Part 2: 30548\n"
     ]
    }
   ],
   "source": [
    "# Factored-to-death version:\n",
    "\n",
    "def iter_process(N, part):\n",
    "    stack = [[1, 0, []]]\n",
    "    \n",
    "    while True:\n",
    "        if stack[-1][0]:\n",
    "            stack[-1][0] -= 1\n",
    "            num_nodes, num_meta, *N = N\n",
    "            if num_nodes == 0:\n",
    "                tot = sum(N[:num_meta])\n",
    "        else:\n",
    "            num_nodes, num_meta, meta = stack.pop()\n",
    "            if not len(stack):\n",
    "                return meta[0]            \n",
    "            if part == 1:\n",
    "                tot = sum(meta) + sum(N[:num_meta])\n",
    "            elif part == 2:\n",
    "                tot = sum(meta[i-1] for i in N[:num_meta] if 0 < i <= len(meta))\n",
    "\n",
    "        if num_nodes == 0:\n",
    "            stack[-1][2].append(tot)\n",
    "            N = N[num_meta:]\n",
    "        else:\n",
    "            stack.append([num_nodes, num_meta, []])\n",
    "            \n",
    "    \n",
    "print(\"Part 1:\", iter_process(map(int, data.split()), part=1))\n",
    "print(\"Part 2:\", iter_process(map(int, data.split()), part=2))"
   ]
  },
  {
   "cell_type": "code",
   "execution_count": null,
   "metadata": {},
   "outputs": [],
   "source": []
  }
 ],
 "metadata": {
  "kernelspec": {
   "display_name": "Python 3 (ipykernel)",
   "language": "python",
   "name": "python3"
  },
  "language_info": {
   "codemirror_mode": {
    "name": "ipython",
    "version": 3
   },
   "file_extension": ".py",
   "mimetype": "text/x-python",
   "name": "python",
   "nbconvert_exporter": "python",
   "pygments_lexer": "ipython3",
   "version": "3.10.8"
  }
 },
 "nbformat": 4,
 "nbformat_minor": 4
}
