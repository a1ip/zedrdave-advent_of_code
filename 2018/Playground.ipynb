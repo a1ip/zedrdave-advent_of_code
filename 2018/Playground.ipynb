{
 "cells": [
  {
   "cell_type": "code",
   "execution_count": 68,
   "metadata": {},
   "outputs": [],
   "source": [
    "from utils import *\n",
    "data = dl_input(10, year=2018)\n",
    "\n",
    "with open('10/input.txt', 'r') as f:\n",
    "    data = f.read()"
   ]
  },
  {
   "cell_type": "code",
   "execution_count": 69,
   "metadata": {},
   "outputs": [],
   "source": [
    "# data = \"\"\"position=< 9,  1> velocity=< 0,  2>\n",
    "# position=< 7,  0> velocity=<-1,  0>\n",
    "# position=< 3, -2> velocity=<-1,  1>\n",
    "# position=< 6, 10> velocity=<-2, -1>\n",
    "# position=< 2, -4> velocity=< 2,  2>\n",
    "# position=<-6, 10> velocity=< 2, -2>\n",
    "# position=< 1,  8> velocity=< 1, -1>\n",
    "# position=< 1,  7> velocity=< 1,  0>\n",
    "# position=<-3, 11> velocity=< 1, -2>\n",
    "# position=< 7,  6> velocity=<-1, -1>\n",
    "# position=<-2,  3> velocity=< 1,  0>\n",
    "# position=<-4,  3> velocity=< 2,  0>\n",
    "# position=<10, -3> velocity=<-1,  1>\n",
    "# position=< 5, 11> velocity=< 1, -2>\n",
    "# position=< 4,  7> velocity=< 0, -1>\n",
    "# position=< 8, -2> velocity=< 0,  1>\n",
    "# position=<15,  0> velocity=<-2,  0>\n",
    "# position=< 1,  6> velocity=< 1,  0>\n",
    "# position=< 8,  9> velocity=< 0, -1>\n",
    "# position=< 3,  3> velocity=<-1,  1>\n",
    "# position=< 0,  5> velocity=< 0, -1>\n",
    "# position=<-2,  2> velocity=< 2,  0>\n",
    "# position=< 5, -2> velocity=< 1,  2>\n",
    "# position=< 1,  4> velocity=< 2,  1>\n",
    "# position=<-2,  7> velocity=< 2, -2>\n",
    "# position=< 3,  6> velocity=<-1, -1>\n",
    "# position=< 5,  0> velocity=< 1,  0>\n",
    "# position=<-6,  0> velocity=< 2,  0>\n",
    "# position=< 5,  9> velocity=< 1, -2>\n",
    "# position=<14,  7> velocity=<-2,  0>\n",
    "# position=<-3,  6> velocity=< 2, -1>\"\"\""
   ]
  },
  {
   "cell_type": "code",
   "execution_count": 70,
   "metadata": {},
   "outputs": [],
   "source": [
    "import re\n",
    "m = re.compile(r\"position=<( *[-\\d]+), *([-\\d]+)> velocity=< *([-\\d]+), *([-\\d]+)>\")\n",
    "\n",
    "data = [[int(i) for i in m.search(l).groups()] for l in  data.split('\\n')]"
   ]
  },
  {
   "cell_type": "code",
   "execution_count": null,
   "metadata": {},
   "outputs": [],
   "source": [
    "#using total squared distance to the center\n",
    "\n",
    "pos = [(x,y) for x,y,_,_ in data]\n",
    "vel = [(x,y) for _,_,x,y in data]\n",
    "\n",
    "last_dist = None\n",
    "\n",
    "for s in range(100000):\n",
    "#     dist = sum(xy**2 for p in pos for xy in p)\n",
    "    dist = max(y for _,y in pos) - min(y for _,y in pos)\n",
    "    if s%1000 == 0: print('#', dist)\n",
    "        \n",
    "    if last_dist is not None and dist > last_dist:\n",
    "        for m in range(5):\n",
    "            print(s-m, sum(xy**2 for p in pos for xy in p))\n",
    "            print_map(pos)\n",
    "            pos = [[p[0]-v[0], p[1]-v[1]] for p,v in zip(pos,vel)]\n",
    "        break\n",
    "        \n",
    "    last_dist = dist\n",
    "    pos = [[p[0]+v[0], p[1]+v[1]] for p,v in zip(pos,vel)]"
   ]
  },
  {
   "cell_type": "code",
   "execution_count": 99,
   "metadata": {
    "scrolled": false
   },
   "outputs": [
    {
     "name": "stdout",
     "output_type": "stream",
     "text": [
      "# 101059\n",
      "# 91059\n",
      "# 81059\n",
      "# 71059\n",
      "# 61059\n",
      "# 51059\n",
      "# 41059\n",
      "# 31059\n",
      "# 21059\n",
      "# 11059\n",
      "# 1059\n",
      "9\n",
      "part 2: 10105 \n",
      "part 1:\n",
      "######    ##    ######  ######  #####   #       ######   #### \n",
      "     #   #  #   #            #  #    #  #            #  #    #\n",
      "     #  #    #  #            #  #    #  #            #  #     \n",
      "    #   #    #  #           #   #    #  #           #   #     \n",
      "   #    #    #  #####      #    #####   #          #    #     \n",
      "  #     ######  #         #     #  #    #         #     #  ###\n",
      " #      #    #  #        #      #   #   #        #      #    #\n",
      "#       #    #  #       #       #   #   #       #       #    #\n",
      "#       #    #  #       #       #    #  #       #       #   ##\n",
      "######  #    #  ######  ######  #    #  ######  ######   ### #\n",
      "\n",
      "\n"
     ]
    }
   ],
   "source": [
    "#using max bounds\n",
    "\n",
    "pos = [(x,y) for x,y,_,_ in data]\n",
    "vel = [(x,y) for _,_,x,y in data]\n",
    "\n",
    "last_dist = None\n",
    "\n",
    "for s in range(100000):\n",
    "    dist = max(y for _,y in pos) - min(y for _,y in pos)\n",
    "    \n",
    "    if s%1000 == 0: print('#', dist)\n",
    "\n",
    "    if last_dist is not None and dist > last_dist:\n",
    "        pos = [[p[0]-v[0], p[1]-v[1]] for p,v in zip(pos,vel)]\n",
    "        print(\"part 2:\", s-1, \"\\npart 1:\")\n",
    "        print_map(pos)\n",
    "        break\n",
    "        \n",
    "    last_dist = dist\n",
    "    pos = [[p[0]+v[0], p[1]+v[1]] for p,v in zip(pos,vel)]"
   ]
  },
  {
   "cell_type": "code",
   "execution_count": 117,
   "metadata": {},
   "outputs": [
    {
     "name": "stdout",
     "output_type": "stream",
     "text": [
      "101059 10\n",
      "part 1: 10105\n",
      "######    ##    ######  ######  #####   #       ######   #### \n",
      "     #   #  #   #            #  #    #  #            #  #    #\n",
      "     #  #    #  #            #  #    #  #            #  #     \n",
      "    #   #    #  #           #   #    #  #           #   #     \n",
      "   #    #    #  #####      #    #####   #          #    #     \n",
      "  #     ######  #         #     #  #    #         #     #  ###\n",
      " #      #    #  #        #      #   #   #        #      #    #\n",
      "#       #    #  #       #       #   #   #       #       #    #\n",
      "#       #    #  #       #       #    #  #       #       #   ##\n",
      "######  #    #  ######  ######  #    #  ######  ######   ### #\n",
      "\n",
      "\n"
     ]
    }
   ],
   "source": [
    "pos = [(x,y) for x,y,_,_ in data]\n",
    "vel = [(x,y) for _,_,x,y in data]\n",
    "\n",
    "dist = max(y for _,y in pos) - min(y for _,y in pos)\n",
    "dist2 = max(y+vy for (_,y),(_,vy) in zip(pos, vel)) - min(y+vy for (_,y),(_,vy) in zip(pos, vel))\n",
    "print(dist, dist-dist2)\n",
    "\n",
    "t = int((dist - 9) / (dist-dist2))\n",
    "print(\"part 1:\", t)\n",
    "pos = [[p[0] + t*v[0], p[1] + t*v[1]] for p,v in zip(pos,vel)]\n",
    "\n",
    "print_map(pos)"
   ]
  },
  {
   "cell_type": "code",
   "execution_count": 80,
   "metadata": {
    "scrolled": false
   },
   "outputs": [],
   "source": [
    "from collections import defaultdict\n",
    "\n",
    "def print_map(pos):\n",
    "    mat = defaultdict(lambda: defaultdict(lambda: \" \"))\n",
    "    for x,y in pos:\n",
    "        mat[x][y] = '#'\n",
    "\n",
    "    for j in range(min(y for _,y in pos), max(y for _,y in pos)+1):\n",
    "        for i in range(min(x for x,_ in pos), max(x for x,_ in pos)+1):\n",
    "            print(mat[i][j], end=\"\")\n",
    "        print(\"\")\n",
    "    print(\"\\n\")"
   ]
  },
  {
   "cell_type": "code",
   "execution_count": 126,
   "metadata": {},
   "outputs": [
    {
     "name": "stdout",
     "output_type": "stream",
     "text": [
      "Part 1: 36566\n",
      "Part 2: 30548\n"
     ]
    }
   ],
   "source": [
    "# Approach 2\n",
    "# \n",
    "# Recursively build tree first\n",
    "\n",
    "from dataclasses import dataclass\n",
    "from typing import List, Union\n",
    "\n",
    "@dataclass\n",
    "class node:\n",
    "    meta: int = 0\n",
    "    children: List['node'] = ()\n",
    "        \n",
    "    def part_1(self) -> int:\n",
    "        return sum(self.meta) + sum(n.part_1() for n in self.children)\n",
    "\n",
    "    def part_2(self) -> int:\n",
    "        if self.children:\n",
    "            return sum(self.children[m-1].part_2() \n",
    "                       for m in self.meta if 0 < m <= len(self.children))\n",
    "        else:\n",
    "            return sum(self.meta)\n",
    "\n",
    "        \n",
    "def recur_tree(N): \n",
    "    n_children, n_meta, *N = N\n",
    "    \n",
    "    children = []\n",
    "    for _ in range(n_children):\n",
    "        N, child = recur_tree(N)\n",
    "        children += [child]\n",
    "\n",
    "    return N[n_meta:], node(meta=N[:n_meta], children=children)\n",
    "    \n",
    "tree = recur_tree(map(int, data.split()))[1]\n",
    "\n",
    "print(f\"Part 1:\", tree.part_1())\n",
    "print(f\"Part 2:\", tree.part_2())"
   ]
  },
  {
   "cell_type": "code",
   "execution_count": 21,
   "metadata": {},
   "outputs": [
    {
     "name": "stdout",
     "output_type": "stream",
     "text": [
      "Part 1: 138\n"
     ]
    }
   ],
   "source": [
    "def iter_process(N):\n",
    "    stack = []\n",
    "    meta = []\n",
    "    stack.append(N[:2])\n",
    "    N = N[2:]\n",
    "\n",
    "    while len(stack):\n",
    "        if stack[-1][0] == 0:\n",
    "            _, num_meta = stack.pop()\n",
    "            meta += N[:num_meta]\n",
    "            N = N[num_meta:]\n",
    "        else:\n",
    "            stack[-1][0] -= 1\n",
    "            stack.append(N[:2])\n",
    "            N = N[2:]\n",
    "            \n",
    "    print('Part 1:', sum(meta))\n",
    "    \n",
    "iter_process(list(map(int, data.split())))"
   ]
  },
  {
   "cell_type": "code",
   "execution_count": 80,
   "metadata": {},
   "outputs": [
    {
     "name": "stdout",
     "output_type": "stream",
     "text": [
      "Part 1: 36566\n",
      "Part 2: 30548\n"
     ]
    }
   ],
   "source": [
    "def iter_process(N, part):\n",
    "    num_nodes, num_meta, *N = N\n",
    "    stack = [[num_nodes, num_meta, []]]\n",
    "\n",
    "    while True:\n",
    "        if stack[-1][0] == 0:\n",
    "            _, num_meta, meta = stack.pop()\n",
    "            \n",
    "            if part == 1:\n",
    "                tot = sum(meta) + sum(N[:num_meta])\n",
    "            elif part == 2:\n",
    "                tot = sum([meta[i-1] for i in N[:num_meta] if 0 < i <= len(meta)])\n",
    "            \n",
    "            if not len(stack):\n",
    "                return tot\n",
    "            \n",
    "            stack[-1][2].append(tot)\n",
    "            N = N[num_meta:]\n",
    "        else:\n",
    "            stack[-1][0] -= 1\n",
    "            num_nodes, num_meta, *N = N\n",
    "\n",
    "            if num_nodes == 0:\n",
    "                stack[-1][2].append(sum(N[:num_meta]))\n",
    "                N = N[num_meta:]\n",
    "            else:\n",
    "                stack.append([num_nodes, num_meta, []])\n",
    "            \n",
    "    \n",
    "print(\"Part 1:\", iter_process(map(int, data.split()), part=1))\n",
    "print(\"Part 2:\", iter_process(map(int, data.split()), part=2))"
   ]
  },
  {
   "cell_type": "code",
   "execution_count": 106,
   "metadata": {},
   "outputs": [
    {
     "name": "stdout",
     "output_type": "stream",
     "text": [
      "Part 1: 36566\n",
      "Part 2: 30548\n"
     ]
    }
   ],
   "source": [
    "# Factored-to-death version:\n",
    "\n",
    "def iter_process(N, part):\n",
    "    stack = [[1, 0, []]]\n",
    "    \n",
    "    while True:\n",
    "        if stack[-1][0]:\n",
    "            stack[-1][0] -= 1\n",
    "            num_nodes, num_meta, *N = N\n",
    "            if num_nodes == 0:\n",
    "                tot = sum(N[:num_meta])\n",
    "        else:\n",
    "            num_nodes, num_meta, meta = stack.pop()\n",
    "            if not len(stack):\n",
    "                return meta[0]            \n",
    "            if part == 1:\n",
    "                tot = sum(meta) + sum(N[:num_meta])\n",
    "            elif part == 2:\n",
    "                tot = sum(meta[i-1] for i in N[:num_meta] if 0 < i <= len(meta))\n",
    "\n",
    "        if num_nodes == 0:\n",
    "            stack[-1][2].append(tot)\n",
    "            N = N[num_meta:]\n",
    "        else:\n",
    "            stack.append([num_nodes, num_meta, []])\n",
    "            \n",
    "    \n",
    "print(\"Part 1:\", iter_process(map(int, data.split()), part=1))\n",
    "print(\"Part 2:\", iter_process(map(int, data.split()), part=2))"
   ]
  },
  {
   "cell_type": "code",
   "execution_count": null,
   "metadata": {},
   "outputs": [],
   "source": []
  }
 ],
 "metadata": {
  "kernelspec": {
   "display_name": "Python 3 (ipykernel)",
   "language": "python",
   "name": "python3"
  },
  "language_info": {
   "codemirror_mode": {
    "name": "ipython",
    "version": 3
   },
   "file_extension": ".py",
   "mimetype": "text/x-python",
   "name": "python",
   "nbconvert_exporter": "python",
   "pygments_lexer": "ipython3",
   "version": "3.10.8"
  }
 },
 "nbformat": 4,
 "nbformat_minor": 4
}
